{
 "cells": [
  {
   "cell_type": "markdown",
   "metadata": {},
   "source": [
    "## Desafío 3 - DH - ML Clasificación"
   ]
  },
  {
   "cell_type": "markdown",
   "metadata": {},
   "source": [
    "<a id=\"tabla_contenidos\"></a> \n",
    "### Tabla de Contenidos\n",
    "\n",
    "#### <a href='#section_proposito'>0. Propósito de esta Notebook</a>\n",
    "- ##### <a href='#section_motivacion'>0.1 Motivación</a>\n",
    "- ##### <a href='#section_dataset_info'>0.2 Detalles del Dataset</a>\n",
    "- ##### <a href='#section_antecedentes'>0.3 Estado del Arte</a>\n",
    "\n",
    "#### <a href='#section_preparacion'>1. Estudio del Dataset</a>\n",
    "- ##### <a href='#section_importacion'>1.1 Importación</a>\n",
    "- ##### <a href='#section_analisis'>1.2 Análisis Exploratorio</a>\n",
    "- ##### <a href='#section_split'>1.3 Selección de Target</a>\n",
    "\n",
    "#### <a href='#section_algoritmos'>2. Algoritmos y predicción</a>\n",
    "- ##### <a href='#acon_dataset'>2.1 Acondicionamiento del Dataset</a>\n",
    "- ##### <a href='#knn'>2.2 K Nearest Neighbors (KNN)</a>\n",
    "- ##### <a href='#reg_log'>2.3 Regresión Logística</a>\n",
    "- ##### <a href='#resultados'>2.4 Comparación de Resultados</a>\n",
    "\n",
    "#### <a href='#section_consolidacion'>3. Consolidación</a>\n",
    "- ##### <a href='#pipe'>3.1 Pipelines</a>\n",
    "- ##### <a href='#conclusion'>3.2 Conclusión</a>"
   ]
  },
  {
   "cell_type": "markdown",
   "metadata": {},
   "source": [
    "<hr>"
   ]
  },
  {
   "cell_type": "markdown",
   "metadata": {},
   "source": [
    "### <a id='section_proposito'>0. Propósito de esta Notebook</a>"
   ]
  },
  {
   "cell_type": "markdown",
   "metadata": {},
   "source": [
    "#### <a id=\"section_motivacion\">0.1 Motivación</a> "
   ]
  },
  {
   "cell_type": "code",
   "execution_count": null,
   "metadata": {},
   "outputs": [],
   "source": []
  },
  {
   "cell_type": "code",
   "execution_count": null,
   "metadata": {},
   "outputs": [],
   "source": []
  },
  {
   "cell_type": "markdown",
   "metadata": {},
   "source": [
    "<hr>"
   ]
  },
  {
   "cell_type": "markdown",
   "metadata": {},
   "source": [
    "<a id='section_preparacion'></a> \n",
    "### 1. Preparación del Dataset"
   ]
  },
  {
   "cell_type": "markdown",
   "metadata": {},
   "source": [
    "### <a id=\"section_importacion\">1.1 Importación de datos</a> "
   ]
  },
  {
   "cell_type": "markdown",
   "metadata": {},
   "source": [
    "#### Importación de datos de población y resultados de encuesta\n",
    "Los datos de población nos permitirán realizar una exploración geográfica de la ubicación de los encuestados"
   ]
  },
  {
   "cell_type": "code",
   "execution_count": 1,
   "metadata": {},
   "outputs": [],
   "source": [
    "# librerías\n",
    "import numpy as np\n",
    "import pandas as pd\n",
    "import unicodedata"
   ]
  },
  {
   "cell_type": "code",
   "execution_count": 2,
   "metadata": {},
   "outputs": [],
   "source": [
    "resultados_del_test = pd.read_csv(\"data/resultados-del-test.csv\", delimiter = \",\")"
   ]
  },
  {
   "cell_type": "code",
   "execution_count": 3,
   "metadata": {},
   "outputs": [],
   "source": [
    "poblacion_por_barrio = pd.read_csv(\"data/caba_pob_barrios_2010.csv\")"
   ]
  },
  {
   "cell_type": "markdown",
   "metadata": {},
   "source": [
    "#### Unifico en un dataset\n",
    "Elimino tildes en los nombres de los barrios de cada dataset y agrego población por barrio al resultado de las encuestas"
   ]
  },
  {
   "cell_type": "code",
   "execution_count": 4,
   "metadata": {},
   "outputs": [],
   "source": [
    "def elimina_tildes(cadena):\n",
    "    s = ''.join((c for c in unicodedata.normalize('NFD',cadena) if unicodedata.category(c) != 'Mn'))\n",
    "    return s"
   ]
  },
  {
   "cell_type": "code",
   "execution_count": 5,
   "metadata": {},
   "outputs": [],
   "source": [
    "poblacion_por_barrio.BARRIO = poblacion_por_barrio.BARRIO.apply(elimina_tildes).apply(lambda barrio: barrio.capitalize())"
   ]
  },
  {
   "cell_type": "code",
   "execution_count": 6,
   "metadata": {},
   "outputs": [],
   "source": [
    "resultados_del_test.barrio = resultados_del_test.barrio.apply(elimina_tildes).apply(lambda barrio: barrio.capitalize())"
   ]
  },
  {
   "cell_type": "code",
   "execution_count": 7,
   "metadata": {},
   "outputs": [],
   "source": [
    "poblacion_por_barrio.columns = ['barrio', 'poblacion']"
   ]
  },
  {
   "cell_type": "code",
   "execution_count": 8,
   "metadata": {},
   "outputs": [],
   "source": [
    "poblacion_por_barrio = poblacion_por_barrio.set_index('barrio')"
   ]
  },
  {
   "cell_type": "code",
   "execution_count": 9,
   "metadata": {},
   "outputs": [],
   "source": [
    "def obtener_poblacion_por_barrio(barrio):\n",
    "    return poblacion_por_barrio.loc[barrio].poblacion"
   ]
  },
  {
   "cell_type": "code",
   "execution_count": 10,
   "metadata": {},
   "outputs": [],
   "source": [
    "def imputar_barrio(barrio):\n",
    "    barrios = poblacion_por_barrio.index.tolist()\n",
    "    if barrio == \"La boca\": return \"Boca\"\n",
    "    if barrio == \"Montserrat\": return \"Monserrat\"\n",
    "    if barrio == \"Villa general mitre\": return \"Villa gral. mitre\"\n",
    "    if barrio == \"La paternal\": return \"Paternal\"\n",
    "    if barrio == \"Otro\": return np.random.choice(barrios)\n",
    "    return barrio"
   ]
  },
  {
   "cell_type": "code",
   "execution_count": 11,
   "metadata": {},
   "outputs": [],
   "source": [
    "resultados_del_test[\"barrio_completo\"] = resultados_del_test.barrio.apply(imputar_barrio)"
   ]
  },
  {
   "cell_type": "code",
   "execution_count": 12,
   "metadata": {},
   "outputs": [],
   "source": [
    "resultados_del_test[\"poblacion_por_barrio\"] = resultados_del_test.barrio_completo.apply(obtener_poblacion_por_barrio)"
   ]
  },
  {
   "cell_type": "markdown",
   "metadata": {},
   "source": [
    "#### Exporto y resguardo el dataset unificado"
   ]
  },
  {
   "cell_type": "code",
   "execution_count": 13,
   "metadata": {},
   "outputs": [],
   "source": [
    "resultados_del_test.to_csv(\"data/dataset_joined.csv\")"
   ]
  },
  {
   "cell_type": "markdown",
   "metadata": {},
   "source": [
    "### <a id=\"section_analisis\">1.2 Análisis Exploratorio</a> "
   ]
  },
  {
   "cell_type": "markdown",
   "metadata": {},
   "source": [
    "Importo el dataset unificado"
   ]
  },
  {
   "cell_type": "code",
   "execution_count": 14,
   "metadata": {},
   "outputs": [
    {
     "data": {
      "text/html": [
       "<div>\n",
       "<style scoped>\n",
       "    .dataframe tbody tr th:only-of-type {\n",
       "        vertical-align: middle;\n",
       "    }\n",
       "\n",
       "    .dataframe tbody tr th {\n",
       "        vertical-align: top;\n",
       "    }\n",
       "\n",
       "    .dataframe thead th {\n",
       "        text-align: right;\n",
       "    }\n",
       "</style>\n",
       "<table border=\"1\" class=\"dataframe\">\n",
       "  <thead>\n",
       "    <tr style=\"text-align: right;\">\n",
       "      <th></th>\n",
       "      <th>fecha</th>\n",
       "      <th>hora</th>\n",
       "      <th>edad</th>\n",
       "      <th>genero</th>\n",
       "      <th>barrio</th>\n",
       "      <th>pregunta_1</th>\n",
       "      <th>pregunta_2</th>\n",
       "      <th>pregunta_3</th>\n",
       "      <th>pregunta_4</th>\n",
       "      <th>pregunta_5</th>\n",
       "      <th>pregunta_6</th>\n",
       "      <th>pregunta_7</th>\n",
       "      <th>pregunta_8</th>\n",
       "      <th>pregunta_9</th>\n",
       "      <th>pregunta_10</th>\n",
       "      <th>pregunta_11</th>\n",
       "      <th>pregunta_12</th>\n",
       "      <th>pregunta_13</th>\n",
       "      <th>barrio_completo</th>\n",
       "      <th>poblacion_por_barrio</th>\n",
       "    </tr>\n",
       "  </thead>\n",
       "  <tbody>\n",
       "    <tr>\n",
       "      <th>0</th>\n",
       "      <td>2019-06-14</td>\n",
       "      <td>09:09:00</td>\n",
       "      <td>27</td>\n",
       "      <td>Mujer</td>\n",
       "      <td>Constitucion</td>\n",
       "      <td>A</td>\n",
       "      <td>A</td>\n",
       "      <td>A</td>\n",
       "      <td>B</td>\n",
       "      <td>A</td>\n",
       "      <td>B</td>\n",
       "      <td>C</td>\n",
       "      <td>C</td>\n",
       "      <td>B</td>\n",
       "      <td>C</td>\n",
       "      <td>B</td>\n",
       "      <td>C</td>\n",
       "      <td>C</td>\n",
       "      <td>Constitucion</td>\n",
       "      <td>44107</td>\n",
       "    </tr>\n",
       "    <tr>\n",
       "      <th>1</th>\n",
       "      <td>2019-06-13</td>\n",
       "      <td>23:20:00</td>\n",
       "      <td>17</td>\n",
       "      <td>Mujer</td>\n",
       "      <td>Otro</td>\n",
       "      <td>A</td>\n",
       "      <td>B</td>\n",
       "      <td>B</td>\n",
       "      <td>B</td>\n",
       "      <td>B</td>\n",
       "      <td>C</td>\n",
       "      <td>C</td>\n",
       "      <td>B</td>\n",
       "      <td>B</td>\n",
       "      <td>C</td>\n",
       "      <td>B</td>\n",
       "      <td>C</td>\n",
       "      <td>C</td>\n",
       "      <td>Parque avellaneda</td>\n",
       "      <td>53229</td>\n",
       "    </tr>\n",
       "    <tr>\n",
       "      <th>2</th>\n",
       "      <td>2019-06-13</td>\n",
       "      <td>16:33:00</td>\n",
       "      <td>15</td>\n",
       "      <td>Mujer</td>\n",
       "      <td>Recoleta</td>\n",
       "      <td>B</td>\n",
       "      <td>B</td>\n",
       "      <td>C</td>\n",
       "      <td>B</td>\n",
       "      <td>C</td>\n",
       "      <td>B</td>\n",
       "      <td>B</td>\n",
       "      <td>A</td>\n",
       "      <td>A</td>\n",
       "      <td>A</td>\n",
       "      <td>A</td>\n",
       "      <td>A</td>\n",
       "      <td>A</td>\n",
       "      <td>Recoleta</td>\n",
       "      <td>157932</td>\n",
       "    </tr>\n",
       "  </tbody>\n",
       "</table>\n",
       "</div>"
      ],
      "text/plain": [
       "        fecha      hora  edad genero        barrio pregunta_1 pregunta_2  \\\n",
       "0  2019-06-14  09:09:00    27  Mujer  Constitucion          A          A   \n",
       "1  2019-06-13  23:20:00    17  Mujer          Otro          A          B   \n",
       "2  2019-06-13  16:33:00    15  Mujer      Recoleta          B          B   \n",
       "\n",
       "  pregunta_3 pregunta_4 pregunta_5 pregunta_6 pregunta_7 pregunta_8  \\\n",
       "0          A          B          A          B          C          C   \n",
       "1          B          B          B          C          C          B   \n",
       "2          C          B          C          B          B          A   \n",
       "\n",
       "  pregunta_9 pregunta_10 pregunta_11 pregunta_12 pregunta_13  \\\n",
       "0          B           C           B           C           C   \n",
       "1          B           C           B           C           C   \n",
       "2          A           A           A           A           A   \n",
       "\n",
       "     barrio_completo  poblacion_por_barrio  \n",
       "0       Constitucion                 44107  \n",
       "1  Parque avellaneda                 53229  \n",
       "2           Recoleta                157932  "
      ]
     },
     "execution_count": 14,
     "metadata": {},
     "output_type": "execute_result"
    }
   ],
   "source": [
    "dataset = pd.read_csv(\"data/dataset_joined.csv\", delimiter = \",\",  index_col = \"Unnamed: 0\")\n",
    "dataset.head(3)"
   ]
  },
  {
   "cell_type": "code",
   "execution_count": 15,
   "metadata": {},
   "outputs": [
    {
     "name": "stdout",
     "output_type": "stream",
     "text": [
      "<class 'pandas.core.frame.DataFrame'>\n",
      "Int64Index: 5676 entries, 0 to 5675\n",
      "Data columns (total 20 columns):\n",
      " #   Column                Non-Null Count  Dtype \n",
      "---  ------                --------------  ----- \n",
      " 0   fecha                 5676 non-null   object\n",
      " 1   hora                  5676 non-null   object\n",
      " 2   edad                  5676 non-null   int64 \n",
      " 3   genero                5676 non-null   object\n",
      " 4   barrio                5676 non-null   object\n",
      " 5   pregunta_1            5676 non-null   object\n",
      " 6   pregunta_2            5676 non-null   object\n",
      " 7   pregunta_3            5676 non-null   object\n",
      " 8   pregunta_4            5676 non-null   object\n",
      " 9   pregunta_5            5676 non-null   object\n",
      " 10  pregunta_6            5676 non-null   object\n",
      " 11  pregunta_7            5676 non-null   object\n",
      " 12  pregunta_8            5676 non-null   object\n",
      " 13  pregunta_9            5676 non-null   object\n",
      " 14  pregunta_10           5676 non-null   object\n",
      " 15  pregunta_11           5676 non-null   object\n",
      " 16  pregunta_12           5676 non-null   object\n",
      " 17  pregunta_13           5676 non-null   object\n",
      " 18  barrio_completo       5676 non-null   object\n",
      " 19  poblacion_por_barrio  5676 non-null   int64 \n",
      "dtypes: int64(2), object(18)\n",
      "memory usage: 931.2+ KB\n"
     ]
    }
   ],
   "source": [
    "dataset.info()"
   ]
  },
  {
   "cell_type": "markdown",
   "metadata": {},
   "source": [
    "#### Visualizamos los nulos"
   ]
  },
  {
   "cell_type": "code",
   "execution_count": 16,
   "metadata": {},
   "outputs": [],
   "source": [
    "### librerías de visualización\n",
    "import matplotlib.pyplot as plt\n",
    "import seaborn as sns"
   ]
  },
  {
   "cell_type": "code",
   "execution_count": 17,
   "metadata": {},
   "outputs": [],
   "source": [
    "dataset_columnas = dataset[[\"fecha\",'edad', 'genero', 'barrio','barrio_completo','poblacion_por_barrio']]"
   ]
  },
  {
   "cell_type": "code",
   "execution_count": 18,
   "metadata": {},
   "outputs": [
    {
     "data": {
      "text/markdown": [
       "* ```fecha``` tiene 0 nulos, lo cual representa el 0.00%"
      ],
      "text/plain": [
       "<IPython.core.display.Markdown object>"
      ]
     },
     "metadata": {},
     "output_type": "display_data"
    },
    {
     "data": {
      "text/markdown": [
       "* ```edad``` tiene 0 nulos, lo cual representa el 0.00%"
      ],
      "text/plain": [
       "<IPython.core.display.Markdown object>"
      ]
     },
     "metadata": {},
     "output_type": "display_data"
    },
    {
     "data": {
      "text/markdown": [
       "* ```genero``` tiene 0 nulos, lo cual representa el 0.00%"
      ],
      "text/plain": [
       "<IPython.core.display.Markdown object>"
      ]
     },
     "metadata": {},
     "output_type": "display_data"
    },
    {
     "data": {
      "text/markdown": [
       "* ```barrio``` tiene 0 nulos, lo cual representa el 0.00%"
      ],
      "text/plain": [
       "<IPython.core.display.Markdown object>"
      ]
     },
     "metadata": {},
     "output_type": "display_data"
    },
    {
     "data": {
      "text/markdown": [
       "* ```barrio_completo``` tiene 0 nulos, lo cual representa el 0.00%"
      ],
      "text/plain": [
       "<IPython.core.display.Markdown object>"
      ]
     },
     "metadata": {},
     "output_type": "display_data"
    },
    {
     "data": {
      "text/markdown": [
       "* ```poblacion_por_barrio``` tiene 0 nulos, lo cual representa el 0.00%"
      ],
      "text/plain": [
       "<IPython.core.display.Markdown object>"
      ]
     },
     "metadata": {},
     "output_type": "display_data"
    }
   ],
   "source": [
    "from IPython.display import Markdown, display\n",
    "\n",
    "nulls_by_column = dataset_columnas.isnull().sum()\n",
    "dataset_size = dataset.shape[0]\n",
    "\n",
    "for column in nulls_by_column.index:\n",
    "    column_nulls = nulls_by_column[column]\n",
    "    null_percentage = 100 * column_nulls / dataset_size\n",
    "    display(Markdown(f\"* ```{column}``` tiene {column_nulls} nulos, lo cual representa el {null_percentage:.2f}%\"))"
   ]
  },
  {
   "cell_type": "markdown",
   "metadata": {},
   "source": [
    "#### Barrio de los encuestados"
   ]
  },
  {
   "cell_type": "code",
   "execution_count": 19,
   "metadata": {},
   "outputs": [],
   "source": [
    "barrio = dataset.barrio.value_counts().head(5)"
   ]
  },
  {
   "cell_type": "code",
   "execution_count": 20,
   "metadata": {},
   "outputs": [
    {
     "data": {
      "text/plain": [
       "<matplotlib.axes._subplots.AxesSubplot at 0x7ff5a226cb10>"
      ]
     },
     "execution_count": 20,
     "metadata": {},
     "output_type": "execute_result"
    },
    {
     "data": {
      "image/png": "[encoded data removed]",
      "text/plain": [
       "<Figure size 432x288 with 1 Axes>"
      ]
     },
     "metadata": {
      "needs_background": "light"
     },
     "output_type": "display_data"
    }
   ],
   "source": [
    "sns.barplot(x=barrio.index, y=barrio)"
   ]
  },
  {
   "cell_type": "markdown",
   "metadata": {},
   "source": [
    "Vemos los primeros quince barrios con más encuestados"
   ]
  },
  {
   "cell_type": "code",
   "execution_count": 136,
   "metadata": {
    "scrolled": true
   },
   "outputs": [
    {
     "data": {
      "text/plain": [
       "<matplotlib.axes._subplots.AxesSubplot at 0x7ff59d9cc910>"
      ]
     },
     "execution_count": 136,
     "metadata": {},
     "output_type": "execute_result"
    },
    {
     "data": {
      "image/png": "[encoded data removed]",
      "text/plain": [
       "<Figure size 432x288 with 1 Axes>"
      ]
     },
     "metadata": {},
     "output_type": "display_data"
    }
   ],
   "source": [
    "sns.countplot(x='genero', data=dataset)"
   ]
  },
  {
   "cell_type": "markdown",
   "metadata": {},
   "source": [
    "#### Ploteamos cantidad de participantes de encuesta por barrio"
   ]
  },
  {
   "cell_type": "code",
   "execution_count": 22,
   "metadata": {},
   "outputs": [
    {
     "data": {
      "text/plain": [
       "Almagro      379\n",
       "Belgrano     348\n",
       "Palermo      329\n",
       "Caballito    301\n",
       "Agronomia    275\n",
       "Name: barrio_completo, dtype: int64"
      ]
     },
     "execution_count": 22,
     "metadata": {},
     "output_type": "execute_result"
    }
   ],
   "source": [
    "porbarrio = dataset.barrio_completo.value_counts()\n",
    "#porbarrio = barioss.rename_axis('BARRIO').reset_index(name='counts')\n",
    "porbarrio.head(5)"
   ]
  },
  {
   "cell_type": "code",
   "execution_count": 23,
   "metadata": {},
   "outputs": [],
   "source": [
    "porbarrio = porbarrio.to_frame().reset_index()"
   ]
  },
  {
   "cell_type": "code",
   "execution_count": 24,
   "metadata": {},
   "outputs": [
    {
     "data": {
      "text/plain": [
       "<matplotlib.legend.Legend at 0x7ff5a198c6d0>"
      ]
     },
     "execution_count": 24,
     "metadata": {},
     "output_type": "execute_result"
    },
    {
     "data": {
      "image/png": "[encoded data removed]",
      "text/plain": [
       "<Figure size 576x432 with 1 Axes>"
      ]
     },
     "metadata": {},
     "output_type": "display_data"
    }
   ],
   "source": [
    "labels = dataset.barrio.value_counts(normalize=True).index[:14]\n",
    "sizes = list(dataset.barrio.value_counts(normalize=True)[:14])\n",
    "\n",
    "figura, axis = plt.subplots(figsize=(8,6))\n",
    "axis.pie(sizes)\n",
    "axis.axis('equal') \n",
    "axis.set_title('Género de encuestados')\n",
    "axis.legend(labels)"
   ]
  },
  {
   "cell_type": "markdown",
   "metadata": {},
   "source": [
    "#### Visualizamos las edades"
   ]
  },
  {
   "cell_type": "code",
   "execution_count": 25,
   "metadata": {},
   "outputs": [
    {
     "data": {
      "image/png": "[encoded data removed]",
      "text/plain": [
       "<Figure size 432x288 with 1 Axes>"
      ]
     },
     "metadata": {
      "needs_background": "light"
     },
     "output_type": "display_data"
    }
   ],
   "source": [
    "dataset.edad.hist(bins=150);"
   ]
  },
  {
   "cell_type": "markdown",
   "metadata": {},
   "source": [
    "#####  Visualizamos outliers"
   ]
  },
  {
   "cell_type": "code",
   "execution_count": 26,
   "metadata": {},
   "outputs": [
    {
     "data": {
      "image/png": "[encoded data removed]",
      "text/plain": [
       "<Figure size 576x432 with 1 Axes>"
      ]
     },
     "metadata": {
      "needs_background": "light"
     },
     "output_type": "display_data"
    }
   ],
   "source": [
    "plt.figure(figsize=(8, 6))\n",
    "plt.hist(dataset.edad, bins=150);\n",
    "plt.annotate('¿Qué hacemos con esto?', xy=(15, 50), xytext=(2.5, 300),arrowprops=dict(facecolor='black', shrink=15), fontsize=16)\n",
    "plt.annotate('¿y esto?', xy=(100, 50), xytext=(78, 250), arrowprops=dict(facecolor='black', shrink=15), fontsize=16);\n",
    "plt.show()"
   ]
  },
  {
   "cell_type": "code",
   "execution_count": 27,
   "metadata": {},
   "outputs": [
    {
     "data": {
      "text/plain": [
       "<matplotlib.axes._subplots.AxesSubplot at 0x7ff5a6b9cd50>"
      ]
     },
     "execution_count": 27,
     "metadata": {},
     "output_type": "execute_result"
    },
    {
     "data": {
      "image/png": "[encoded data removed]",
      "text/plain": [
       "<Figure size 432x288 with 1 Axes>"
      ]
     },
     "metadata": {
      "needs_background": "light"
     },
     "output_type": "display_data"
    }
   ],
   "source": [
    "sns.boxplot(dataset.edad)"
   ]
  },
  {
   "cell_type": "markdown",
   "metadata": {},
   "source": [
    "##### Quitamos los outliers"
   ]
  },
  {
   "cell_type": "markdown",
   "metadata": {},
   "source": [
    "Vemos como quedaria la distribucion si usamos los rangos intercuartiles para quitar outliers"
   ]
  },
  {
   "cell_type": "code",
   "execution_count": 28,
   "metadata": {},
   "outputs": [],
   "source": [
    "dataset_edad = dataset[\"edad\"]"
   ]
  },
  {
   "cell_type": "code",
   "execution_count": 29,
   "metadata": {},
   "outputs": [
    {
     "data": {
      "image/png": "[encoded data removed]",
      "text/plain": [
       "<Figure size 432x288 with 1 Axes>"
      ]
     },
     "metadata": {
      "needs_background": "light"
     },
     "output_type": "display_data"
    }
   ],
   "source": [
    "q1 = dataset_edad.quantile(0.25)\n",
    "q2 = dataset_edad.quantile(0.5)\n",
    "q3 = dataset_edad.quantile(0.75)\n",
    "\n",
    "iqr = q3 - q1\n",
    "\n",
    "up_threshold = q3 + 1.5 * iqr\n",
    "low_threshold = q1 - 1.5* iqr\n",
    "\n",
    "no_outliers_mask = (dataset_edad > low_threshold) & (dataset_edad < up_threshold)\n",
    "\n",
    "ax = sns.boxplot(dataset_edad[no_outliers_mask], orient = 'h').set(\n",
    "    xlabel='', \n",
    "    ylabel='Edad'\n",
    ")"
   ]
  },
  {
   "cell_type": "code",
   "execution_count": 30,
   "metadata": {},
   "outputs": [
    {
     "name": "stdout",
     "output_type": "stream",
     "text": [
      "El skew es 0.5893768101027447 cuando quitamos los outliers\n"
     ]
    }
   ],
   "source": [
    "print(f\"El skew es {dataset_edad[no_outliers_mask].skew()} cuando quitamos los outliers\")"
   ]
  },
  {
   "cell_type": "code",
   "execution_count": 31,
   "metadata": {},
   "outputs": [
    {
     "data": {
      "text/plain": [
       "count    5561.000000\n",
       "mean       27.400108\n",
       "std         7.758342\n",
       "min         4.000000\n",
       "25%        21.000000\n",
       "50%        26.000000\n",
       "75%        32.000000\n",
       "max        50.000000\n",
       "Name: edad, dtype: float64"
      ]
     },
     "execution_count": 31,
     "metadata": {},
     "output_type": "execute_result"
    }
   ],
   "source": [
    "dataset_edad[no_outliers_mask].describe()"
   ]
  },
  {
   "cell_type": "code",
   "execution_count": 32,
   "metadata": {},
   "outputs": [
    {
     "name": "stdout",
     "output_type": "stream",
     "text": [
      "\n",
      "Sin outliers hemos tomado un 97.97% de los datos que teníamos, considerando solamente 115 registros como outliers\n",
      "\n"
     ]
    }
   ],
   "source": [
    "n_without_outliers = dataset_edad[no_outliers_mask].shape[0]\n",
    "n_including_outliers = dataset_edad.shape[0]\n",
    "\n",
    "taken_percentage = 100 * n_without_outliers / n_including_outliers\n",
    "print(f\"\"\"\n",
    "Sin outliers hemos tomado un {taken_percentage:.2f}% de los datos que teníamos, considerando solamente {n_including_outliers - n_without_outliers} registros como outliers\n",
    "\"\"\")"
   ]
  },
  {
   "cell_type": "markdown",
   "metadata": {},
   "source": [
    "#### Género de encuestados"
   ]
  },
  {
   "cell_type": "code",
   "execution_count": 33,
   "metadata": {},
   "outputs": [
    {
     "data": {
      "text/plain": [
       "Mujer     4736\n",
       "Hombre     912\n",
       "Otro        28\n",
       "Name: genero, dtype: int64"
      ]
     },
     "execution_count": 33,
     "metadata": {},
     "output_type": "execute_result"
    }
   ],
   "source": [
    "dataset[\"genero\"].value_counts()"
   ]
  },
  {
   "cell_type": "code",
   "execution_count": 34,
   "metadata": {},
   "outputs": [
    {
     "data": {
      "text/plain": [
       "<matplotlib.legend.Legend at 0x7ff5a160c650>"
      ]
     },
     "execution_count": 34,
     "metadata": {},
     "output_type": "execute_result"
    },
    {
     "data": {
      "image/png": "[encoded data removed]",
      "text/plain": [
       "<Figure size 576x432 with 1 Axes>"
      ]
     },
     "metadata": {},
     "output_type": "display_data"
    }
   ],
   "source": [
    "labels = dataset.genero.value_counts(normalize=True).index\n",
    "sizes = list(dataset.genero.value_counts(normalize=True))\n",
    "\n",
    "fig1, ax1 = plt.subplots(figsize=(8,6))\n",
    "ax1.pie(sizes, labels=labels)\n",
    "ax1.axis('equal') \n",
    "ax1.set_title('Género de encuestados')\n",
    "ax1.legend()"
   ]
  },
  {
   "cell_type": "markdown",
   "metadata": {},
   "source": [
    "#### Respuestas según género"
   ]
  },
  {
   "cell_type": "code",
   "execution_count": 35,
   "metadata": {},
   "outputs": [],
   "source": [
    "preguntas = ['1. ¿Cuando no están juntos/as, ¿tu pareja te controla preguntándote con quién estás,\\n dónde y qué estás haciendo mensajeándote por celular?', \n",
    " '2. ¿Revisa los mensajes de tu celular o te pidió la contraseña de tu correo electrónico,\\n Facebook o Instagram como “prueba de confianza”?',\n",
    " '3. ¿Te acusa de haber sido infiel o coquetear con otras/os?',\n",
    " '4. ¿Sentís que están permanentemente en tensión y que, hagas lo que hagas, se irrita\\n o te culpabiliza de sus cambios de humor?',\n",
    " '5. ¿Le molesta que hagas actividades de manera independiente, como estudiar, trabajar,\\n visitar amigos/as, ir al gimnasio o elegir quedarte solo/a en tu casa?',\n",
    " '6. ¿Sentís que te alejaste o perdiste contacto con amigos/as o familiares desde que estás en pareja?',\n",
    " '7. ¿Te dice cómo tenés que vestirte o cómo debe ser tu apariencia?',\n",
    " '8. ¿Menosprecia en público o en privado tus opiniones?',\n",
    " '9. ¿Te dice que todo lo que hacés está mal o que no servís para nada?',\n",
    " '10. ¿Te amenaza con lastimarse/te si no lo/la obedecés o si querés terminar la relación?',\n",
    " '11. Después de un episodio violento, ¿se muestra cariñoso/a o atento/a\\n y promete que nunca más lo hará y todo cambiará?',\n",
    " '12. ¿Indaga o cuestiona tus noviazgos anteriores?',\n",
    " '13. ¿Te sentís presionado/a a realizar determinadas prácticas sexuales por temor a que te deje?']"
   ]
  },
  {
   "cell_type": "code",
   "execution_count": 36,
   "metadata": {},
   "outputs": [],
   "source": [
    "respuestas = ['A = Siempre', 'B = \"A veces\"', 'C = Nunca']"
   ]
  },
  {
   "cell_type": "code",
   "execution_count": 37,
   "metadata": {},
   "outputs": [],
   "source": [
    "data = dataset[['genero'] + list(dataset.columns[6:18])]"
   ]
  },
  {
   "cell_type": "code",
   "execution_count": 38,
   "metadata": {},
   "outputs": [
    {
     "name": "stderr",
     "output_type": "stream",
     "text": [
      "/home/guido/anaconda3/envs/dh/lib/python3.7/site-packages/pandas/core/indexing.py:1048: SettingWithCopyWarning: \n",
      "A value is trying to be set on a copy of a slice from a DataFrame.\n",
      "Try using .loc[row_indexer,col_indexer] = value instead\n",
      "\n",
      "See the caveats in the documentation: https://pandas.pydata.org/pandas-docs/stable/user_guide/indexing.html#returning-a-view-versus-a-copy\n",
      "  self.obj[item_labels[indexer[info_axis]]] = value\n"
     ]
    }
   ],
   "source": [
    "for columna in data.drop('genero',axis=1).columns:\n",
    "    data.loc[:,columna] = dataset.loc[:,columna].replace('A','Siempre').replace('B','A veces').replace('C','Nunca')"
   ]
  },
  {
   "cell_type": "markdown",
   "metadata": {},
   "source": [
    "Ploteamos las respuestas, relativas al género de los encuestados"
   ]
  },
  {
   "cell_type": "code",
   "execution_count": 39,
   "metadata": {},
   "outputs": [
    {
     "data": {
      "image/png": "[encoded data removed]",
      "text/plain": [
       "<Figure size 576x432 with 1 Axes>"
      ]
     },
     "metadata": {
      "needs_background": "light"
     },
     "output_type": "display_data"
    },
    {
     "data": {
      "image/png": "[encoded data removed]",
      "text/plain": [
       "<Figure size 576x432 with 1 Axes>"
      ]
     },
     "metadata": {
      "needs_background": "light"
     },
     "output_type": "display_data"
    },
    {
     "data": {
      "image/png": "[encoded data removed]",
      "text/plain": [
       "<Figure size 576x432 with 1 Axes>"
      ]
     },
     "metadata": {
      "needs_background": "light"
     },
     "output_type": "display_data"
    },
    {
     "data": {
      "image/png": "[encoded data removed]",
      "text/plain": [
       "<Figure size 576x432 with 1 Axes>"
      ]
     },
     "metadata": {
      "needs_background": "light"
     },
     "output_type": "display_data"
    },
    {
     "data": {
      "image/png": "[encoded data removed]",
      "text/plain": [
       "<Figure size 576x432 with 1 Axes>"
      ]
     },
     "metadata": {
      "needs_background": "light"
     },
     "output_type": "display_data"
    },
    {
     "data": {
      "image/png": "[encoded data removed]",
      "text/plain": [
       "<Figure size 576x432 with 1 Axes>"
      ]
     },
     "metadata": {
      "needs_background": "light"
     },
     "output_type": "display_data"
    },
    {
     "data": {
      "image/png": "[encoded data removed]",
      "text/plain": [
       "<Figure size 576x432 with 1 Axes>"
      ]
     },
     "metadata": {
      "needs_background": "light"
     },
     "output_type": "display_data"
    },
    {
     "data": {
      "image/png": "[encoded data removed]",
      "text/plain": [
       "<Figure size 576x432 with 1 Axes>"
      ]
     },
     "metadata": {
      "needs_background": "light"
     },
     "output_type": "display_data"
    },
    {
     "data": {
      "image/png": "[encoded data removed]",
      "text/plain": [
       "<Figure size 576x432 with 1 Axes>"
      ]
     },
     "metadata": {
      "needs_background": "light"
     },
     "output_type": "display_data"
    },
    {
     "data": {
      "image/png": "[encoded data removed]",
      "text/plain": [
       "<Figure size 576x432 with 1 Axes>"
      ]
     },
     "metadata": {
      "needs_background": "light"
     },
     "output_type": "display_data"
    },
    {
     "data": {
      "image/png": "[encoded data removed]",
      "text/plain": [
       "<Figure size 576x432 with 1 Axes>"
      ]
     },
     "metadata": {
      "needs_background": "light"
     },
     "output_type": "display_data"
    },
    {
     "data": {
      "image/png": "[encoded data removed]",
      "text/plain": [
       "<Figure size 576x432 with 1 Axes>"
      ]
     },
     "metadata": {
      "needs_background": "light"
     },
     "output_type": "display_data"
    }
   ],
   "source": [
    "for num,columna in enumerate(data.drop('genero',axis=1).columns):\n",
    "    respuesta = set(np.array(list(data.groupby(columna).genero.value_counts().index))[:,0])\n",
    "    # respuesta por hombres\n",
    "    n_varones = (data.genero == 'Hombre').sum()\n",
    "    n_mujeres = (data.genero == 'Mujer').sum()\n",
    "    n_otros = (data.genero == 'Otro').sum()\n",
    "    varones = list(data.groupby(columna).genero.value_counts())[1::3] / n_varones\n",
    "    # respusta por mujeres\n",
    "    mujeres = list(data.groupby(columna).genero.value_counts())[::3] / n_mujeres \n",
    "    # respusta por otros\n",
    "    otros = list(data.groupby(columna).genero.value_counts())[2::3] / n_otros\n",
    "\n",
    "    x = np.arange(len(respuesta))\n",
    "    width = 0.2\n",
    "\n",
    "    fig, ax = plt.subplots(figsize=(8,6))\n",
    "    barra1 = ax.bar(x, varones, width, label='Varones', color='blue')\n",
    "    barra2 = ax.bar(x+0.2, mujeres, width, label='Mujeres', color='green')\n",
    "    barra3 = ax.bar(x+0.4, otros, width, label='Otros', color='red')\n",
    "\n",
    "    ax.set_ylabel('Total respuestas')\n",
    "    ax.set_title(preguntas[num])\n",
    "    ax.set_xticks(x+0.2)\n",
    "    ax.set_xticklabels(respuestas)\n",
    "    ax.legend()"
   ]
  },
  {
   "cell_type": "markdown",
   "metadata": {},
   "source": [
    "### <a id=\"section_split\">1.3 Selección de Target</a> "
   ]
  },
  {
   "cell_type": "markdown",
   "metadata": {},
   "source": [
    "Seleccionamos el target ('df.pregunta_13') y lo transformamos en dicotómico"
   ]
  },
  {
   "cell_type": "code",
   "execution_count": 40,
   "metadata": {},
   "outputs": [],
   "source": [
    "# agrego el target al dataframe\n",
    "dataset['target'] = dataset.pregunta_13 != 'C'"
   ]
  },
  {
   "cell_type": "code",
   "execution_count": 41,
   "metadata": {},
   "outputs": [
    {
     "name": "stderr",
     "output_type": "stream",
     "text": [
      "/home/guido/anaconda3/envs/dh/lib/python3.7/site-packages/ipykernel_launcher.py:2: SettingWithCopyWarning: \n",
      "A value is trying to be set on a copy of a slice from a DataFrame.\n",
      "Try using .loc[row_indexer,col_indexer] = value instead\n",
      "\n",
      "See the caveats in the documentation: https://pandas.pydata.org/pandas-docs/stable/user_guide/indexing.html#returning-a-view-versus-a-copy\n",
      "  \n"
     ]
    }
   ],
   "source": [
    "# agrego el target al dataframe al dataframe destinado al ploteo para ver distribución de las respuestas\n",
    "data['target']  = dataset.target.apply(lambda x: 'Nunca' if x is False else 'Siempre')"
   ]
  },
  {
   "cell_type": "code",
   "execution_count": 42,
   "metadata": {},
   "outputs": [
    {
     "data": {
      "text/plain": [
       "Nunca      3963\n",
       "Siempre    1713\n",
       "Name: target, dtype: int64"
      ]
     },
     "execution_count": 42,
     "metadata": {},
     "output_type": "execute_result"
    }
   ],
   "source": [
    "data.target.value_counts()"
   ]
  },
  {
   "cell_type": "markdown",
   "metadata": {},
   "source": [
    "Observamos la distribución de las respuestas del target"
   ]
  },
  {
   "cell_type": "code",
   "execution_count": 43,
   "metadata": {},
   "outputs": [
    {
     "data": {
      "text/plain": [
       "<matplotlib.legend.Legend at 0x7ff5a135d310>"
      ]
     },
     "execution_count": 43,
     "metadata": {},
     "output_type": "execute_result"
    },
    {
     "data": {
      "image/png": "[encoded data removed]",
      "text/plain": [
       "<Figure size 576x432 with 1 Axes>"
      ]
     },
     "metadata": {
      "needs_background": "light"
     },
     "output_type": "display_data"
    }
   ],
   "source": [
    "fig, ax = plt.subplots(figsize=(8,6))\n",
    "\n",
    "respuesta = list(data.target.value_counts().index)\n",
    "\n",
    "n_varones = (data.genero == 'Hombre').sum()\n",
    "n_mujeres = (data.genero == 'Mujer').sum()\n",
    "n_otros = (data.genero == 'Otro').sum()\n",
    "\n",
    "varones = list(data.groupby('target').genero.value_counts())[1::3] / n_varones\n",
    "mujeres = list(data.groupby('target').genero.value_counts())[::3] / n_mujeres \n",
    "otros = list(data.groupby('target').genero.value_counts())[2::3] / n_otros\n",
    "\n",
    "x = np.arange(len(respuesta))\n",
    "width = 0.2\n",
    "\n",
    "barra1 = ax.bar(x, varones, width, label='Varones')\n",
    "barra2 = ax.bar(x+0.2, mujeres, width, label='Mujeres')\n",
    "barra3 = ax.bar(x+0.4, otros, width, label='Otros')\n",
    "\n",
    "ax.set_ylabel('Total respuestas')\n",
    "ax.set_title(preguntas[12])\n",
    "ax.set_xticks(x + 0.2)\n",
    "ax.set_xticklabels(respuesta)\n",
    "ax.legend()"
   ]
  },
  {
   "cell_type": "markdown",
   "metadata": {},
   "source": [
    "Observamos que los casos negativos son mayoría, salvo entre quienes declararon \"otros\" en la pregunta sobre el género"
   ]
  },
  {
   "cell_type": "markdown",
   "metadata": {},
   "source": [
    "<hr>"
   ]
  },
  {
   "cell_type": "markdown",
   "metadata": {},
   "source": [
    "## <a id='section_algoritmos'>2. Algoritmos y predicción</a>"
   ]
  },
  {
   "cell_type": "markdown",
   "metadata": {},
   "source": [
    "### <a id='acon_dataset'>2.1 Acondicionamiento del Dataset</a>"
   ]
  },
  {
   "cell_type": "markdown",
   "metadata": {},
   "source": [
    "#### Distinción de variables categoricas y continuas"
   ]
  },
  {
   "cell_type": "code",
   "execution_count": 44,
   "metadata": {},
   "outputs": [],
   "source": [
    "categorical_columns = ['genero', 'barrio_completo'] + [col for col in dataset.columns if 'pregunta_13' not in col and 'pregunta' in col]"
   ]
  },
  {
   "cell_type": "code",
   "execution_count": 45,
   "metadata": {},
   "outputs": [],
   "source": [
    "numerical_columns = ['edad', 'poblacion_por_barrio']"
   ]
  },
  {
   "cell_type": "markdown",
   "metadata": {},
   "source": [
    "#### Creacion de dummies"
   ]
  },
  {
   "cell_type": "code",
   "execution_count": 46,
   "metadata": {},
   "outputs": [],
   "source": [
    "categorical_features_df = pd.get_dummies(dataset.loc[:, categorical_columns])"
   ]
  },
  {
   "cell_type": "code",
   "execution_count": 47,
   "metadata": {},
   "outputs": [],
   "source": [
    "# agregamos los dummmies al datset\n",
    "\n",
    "dataset = pd.concat([dataset, categorical_features_df], axis = 1)"
   ]
  },
  {
   "cell_type": "code",
   "execution_count": 48,
   "metadata": {},
   "outputs": [],
   "source": [
    "# lista de varibales categóricas\n",
    "categorical_features = categorical_features_df.columns.tolist()"
   ]
  },
  {
   "cell_type": "markdown",
   "metadata": {},
   "source": [
    "#### train y test: divido utilizando los indices solamente"
   ]
  },
  {
   "cell_type": "code",
   "execution_count": 49,
   "metadata": {},
   "outputs": [],
   "source": [
    "from sklearn.model_selection import train_test_split\n",
    "\n",
    "train_index, test_index = train_test_split(dataset.index, stratify = dataset.target, random_state = 42)"
   ]
  },
  {
   "cell_type": "markdown",
   "metadata": {},
   "source": [
    "#### Escalado de variables continuas"
   ]
  },
  {
   "cell_type": "code",
   "execution_count": 50,
   "metadata": {},
   "outputs": [],
   "source": [
    "from sklearn.preprocessing import StandardScaler\n",
    "\n",
    "scaler = StandardScaler()\n",
    "\n",
    "# entreno el modelo de estandarización\n",
    "scaler.fit(dataset.loc[train_index, numerical_columns])\n",
    "\n",
    "# transformo cada set de datos de las columnas con variables numéricas\n",
    "train_numerical_scaled = scaler.transform(dataset.loc[train_index, numerical_columns])\n",
    "test_numerical_scaled = scaler.transform(dataset.loc[test_index, numerical_columns])"
   ]
  },
  {
   "cell_type": "code",
   "execution_count": 51,
   "metadata": {},
   "outputs": [],
   "source": [
    "# lista de variables numéricas\n",
    "numerical_features = [f\"{col}_scaled\" for col in numerical_columns]"
   ]
  },
  {
   "cell_type": "code",
   "execution_count": 52,
   "metadata": {},
   "outputs": [],
   "source": [
    "train_numerical_df = pd.DataFrame(train_numerical_scaled, index = train_index, columns = numerical_features)\n",
    "test_numerical_df = pd.DataFrame(test_numerical_scaled, index = test_index, columns = numerical_features)\n",
    "\n",
    "numerical_features_df = train_numerical_df.append(test_numerical_df)"
   ]
  },
  {
   "cell_type": "markdown",
   "metadata": {},
   "source": [
    "#### Agrego features numéricas escaladas al dataset"
   ]
  },
  {
   "cell_type": "code",
   "execution_count": 53,
   "metadata": {},
   "outputs": [],
   "source": [
    "dataset = pd.concat([dataset, numerical_features_df], axis = 1)"
   ]
  },
  {
   "cell_type": "markdown",
   "metadata": {},
   "source": [
    "#### Generacion de train/test datasets con los features transformados y estandarizados"
   ]
  },
  {
   "cell_type": "code",
   "execution_count": 54,
   "metadata": {},
   "outputs": [],
   "source": [
    "# los features equivalen a las variables categóricas dummies y a las numéricas estandarizadas\n",
    "feature_cols = categorical_features + numerical_features"
   ]
  },
  {
   "cell_type": "code",
   "execution_count": 55,
   "metadata": {},
   "outputs": [],
   "source": [
    "dataset_to_use = dataset.loc[:, feature_cols + ['target']]"
   ]
  },
  {
   "cell_type": "code",
   "execution_count": 56,
   "metadata": {},
   "outputs": [],
   "source": [
    "train = dataset_to_use.loc[train_index]\n",
    "test = dataset_to_use.loc[test_index]"
   ]
  },
  {
   "cell_type": "code",
   "execution_count": 57,
   "metadata": {},
   "outputs": [],
   "source": [
    "X_train = train.drop('target', axis=1)\n",
    "y_train = train.target"
   ]
  },
  {
   "cell_type": "code",
   "execution_count": 58,
   "metadata": {},
   "outputs": [],
   "source": [
    "X_test = test.drop('target', axis=1)\n",
    "y_test = test.target"
   ]
  },
  {
   "cell_type": "markdown",
   "metadata": {},
   "source": [
    "#### Guardo train y test en formato csv para compartir"
   ]
  },
  {
   "cell_type": "code",
   "execution_count": 59,
   "metadata": {},
   "outputs": [],
   "source": [
    "train.to_csv(\"data/train.csv\")\n",
    "test.to_csv(\"data/test.csv\")"
   ]
  },
  {
   "cell_type": "markdown",
   "metadata": {},
   "source": [
    "### <a id='knn'>2.1 K Nearest Neighbors (KNN)</a>"
   ]
  },
  {
   "cell_type": "markdown",
   "metadata": {},
   "source": [
    "#### Ajustando el modelo\n",
    "Buscando el mejor hiperparámetro"
   ]
  },
  {
   "cell_type": "code",
   "execution_count": 60,
   "metadata": {},
   "outputs": [],
   "source": [
    "from sklearn.model_selection import cross_val_score, KFold\n",
    "from sklearn.neighbors import KNeighborsClassifier"
   ]
  },
  {
   "cell_type": "code",
   "execution_count": 61,
   "metadata": {},
   "outputs": [],
   "source": [
    "kf = KFold(n_splits=5, shuffle=True, random_state=12)"
   ]
  },
  {
   "cell_type": "code",
   "execution_count": 62,
   "metadata": {},
   "outputs": [],
   "source": [
    "scores = []\n",
    "\n",
    "for i in range(1,10):\n",
    "    modelo =  KNeighborsClassifier(n_neighbors=i)\n",
    "    cvs = cross_val_score(modelo, X_train, y_train ,cv=kf)\n",
    "    scores.append({'vecinos':i,\n",
    "                  'media':np.mean(cvs),\n",
    "                  'desvio':np.std(cvs)})"
   ]
  },
  {
   "cell_type": "code",
   "execution_count": 63,
   "metadata": {},
   "outputs": [
    {
     "data": {
      "text/plain": [
       "[<matplotlib.lines.Line2D at 0x7ff5a08daf90>]"
      ]
     },
     "execution_count": 63,
     "metadata": {},
     "output_type": "execute_result"
    },
    {
     "data": {
      "image/png": "[encoded data removed]",
      "text/plain": [
       "<Figure size 432x288 with 1 Axes>"
      ]
     },
     "metadata": {
      "needs_background": "light"
     },
     "output_type": "display_data"
    }
   ],
   "source": [
    "scores = pd.DataFrame(scores)\n",
    "plt.plot(range(1,10), scores.media, color='b')"
   ]
  },
  {
   "cell_type": "markdown",
   "metadata": {},
   "source": [
    "#### Hiperparámetro óptimo"
   ]
  },
  {
   "cell_type": "code",
   "execution_count": 64,
   "metadata": {},
   "outputs": [
    {
     "data": {
      "text/html": [
       "<div>\n",
       "<style scoped>\n",
       "    .dataframe tbody tr th:only-of-type {\n",
       "        vertical-align: middle;\n",
       "    }\n",
       "\n",
       "    .dataframe tbody tr th {\n",
       "        vertical-align: top;\n",
       "    }\n",
       "\n",
       "    .dataframe thead th {\n",
       "        text-align: right;\n",
       "    }\n",
       "</style>\n",
       "<table border=\"1\" class=\"dataframe\">\n",
       "  <thead>\n",
       "    <tr style=\"text-align: right;\">\n",
       "      <th></th>\n",
       "      <th>vecinos</th>\n",
       "      <th>media</th>\n",
       "      <th>desvio</th>\n",
       "    </tr>\n",
       "  </thead>\n",
       "  <tbody>\n",
       "    <tr>\n",
       "      <th>7</th>\n",
       "      <td>8</td>\n",
       "      <td>0.75523</td>\n",
       "      <td>0.013181</td>\n",
       "    </tr>\n",
       "  </tbody>\n",
       "</table>\n",
       "</div>"
      ],
      "text/plain": [
       "   vecinos    media    desvio\n",
       "7        8  0.75523  0.013181"
      ]
     },
     "execution_count": 64,
     "metadata": {},
     "output_type": "execute_result"
    }
   ],
   "source": [
    "scores.loc[scores.media == scores.media.max(),:]"
   ]
  },
  {
   "cell_type": "code",
   "execution_count": 65,
   "metadata": {},
   "outputs": [],
   "source": [
    "vecinos = int(scores.loc[scores.media == scores.media.max(),'vecinos'])"
   ]
  },
  {
   "cell_type": "markdown",
   "metadata": {
    "colab_type": "text",
    "id": "da8yHLByMxmh"
   },
   "source": [
    "#### Entreno el modelo"
   ]
  },
  {
   "cell_type": "code",
   "execution_count": 66,
   "metadata": {
    "colab": {},
    "colab_type": "code",
    "id": "KEQtM2HhMxmo"
   },
   "outputs": [],
   "source": [
    "knn = KNeighborsClassifier(n_neighbors=vecinos)"
   ]
  },
  {
   "cell_type": "code",
   "execution_count": 67,
   "metadata": {},
   "outputs": [],
   "source": [
    "knn.fit(X_train, y_train);"
   ]
  },
  {
   "cell_type": "markdown",
   "metadata": {},
   "source": [
    "#### Prediciendo sobre test"
   ]
  },
  {
   "cell_type": "code",
   "execution_count": 68,
   "metadata": {},
   "outputs": [],
   "source": [
    "y_pred_knn = knn.predict(X_test)"
   ]
  },
  {
   "cell_type": "code",
   "execution_count": 69,
   "metadata": {},
   "outputs": [
    {
     "data": {
      "text/plain": [
       "0.755461592670895"
      ]
     },
     "execution_count": 69,
     "metadata": {},
     "output_type": "execute_result"
    }
   ],
   "source": [
    "(y_test == y_pred_knn).sum() / y_test.shape[0]"
   ]
  },
  {
   "cell_type": "markdown",
   "metadata": {},
   "source": [
    "#### Evaluando resultados"
   ]
  },
  {
   "cell_type": "code",
   "execution_count": 70,
   "metadata": {},
   "outputs": [],
   "source": [
    "from sklearn.metrics import roc_curve, auc\n",
    "from sklearn.model_selection import train_test_split\n",
    "from sklearn.metrics import confusion_matrix, precision_score, recall_score\n",
    "from sklearn.metrics import roc_curve\n",
    "from sklearn.metrics import log_loss\n",
    "from sklearn.metrics import auc\n",
    "from sklearn.metrics import accuracy_score\n",
    "from sklearn.metrics import f1_score, classification_report"
   ]
  },
  {
   "cell_type": "code",
   "execution_count": 71,
   "metadata": {},
   "outputs": [],
   "source": [
    "confusion_knn = confusion_matrix(y_test, y_pred_knn)"
   ]
  },
  {
   "cell_type": "code",
   "execution_count": 72,
   "metadata": {},
   "outputs": [
    {
     "data": {
      "text/plain": [
       "(906, 166, 85, 262)"
      ]
     },
     "execution_count": 72,
     "metadata": {},
     "output_type": "execute_result"
    }
   ],
   "source": [
    "TP_knn = confusion_knn[0,0]\n",
    "TN_knn = confusion_knn[1,1]\n",
    "FP_knn = confusion_knn[0,1]\n",
    "FN_knn = confusion_knn[1,0]\n",
    "TP_knn, TN_knn, FP_knn, FN_knn"
   ]
  },
  {
   "cell_type": "markdown",
   "metadata": {},
   "source": [
    "#### Accuracy KNN - Test\n",
    "Predicciones verdades sobre total de predicciones"
   ]
  },
  {
   "cell_type": "code",
   "execution_count": 73,
   "metadata": {},
   "outputs": [
    {
     "data": {
      "text/plain": [
       "(0.755461592670895, 0.755461592670895)"
      ]
     },
     "execution_count": 73,
     "metadata": {},
     "output_type": "execute_result"
    }
   ],
   "source": [
    "accuracy_knn = accuracy_score(y_test, y_pred_knn)\n",
    "accuracy_knn, (TP_knn + TN_knn) / (TP_knn + TN_knn + FP_knn + FN_knn)"
   ]
  },
  {
   "cell_type": "code",
   "execution_count": 74,
   "metadata": {},
   "outputs": [
    {
     "data": {
      "text/plain": [
       "[Text(0,0.5,'Nunca'), Text(0,1.5,'Siempre')]"
      ]
     },
     "execution_count": 74,
     "metadata": {},
     "output_type": "execute_result"
    },
    {
     "data": {
      "image/png": "[encoded data removed]",
      "text/plain": [
       "<Figure size 432x288 with 2 Axes>"
      ]
     },
     "metadata": {
      "needs_background": "light"
     },
     "output_type": "display_data"
    }
   ],
   "source": [
    "fig = plt.figure()\n",
    "ax = plt.axes()\n",
    "sns.heatmap(confusion_knn,annot=True, fmt='.0f')\n",
    "plt.xlabel('Predichos')\n",
    "plt.ylabel('Reales')\n",
    "ax.set_xticklabels(['Nunca','Siempre'])\n",
    "ax.set_yticklabels(['Nunca','Siempre'])"
   ]
  },
  {
   "cell_type": "markdown",
   "metadata": {},
   "source": [
    "#### Precision KNN - Test\n",
    "¿con qué rigurosidad etiqueta como no positiva ('siempre') una respuesta que es negativa ('nunca')?"
   ]
  },
  {
   "cell_type": "code",
   "execution_count": 75,
   "metadata": {},
   "outputs": [
    {
     "data": {
      "text/plain": [
       "0.6613545816733067"
      ]
     },
     "execution_count": 75,
     "metadata": {},
     "output_type": "execute_result"
    }
   ],
   "source": [
    "precision_score(y_test, y_pred_knn)"
   ]
  },
  {
   "cell_type": "markdown",
   "metadata": {},
   "source": [
    "#### Sensitivity o recall_score - Test\n",
    "De las respuestas positivas, ¿cuántas son verdaderametne positivas?"
   ]
  },
  {
   "cell_type": "code",
   "execution_count": 76,
   "metadata": {},
   "outputs": [
    {
     "data": {
      "text/plain": [
       "0.3878504672897196"
      ]
     },
     "execution_count": 76,
     "metadata": {},
     "output_type": "execute_result"
    }
   ],
   "source": [
    "recall_knn = recall_score(y_test, y_pred_knn)\n",
    "recall_knn"
   ]
  },
  {
   "cell_type": "markdown",
   "metadata": {},
   "source": [
    "### <a id='#reg_log'>2.2 Regresión Logística</a>"
   ]
  },
  {
   "cell_type": "code",
   "execution_count": 77,
   "metadata": {},
   "outputs": [],
   "source": [
    "scaler = StandardScaler()\n",
    "X_train_std = scaler.fit_transform(X_train)"
   ]
  },
  {
   "cell_type": "code",
   "execution_count": 78,
   "metadata": {},
   "outputs": [],
   "source": [
    "from sklearn.linear_model import LogisticRegression\n",
    "lr = LogisticRegression()\n",
    "lr.fit(X_train_std, y_train)\n",
    "\n",
    "y_pred_log_train = lr.predict(X_train_std)"
   ]
  },
  {
   "cell_type": "markdown",
   "metadata": {},
   "source": [
    "#### Accuracy - Log. Regression - Train"
   ]
  },
  {
   "cell_type": "code",
   "execution_count": 79,
   "metadata": {},
   "outputs": [
    {
     "data": {
      "text/plain": [
       "0.7747239840263096"
      ]
     },
     "execution_count": 79,
     "metadata": {},
     "output_type": "execute_result"
    }
   ],
   "source": [
    "# accuracy sobre train\n",
    "\n",
    "accuracy_log_train = accuracy_score(y_train, y_pred_log_train)\n",
    "accuracy_log_train"
   ]
  },
  {
   "cell_type": "code",
   "execution_count": 80,
   "metadata": {},
   "outputs": [
    {
     "data": {
      "text/plain": [
       "[Text(0,0.5,'Nunca'), Text(0,1.5,'Siempre')]"
      ]
     },
     "execution_count": 80,
     "metadata": {},
     "output_type": "execute_result"
    },
    {
     "data": {
      "image/png": "[encoded data removed]",
      "text/plain": [
       "<Figure size 432x288 with 2 Axes>"
      ]
     },
     "metadata": {
      "needs_background": "light"
     },
     "output_type": "display_data"
    }
   ],
   "source": [
    "# heatmap sobre train\n",
    "\n",
    "fig = plt.figure()\n",
    "ax = plt.axes()\n",
    "sns.heatmap(confusion_matrix(y_train, y_pred_log_train), annot=True, fmt='.0f')\n",
    "plt.xlabel('Predichos')\n",
    "plt.ylabel('Reales')\n",
    "ax.set_xticklabels(['Nunca','Siempre'])\n",
    "ax.set_yticklabels(['Nunca','Siempre'])"
   ]
  },
  {
   "cell_type": "markdown",
   "metadata": {},
   "source": [
    "#### Histograma de probabilidades"
   ]
  },
  {
   "cell_type": "code",
   "execution_count": 81,
   "metadata": {},
   "outputs": [
    {
     "data": {
      "text/plain": [
       "((2972,), (1285,))"
      ]
     },
     "execution_count": 81,
     "metadata": {},
     "output_type": "execute_result"
    }
   ],
   "source": [
    "nunca = lr.predict_proba(X_train_std[y_train==0])[:,1]\n",
    "siempre = lr.predict_proba(X_train_std[y_train==1])[:,1]\n",
    "nunca.shape, siempre.shape"
   ]
  },
  {
   "cell_type": "code",
   "execution_count": 82,
   "metadata": {},
   "outputs": [
    {
     "data": {
      "text/plain": [
       "<matplotlib.legend.Legend at 0x7ff5a17e6490>"
      ]
     },
     "execution_count": 82,
     "metadata": {},
     "output_type": "execute_result"
    },
    {
     "data": {
      "image/png": "[encoded data removed]",
      "text/plain": [
       "<Figure size 432x288 with 1 Axes>"
      ]
     },
     "metadata": {
      "needs_background": "light"
     },
     "output_type": "display_data"
    }
   ],
   "source": [
    "sns.distplot(nunca)\n",
    "sns.distplot(siempre)\n",
    "ylim = plt.ylim()\n",
    "plt.vlines(0.5, ylim[0], ylim[1])\n",
    "plt.ylim(ylim)\n",
    "plt.legend(['Umbral', 'Nunca', 'Siempre'])"
   ]
  },
  {
   "cell_type": "markdown",
   "metadata": {},
   "source": [
    "#### Corremos el umbral a 0.3<br>\n",
    "Creemos que es preferible contemplar todos los casos predichos como violentos, a descartar aquellos que siendolos corran el riesgo de ser pasados por alto por el modelo "
   ]
  },
  {
   "cell_type": "code",
   "execution_count": 83,
   "metadata": {},
   "outputs": [],
   "source": [
    "umbral = 0.3"
   ]
  },
  {
   "cell_type": "code",
   "execution_count": 84,
   "metadata": {},
   "outputs": [
    {
     "data": {
      "text/plain": [
       "<matplotlib.legend.Legend at 0x7ff5a1279510>"
      ]
     },
     "execution_count": 84,
     "metadata": {},
     "output_type": "execute_result"
    },
    {
     "data": {
      "image/png": "[encoded data removed]",
      "text/plain": [
       "<Figure size 432x288 with 1 Axes>"
      ]
     },
     "metadata": {
      "needs_background": "light"
     },
     "output_type": "display_data"
    }
   ],
   "source": [
    "sns.distplot(nunca)\n",
    "sns.distplot(siempre)\n",
    "ylim = plt.ylim()\n",
    "plt.vlines(umbral, ylim[0], ylim[1])\n",
    "plt.ylim(ylim)\n",
    "plt.legend(['Umbral', 'Nunca', 'Siempre'])"
   ]
  },
  {
   "cell_type": "code",
   "execution_count": 85,
   "metadata": {},
   "outputs": [
    {
     "name": "stdout",
     "output_type": "stream",
     "text": [
      "Respuestas \"Siempre\" con umbral por defecto: 874\n",
      "Respuestas \"Siempre\" con umbral 0.3: 874 1671\n"
     ]
    }
   ],
   "source": [
    "print('Respuestas \"Siempre\" con umbral por defecto:', (lr.predict_proba(X_train_std)[:,1] > 0.5).sum())\n",
    "print('Respuestas \"Siempre\" con umbral 0.3:', (lr.predict_proba(X_train_std)[:,1] > 0.5).sum(), (lr.predict_proba(X_train_std)[:,1] > 0.3).sum())"
   ]
  },
  {
   "cell_type": "code",
   "execution_count": 86,
   "metadata": {},
   "outputs": [],
   "source": [
    "y_pred_log_ajustado = lr.predict_proba(X_train_std)[:,1] > umbral"
   ]
  },
  {
   "cell_type": "markdown",
   "metadata": {},
   "source": [
    "#### Matriz de confusión con umbral 0.3<br>\n",
    "Evaluamos la matriz con el nuevo umbral"
   ]
  },
  {
   "cell_type": "code",
   "execution_count": 107,
   "metadata": {},
   "outputs": [
    {
     "data": {
      "image/png": "[encoded data removed]",
      "text/plain": [
       "<Figure size 576x288 with 2 Axes>"
      ]
     },
     "metadata": {},
     "output_type": "display_data"
    }
   ],
   "source": [
    "sns.set(style=\"white\", palette=\"muted\", color_codes=True)\n",
    "\n",
    "f, axes = plt.subplots(1, 2, figsize=(8, 4), sharex='all')\n",
    "sns.despine(left=True)\n",
    "\n",
    "sns.heatmap(confusion_matrix(y_train, y_pred_log_train), cbar=False, annot=True, fmt='.0f',ax=axes[1])\n",
    "sns.heatmap(confusion_matrix(y_train, y_pred_log_ajustado), cbar=False, annot=True, fmt='.0f',ax=axes[0])\n",
    "\n",
    "axes[0].set_xticklabels(['Nunca','Siempre'])\n",
    "axes[0].set_ylabel('Real')\n",
    "axes[0].set_yticklabels(['Nunca','Siempre'])\n",
    "axes[0].set_xlabel('Predicho')\n",
    "axes[0].set_title('Umbral 0.5 - Train')\n",
    "\n",
    "axes[1].set_xticklabels(['Nunca','Siempre'])\n",
    "axes[1].set_ylabel('Real')\n",
    "axes[1].set_yticklabels(['Nunca','Siempre'])\n",
    "axes[1].set_xlabel('Predicho')\n",
    "axes[1].set_title('Umbral 0.3 - Train')\n",
    "\n",
    "plt.tight_layout()"
   ]
  },
  {
   "cell_type": "markdown",
   "metadata": {},
   "source": [
    "Como se percibe, aumentan las predicciones de respuestas \"siempre\" para todos los casos, mientras que disminuye la predicción de la respuesta \"nunca\""
   ]
  },
  {
   "cell_type": "markdown",
   "metadata": {},
   "source": [
    "#### Predicción sobre Test - Log. Regression"
   ]
  },
  {
   "cell_type": "code",
   "execution_count": 88,
   "metadata": {},
   "outputs": [
    {
     "name": "stdout",
     "output_type": "stream",
     "text": [
      "0.08071748878923767\n"
     ]
    }
   ],
   "source": [
    "from sklearn.metrics import f1_score\n",
    "\n",
    "y_pred_log = lr.predict(X_test)\n",
    "print(f1_score(y_test,y_pred_log))"
   ]
  },
  {
   "cell_type": "code",
   "execution_count": 89,
   "metadata": {},
   "outputs": [],
   "source": [
    "y_pred_proba_log = lr.predict_proba(X_test)"
   ]
  },
  {
   "cell_type": "code",
   "execution_count": 92,
   "metadata": {},
   "outputs": [
    {
     "data": {
      "text/plain": [
       "True"
      ]
     },
     "execution_count": 92,
     "metadata": {},
     "output_type": "execute_result"
    }
   ],
   "source": [
    "all(pd.Series(y_pred_proba_log[:,1]>0.5).astype(int)==pd.Series(y_pred_log))"
   ]
  },
  {
   "cell_type": "code",
   "execution_count": 93,
   "metadata": {},
   "outputs": [
    {
     "data": {
      "image/png": "[encoded data removed]",
      "text/plain": [
       "<Figure size 432x288 with 1 Axes>"
      ]
     },
     "metadata": {},
     "output_type": "display_data"
    }
   ],
   "source": [
    "# Nos quedamos con la columna que tiene la probabilidad positiva ('siempre') de cada caso\n",
    "y_probs_logit_left = y_pred_proba_log[:,1]\n",
    "\n",
    "# Generamos un histograma de esa columna\n",
    "plt.hist(y_probs_logit_left, bins=15)\n",
    "plt.xlim(0,1)\n",
    "plt.title('Histograma de probabilidades estimadas')\n",
    "plt.xlabel('Probabilidad estimada de noviazgo violento')\n",
    "plt.ylabel('Frecuencia')\n",
    "plt.show()"
   ]
  },
  {
   "cell_type": "code",
   "execution_count": 94,
   "metadata": {},
   "outputs": [],
   "source": [
    "from sklearn.preprocessing import binarize\n",
    "\n",
    "# modificamos el umbral para rehacer la predicción sobre test\n",
    "y_pred_logit_log = (binarize(y_pred_proba_log, 0.3)[:,1]).astype(int)"
   ]
  },
  {
   "cell_type": "code",
   "execution_count": 95,
   "metadata": {},
   "outputs": [
    {
     "data": {
      "text/plain": [
       "339"
      ]
     },
     "execution_count": 95,
     "metadata": {},
     "output_type": "execute_result"
    }
   ],
   "source": [
    "y_pred_logit_log.sum()"
   ]
  },
  {
   "cell_type": "code",
   "execution_count": 105,
   "metadata": {},
   "outputs": [
    {
     "data": {
      "image/png": "[encoded data removed]",
      "text/plain": [
       "<Figure size 576x288 with 2 Axes>"
      ]
     },
     "metadata": {},
     "output_type": "display_data"
    }
   ],
   "source": [
    "sns.set(style=\"white\", palette=\"muted\", color_codes=True)\n",
    "\n",
    "f, axes = plt.subplots(1, 2, figsize=(8, 4), sharex='all')\n",
    "sns.despine(left=True)\n",
    "\n",
    "sns.heatmap(confusion_matrix(y_test,y_pred_log), cbar=False, annot=True, fmt='.0f',ax=axes[0])\n",
    "sns.heatmap(confusion_matrix(y_test,y_pred_logit_log), cbar=False, annot=True, fmt='.0f',ax=axes[1])\n",
    "\n",
    "axes[0].set_xticklabels(['Nunca','Siempre'])\n",
    "axes[0].set_ylabel('Real')\n",
    "axes[0].set_yticklabels(['Nunca','Siempre'])\n",
    "axes[0].set_xlabel('Predicho')\n",
    "axes[0].set_title('Umbral 0.5 - Test')\n",
    "\n",
    "axes[1].set_xticklabels(['Nunca','Siempre'])\n",
    "axes[1].set_ylabel('Real')\n",
    "axes[1].set_yticklabels(['Nunca','Siempre'])\n",
    "axes[1].set_xlabel('Predicho')\n",
    "axes[1].set_title('Umbral 0.3 - Test')\n",
    "\n",
    "plt.tight_layout()"
   ]
  },
  {
   "cell_type": "markdown",
   "metadata": {},
   "source": [
    "#### Specifity - Log. Regression"
   ]
  },
  {
   "cell_type": "code",
   "execution_count": 108,
   "metadata": {},
   "outputs": [
    {
     "name": "stdout",
     "output_type": "stream",
     "text": [
      "Umbral 0.5 = 1.0\n",
      "Umbral 0.3 = 0.8668012108980827\n"
     ]
    }
   ],
   "source": [
    "def specificy(test, pred):\n",
    "    tn, fp, fn, tp = confusion_matrix(test, pred).ravel()\n",
    "    specificity = tn / (tn+fp)\n",
    "    return(specificity)\n",
    "\n",
    "print('Umbral 0.5 =', specificy(y_test, y_pred_log))\n",
    "print('Umbral 0.3 =', specificy(y_test, y_pred_logit_log))"
   ]
  },
  {
   "cell_type": "markdown",
   "metadata": {},
   "source": [
    "#### Accuracy - Log. Regression"
   ]
  },
  {
   "cell_type": "code",
   "execution_count": 109,
   "metadata": {},
   "outputs": [
    {
     "name": "stdout",
     "output_type": "stream",
     "text": [
      "Umbral 0.5 = 0.7110641296687809\n",
      "Umbral 0.3 = 0.7512332628611699\n"
     ]
    }
   ],
   "source": [
    "accuracy_log = accuracy_score(y_test, y_pred_log)\n",
    "accuracy_log_umbral = accuracy_score(y_test, y_pred_logit_log)\n",
    "\n",
    "print('Umbral 0.5 =', accuracy_log)\n",
    "print('Umbral 0.3 =', accuracy_log_umbral)"
   ]
  },
  {
   "cell_type": "markdown",
   "metadata": {},
   "source": [
    "#### Sensibility / recall - Log. Regression"
   ]
  },
  {
   "cell_type": "code",
   "execution_count": 110,
   "metadata": {},
   "outputs": [
    {
     "name": "stdout",
     "output_type": "stream",
     "text": [
      "Umbral 0.5 = 0.04205607476635514\n",
      "Umbral 0.3 = 0.48364485981308414\n"
     ]
    }
   ],
   "source": [
    "recall_log = recall_score(y_test, y_pred_log)\n",
    "recall_log_umbral = recall_score(y_test, y_pred_logit_log)\n",
    "\n",
    "print('Umbral 0.5 =', recall_log)\n",
    "print('Umbral 0.3 =', recall_log_umbral)"
   ]
  },
  {
   "cell_type": "markdown",
   "metadata": {},
   "source": [
    "#### Curva ROC y AUC"
   ]
  },
  {
   "cell_type": "code",
   "execution_count": null,
   "metadata": {},
   "outputs": [],
   "source": [
    "from sklearn.metrics import roc_curve\n",
    "fpr_log,tpr_log,thr_log = roc_curve(y_test, y_pred_proba_log[:,1])"
   ]
  },
  {
   "cell_type": "code",
   "execution_count": null,
   "metadata": {},
   "outputs": [],
   "source": [
    "df_roc = pd.DataFrame(dict(fpr=fpr_log, tpr=tpr_log, thr = thr_log))\n",
    "\n",
    "plt.axis([0, 1.01, 0, 1.01])\n",
    "plt.xlabel('1 - Specificty')\n",
    "plt.ylabel('TPR / Sensitivity')\n",
    "plt.title('ROC Curve')\n",
    "plt.plot(df_roc['fpr'],df_roc['tpr'])\n",
    "plt.plot(np.arange(0,1, step =0.01), np.arange(0,1, step =0.01))\n",
    "plt.show()"
   ]
  },
  {
   "cell_type": "code",
   "execution_count": null,
   "metadata": {},
   "outputs": [],
   "source": [
    "from sklearn.metrics import auc\n",
    "print('AUC=', auc(fpr_log, tpr_log))"
   ]
  },
  {
   "cell_type": "markdown",
   "metadata": {},
   "source": [
    "### <a id='naive'>2.3 Naive Bayes Gaussian</a>"
   ]
  },
  {
   "cell_type": "code",
   "execution_count": 112,
   "metadata": {},
   "outputs": [],
   "source": [
    "from sklearn.naive_bayes import GaussianNB"
   ]
  },
  {
   "cell_type": "code",
   "execution_count": 113,
   "metadata": {},
   "outputs": [
    {
     "data": {
      "text/plain": [
       "GaussianNB(priors=None, var_smoothing=1e-09)"
      ]
     },
     "execution_count": 113,
     "metadata": {},
     "output_type": "execute_result"
    }
   ],
   "source": [
    "gnb = GaussianNB()\n",
    "gnb.fit(X_train, y_train)"
   ]
  },
  {
   "cell_type": "markdown",
   "metadata": {},
   "source": [
    "#### Verifico performance de NaiveBayes"
   ]
  },
  {
   "cell_type": "code",
   "execution_count": 114,
   "metadata": {},
   "outputs": [],
   "source": [
    "y_pred_gnb = gnb.predict(X_test)\n",
    "y_pred_proba_gnb = gnb.predict_proba(X_test)"
   ]
  },
  {
   "cell_type": "code",
   "execution_count": 115,
   "metadata": {},
   "outputs": [
    {
     "data": {
      "text/plain": [
       "<matplotlib.legend.Legend at 0x7ff59f038c10>"
      ]
     },
     "execution_count": 115,
     "metadata": {},
     "output_type": "execute_result"
    },
    {
     "data": {
      "image/png": "[encoded data removed]",
      "text/plain": [
       "<Figure size 432x288 with 1 Axes>"
      ]
     },
     "metadata": {},
     "output_type": "display_data"
    }
   ],
   "source": [
    "fpr, tpr, thresholds = roc_curve(y_test, y_pred_proba_gnb[:,1])\n",
    "auc_score = auc(fpr, tpr)\n",
    "\n",
    "plt.plot([0, 1], [0, 1], color='navy', linestyle='--', lw = 2)\n",
    "plt.plot(fpr, tpr, color = 'darkorange', lw = 1)\n",
    "plt.xlabel('1 - Specificty')\n",
    "plt.ylabel('TPR / Sensitivity')\n",
    "plt.title('ROC Curve')\n",
    "plt.legend(['Baseline', f'ROC AUC = {auc_score:.2f}'])"
   ]
  },
  {
   "cell_type": "code",
   "execution_count": 116,
   "metadata": {},
   "outputs": [
    {
     "name": "stdout",
     "output_type": "stream",
     "text": [
      "Naive Bayes F1 Score = 0.57\n"
     ]
    }
   ],
   "source": [
    "print(f'Naive Bayes F1 Score = {f1_score(y_test, y_pred_gnb):.2f}')"
   ]
  },
  {
   "cell_type": "code",
   "execution_count": 117,
   "metadata": {},
   "outputs": [
    {
     "name": "stdout",
     "output_type": "stream",
     "text": [
      "Naive Bayes Accuracy = 0.71\n"
     ]
    }
   ],
   "source": [
    "accuracy_gnb = accuracy_score(y_test, y_pred_gnb)\n",
    "print(f'Naive Bayes Accuracy = {accuracy_gnb:.2f}')"
   ]
  },
  {
   "cell_type": "code",
   "execution_count": 118,
   "metadata": {},
   "outputs": [
    {
     "name": "stdout",
     "output_type": "stream",
     "text": [
      "Naive Bayes Recall = 0.63\n"
     ]
    }
   ],
   "source": [
    "recall_gnb = recall_score(y_test, y_pred_gnb)\n",
    "print(f'Naive Bayes Recall = {recall_gnb:.2f}')"
   ]
  },
  {
   "cell_type": "code",
   "execution_count": 120,
   "metadata": {},
   "outputs": [
    {
     "data": {
      "text/plain": [
       "[Text(0,0.5,'Nunca'), Text(0,1.5,'Siempre')]"
      ]
     },
     "execution_count": 120,
     "metadata": {},
     "output_type": "execute_result"
    },
    {
     "data": {
      "image/png": "[encoded data removed]",
      "text/plain": [
       "<Figure size 432x288 with 2 Axes>"
      ]
     },
     "metadata": {},
     "output_type": "display_data"
    }
   ],
   "source": [
    "fig = plt.figure()\n",
    "ax = plt.axes()\n",
    "sns.heatmap(confusion_matrix(y_test, y_pred_gnb, normalize = 'all'), annot = True, cmap=\"Blues\")\n",
    "plt.xlabel('Predichos')\n",
    "plt.ylabel('Reales')\n",
    "ax.set_xticklabels(['Nunca','Siempre'])\n",
    "ax.set_yticklabels(['Nunca','Siempre'])"
   ]
  },
  {
   "cell_type": "markdown",
   "metadata": {},
   "source": [
    "## <a id='resultados'>2.4 Comparación de Resultados</a>"
   ]
  },
  {
   "cell_type": "markdown",
   "metadata": {},
   "source": [
    "### Naive Bayes (Gaussian) VS Log. Regression"
   ]
  },
  {
   "cell_type": "code",
   "execution_count": 121,
   "metadata": {},
   "outputs": [
    {
     "data": {
      "image/png": "[encoded data removed]",
      "text/plain": [
       "<Figure size 432x288 with 1 Axes>"
      ]
     },
     "metadata": {},
     "output_type": "display_data"
    }
   ],
   "source": [
    "fpr_nb,tpr_nb,thr_nb = roc_curve(y_test, y_pred_proba_log[:,1])\n",
    "fpr_log,tpr_log,thr_log = roc_curve(y_test, y_pred_proba_gnb[:,1])\n",
    "\n",
    "plt.axis([0, 1.01, 0, 1.01])\n",
    "plt.xlabel('1 - Specificty')\n",
    "plt.ylabel('TPR / Sensitivity')\n",
    "plt.title('ROC Curve')\n",
    "plt.plot(fpr_nb,tpr_nb)\n",
    "plt.plot(fpr_log,tpr_log)\n",
    "plt.plot(np.arange(0,1, step =0.01), np.arange(0,1, step =0.01))\n",
    "plt.legend(['NB','Logit'])\n",
    "plt.show() "
   ]
  },
  {
   "cell_type": "code",
   "execution_count": 122,
   "metadata": {},
   "outputs": [
    {
     "name": "stdout",
     "output_type": "stream",
     "text": [
      "AUC-NB= 0.7905943208502693\n",
      "AUC-Logit= 0.7442119260258212\n"
     ]
    }
   ],
   "source": [
    "print('AUC-NB=', auc(fpr_nb, tpr_nb))\n",
    "print('AUC-Logit=', auc(fpr_log, tpr_log))"
   ]
  },
  {
   "cell_type": "markdown",
   "metadata": {},
   "source": [
    "### Accuracy / Recall - Naive Bayes (Gaussian) VS Log. Regression VS KNN"
   ]
  },
  {
   "cell_type": "code",
   "execution_count": 135,
   "metadata": {},
   "outputs": [
    {
     "data": {
      "text/plain": [
       "Text(0.5,1,'Recall - Test')"
      ]
     },
     "execution_count": 135,
     "metadata": {},
     "output_type": "execute_result"
    },
    {
     "data": {
      "image/png": "[encoded data removed]",
      "text/plain": [
       "<Figure size 864x432 with 2 Axes>"
      ]
     },
     "metadata": {},
     "output_type": "display_data"
    }
   ],
   "source": [
    "f, axes = plt.subplots(1, 2, figsize=(12, 6), sharex='all')\n",
    "sns.despine(left=True)\n",
    "\n",
    "sns.barplot(x=['LG 0.3','GNB','KNN'],y=[accuracy_log_umbral, accuracy_gnb, accuracy_knn],ax=axes[0])\n",
    "sns.barplot(x=['LG 0.3','GNB','KNN'],y=[recall_log_umbral, recall_gnb, recall_knn],ax=axes[1])\n",
    "axes[0].set_title('Accuracy - Test')\n",
    "axes[1].set_title('Recall - Test')"
   ]
  },
  {
   "cell_type": "markdown",
   "metadata": {},
   "source": [
    "<hr>"
   ]
  },
  {
   "cell_type": "markdown",
   "metadata": {},
   "source": [
    "## <a id='section_consolidacion'>3. Consolidación</a>"
   ]
  },
  {
   "cell_type": "markdown",
   "metadata": {},
   "source": [
    "### <a id='pipe'>3.1 Pipelines</a>"
   ]
  },
  {
   "cell_type": "code",
   "execution_count": null,
   "metadata": {},
   "outputs": [],
   "source": [
    "X = df.drop('pregunta_13', axis = 1)\n",
    "y = (df.pregunta_13 != 'C').astype(int)"
   ]
  },
  {
   "cell_type": "code",
   "execution_count": null,
   "metadata": {},
   "outputs": [],
   "source": [
    "from sklearn.pipeline import make_pipeline, make_union\n",
    "from sklearn.preprocessing import StandardScaler, KBinsDiscretizer, OneHotEncoder\n",
    "from sklearn.impute import SimpleImputer\n",
    "from sklearn.base import BaseEstimator, TransformerMixin\n"
   ]
  },
  {
   "cell_type": "markdown",
   "metadata": {},
   "source": [
    "Genero un transformador que toma las columnas que quiero y asi reutilizarlo en varios steps"
   ]
  },
  {
   "cell_type": "code",
   "execution_count": null,
   "metadata": {},
   "outputs": [],
   "source": [
    "class ColumnSelector(BaseEstimator, TransformerMixin):\n",
    "    def __init__(self, selected_features):\n",
    "        self.selected_features=selected_features\n",
    "\n",
    "    def fit(self, X, y=None):\n",
    "        return self\n",
    "\n",
    "    def transform(self, X, y=None):\n",
    "        return X[self.selected_features]"
   ]
  },
  {
   "cell_type": "markdown",
   "metadata": {},
   "source": [
    "Para la edad el pipeline va a crear 4 bins:\n",
    "\n",
    "* Menor de 25\n",
    "* De 25 a 49\n",
    "* De 50 a 74\n",
    "* De 75 en adelante"
   ]
  },
  {
   "cell_type": "code",
   "execution_count": null,
   "metadata": {},
   "outputs": [],
   "source": [
    "edad_pipeline = make_pipeline(ColumnSelector(['edad']), KBinsDiscretizer(4, strategy = 'uniform', encode = 'onehot-dense'))"
   ]
  },
  {
   "cell_type": "markdown",
   "metadata": {},
   "source": [
    "Para las preguntas, utilizamos OneHotEncoder y utilizamos todas las disponibles en el X"
   ]
  },
  {
   "cell_type": "code",
   "execution_count": null,
   "metadata": {},
   "outputs": [],
   "source": [
    "preguntas_col = [col for col in X.columns if \"pregunta_\" in col]\n",
    "preguntas_pipeline = make_pipeline(ColumnSelector(preguntas_col), OneHotEncoder(sparse=False, handle_unknown='ignore'))"
   ]
  },
  {
   "cell_type": "markdown",
   "metadata": {},
   "source": [
    "Para el barrio y el genero, lo transformamos tambien usando OneHotEncoder"
   ]
  },
  {
   "cell_type": "code",
   "execution_count": null,
   "metadata": {},
   "outputs": [],
   "source": [
    "barrio_pipeline = make_pipeline(ColumnSelector(['barrio']), OneHotEncoder(sparse=False, handle_unknown='ignore'))"
   ]
  },
  {
   "cell_type": "code",
   "execution_count": null,
   "metadata": {},
   "outputs": [],
   "source": [
    "genero_pipeline = make_pipeline(ColumnSelector(['genero']), OneHotEncoder(sparse=False, handle_unknown='ignore'))"
   ]
  },
  {
   "cell_type": "markdown",
   "metadata": {},
   "source": [
    "Por ultimo, creamos un pipeline con la union de estos pasos anteriores"
   ]
  },
  {
   "cell_type": "code",
   "execution_count": null,
   "metadata": {},
   "outputs": [],
   "source": [
    "preprocess_pipeline = make_union(edad_pipeline, preguntas_pipeline, barrio_pipeline, genero_pipeline)"
   ]
  },
  {
   "cell_type": "markdown",
   "metadata": {},
   "source": [
    "## Divido en train y test"
   ]
  },
  {
   "cell_type": "code",
   "execution_count": null,
   "metadata": {},
   "outputs": [],
   "source": [
    "from sklearn.model_selection import train_test_split\n",
    "X_train, X_test, y_train, y_test = train_test_split(X, y, stratify = y)"
   ]
  },
  {
   "cell_type": "markdown",
   "metadata": {},
   "source": [
    "## Pipeline de entrenamiento y prediccion"
   ]
  },
  {
   "cell_type": "markdown",
   "metadata": {},
   "source": [
    "Utilizamos la funcionalidad de GridSearch y Pipelines para probar varios modelos en gridsearch"
   ]
  },
  {
   "cell_type": "code",
   "execution_count": null,
   "metadata": {},
   "outputs": [],
   "source": [
    "from sklearn.pipeline import Pipeline\n",
    "from sklearn.naive_bayes import GaussianNB"
   ]
  },
  {
   "cell_type": "code",
   "execution_count": null,
   "metadata": {},
   "outputs": [],
   "source": [
    "pipeline = Pipeline(steps = [\n",
    "    ('preprocess', preprocess_pipeline),\n",
    "    ('estimator', GaussianNB())\n",
    "])"
   ]
  },
  {
   "cell_type": "markdown",
   "metadata": {},
   "source": [
    "Utilizamos el placeholder None para utilizar la grilla de hiperparametros mas adelante para insertarle distintos modelos"
   ]
  },
  {
   "cell_type": "markdown",
   "metadata": {},
   "source": [
    "## GridSearch "
   ]
  },
  {
   "cell_type": "code",
   "execution_count": null,
   "metadata": {},
   "outputs": [],
   "source": [
    "from sklearn.model_selection import GridSearchCV\n",
    "from sklearn.naive_bayes import MultinomialNB\n",
    "from sklearn.neighbors import KNeighborsClassifier\n",
    "from sklearn.linear_model import LogisticRegression\n",
    "from sklearn.ensemble import GradientBoostingClassifier"
   ]
  },
  {
   "cell_type": "code",
   "execution_count": null,
   "metadata": {},
   "outputs": [],
   "source": [
    "params_grid =[\n",
    "    {'estimator':[GaussianNB()]},\n",
    "    {\n",
    "        'estimator': [MultinomialNB()],\n",
    "        'estimator__alpha': np.linspace(0, 2, 20)\n",
    "    },\n",
    "    {\n",
    "        'estimator': [KNeighborsClassifier()],\n",
    "        'estimator__n_neighbors': range(1, 15),\n",
    "        'estimator__p': [1, 2]\n",
    "    },\n",
    "    {\n",
    "        'estimator': [LogisticRegression()],\n",
    "        'estimator__penalty': ['l2', 'l1', 'elasticnet', 'none'],\n",
    "        'estimator__C': np.linspace(0, 5, 100)\n",
    "    }\n",
    "]"
   ]
  },
  {
   "cell_type": "code",
   "execution_count": null,
   "metadata": {},
   "outputs": [],
   "source": [
    "from sklearn.model_selection import StratifiedKFold\n",
    "folds = StratifiedKFold(n_splits=5, shuffle=True, random_state=42)"
   ]
  },
  {
   "cell_type": "code",
   "execution_count": null,
   "metadata": {},
   "outputs": [],
   "source": [
    "model = GridSearchCV(pipeline, params_grid, cv = folds, n_jobs = -1, scoring='roc_auc', verbose = 1, return_train_score = True)"
   ]
  },
  {
   "cell_type": "code",
   "execution_count": null,
   "metadata": {},
   "outputs": [],
   "source": [
    "model.fit(X_train, y_train)"
   ]
  },
  {
   "cell_type": "code",
   "execution_count": null,
   "metadata": {},
   "outputs": [],
   "source": [
    "model.best_score_ "
   ]
  },
  {
   "cell_type": "code",
   "execution_count": null,
   "metadata": {},
   "outputs": [],
   "source": [
    "model.best_params_ "
   ]
  },
  {
   "cell_type": "markdown",
   "metadata": {},
   "source": [
    "## Verificacion de performance"
   ]
  },
  {
   "cell_type": "code",
   "execution_count": null,
   "metadata": {},
   "outputs": [],
   "source": [
    "y_pred = model.predict(X_test)\n",
    "y_pred_proba = model.predict_proba(X_test)"
   ]
  },
  {
   "cell_type": "code",
   "execution_count": null,
   "metadata": {},
   "outputs": [],
   "source": [
    "fpr, tpr, thresholds = roc_curve(y_test, y_pred_proba[:,1])\n",
    "auc_score = auc(fpr, tpr)\n",
    "\n",
    "plt.plot([0, 1], [0, 1], color='navy', linestyle='--', lw = 2)\n",
    "plt.plot(fpr, tpr, color = 'darkorange', lw = 1)\n",
    "plt.xlabel('1 - Specificty')\n",
    "plt.ylabel('TPR / Sensitivity')\n",
    "plt.title('ROC Curve')\n",
    "plt.legend(['Baseline', f'ROC AUC = {auc_score:.2f}'])"
   ]
  },
  {
   "cell_type": "code",
   "execution_count": null,
   "metadata": {},
   "outputs": [],
   "source": [
    "sns.heatmap(confusion_matrix(y_test, y_pred, normalize = 'all'), annot = True, cmap=\"Blues\")"
   ]
  },
  {
   "cell_type": "code",
   "execution_count": null,
   "metadata": {},
   "outputs": [],
   "source": [
    "from sklearn.metrics import classification_report\n",
    "print(classification_report(y_pred, y_test))"
   ]
  },
  {
   "cell_type": "code",
   "execution_count": null,
   "metadata": {},
   "outputs": [],
   "source": [
    "log_loss(y_test, y_pred_proba)"
   ]
  },
  {
   "cell_type": "code",
   "execution_count": null,
   "metadata": {},
   "outputs": [],
   "source": [
    "log_loss(y_train, model.predict_proba(X_train))"
   ]
  },
  {
   "cell_type": "code",
   "execution_count": null,
   "metadata": {},
   "outputs": [],
   "source": []
  },
  {
   "cell_type": "code",
   "execution_count": null,
   "metadata": {},
   "outputs": [],
   "source": []
  }
 ],
 "metadata": {
  "kernelspec": {
   "display_name": "Python 3",
   "language": "python",
   "name": "python3"
  },
  "language_info": {
   "codemirror_mode": {
    "name": "ipython",
    "version": 3
   },
   "file_extension": ".py",
   "mimetype": "text/x-python",
   "name": "python",
   "nbconvert_exporter": "python",
   "pygments_lexer": "ipython3",
   "version": "3.7.7"
  }
 },
 "nbformat": 4,
 "nbformat_minor": 4
}
