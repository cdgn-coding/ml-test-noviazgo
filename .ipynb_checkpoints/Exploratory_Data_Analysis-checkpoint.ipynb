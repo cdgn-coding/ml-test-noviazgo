{
 "cells": [
  {
   "cell_type": "code",
   "execution_count": 8,
   "metadata": {},
   "outputs": [
    {
     "data": {
      "text/html": [
       "<div>\n",
       "<style scoped>\n",
       "    .dataframe tbody tr th:only-of-type {\n",
       "        vertical-align: middle;\n",
       "    }\n",
       "\n",
       "    .dataframe tbody tr th {\n",
       "        vertical-align: top;\n",
       "    }\n",
       "\n",
       "    .dataframe thead th {\n",
       "        text-align: right;\n",
       "    }\n",
       "</style>\n",
       "<table border=\"1\" class=\"dataframe\">\n",
       "  <thead>\n",
       "    <tr style=\"text-align: right;\">\n",
       "      <th></th>\n",
       "      <th>Unnamed: 0</th>\n",
       "      <th>fecha</th>\n",
       "      <th>hora</th>\n",
       "      <th>edad</th>\n",
       "      <th>genero</th>\n",
       "      <th>barrio</th>\n",
       "      <th>pregunta_1</th>\n",
       "      <th>pregunta_2</th>\n",
       "      <th>pregunta_3</th>\n",
       "      <th>pregunta_4</th>\n",
       "      <th>...</th>\n",
       "      <th>pregunta_6</th>\n",
       "      <th>pregunta_7</th>\n",
       "      <th>pregunta_8</th>\n",
       "      <th>pregunta_9</th>\n",
       "      <th>pregunta_10</th>\n",
       "      <th>pregunta_11</th>\n",
       "      <th>pregunta_12</th>\n",
       "      <th>pregunta_13</th>\n",
       "      <th>barrio_completo</th>\n",
       "      <th>poblacion_por_barrio</th>\n",
       "    </tr>\n",
       "  </thead>\n",
       "  <tbody>\n",
       "    <tr>\n",
       "      <th>0</th>\n",
       "      <td>0</td>\n",
       "      <td>2019-06-14</td>\n",
       "      <td>09:09:00</td>\n",
       "      <td>27</td>\n",
       "      <td>Mujer</td>\n",
       "      <td>Constitucion</td>\n",
       "      <td>A</td>\n",
       "      <td>A</td>\n",
       "      <td>A</td>\n",
       "      <td>B</td>\n",
       "      <td>...</td>\n",
       "      <td>B</td>\n",
       "      <td>C</td>\n",
       "      <td>C</td>\n",
       "      <td>B</td>\n",
       "      <td>C</td>\n",
       "      <td>B</td>\n",
       "      <td>C</td>\n",
       "      <td>C</td>\n",
       "      <td>Constitucion</td>\n",
       "      <td>44107</td>\n",
       "    </tr>\n",
       "    <tr>\n",
       "      <th>1</th>\n",
       "      <td>1</td>\n",
       "      <td>2019-06-13</td>\n",
       "      <td>23:20:00</td>\n",
       "      <td>17</td>\n",
       "      <td>Mujer</td>\n",
       "      <td>Otro</td>\n",
       "      <td>A</td>\n",
       "      <td>B</td>\n",
       "      <td>B</td>\n",
       "      <td>B</td>\n",
       "      <td>...</td>\n",
       "      <td>C</td>\n",
       "      <td>C</td>\n",
       "      <td>B</td>\n",
       "      <td>B</td>\n",
       "      <td>C</td>\n",
       "      <td>B</td>\n",
       "      <td>C</td>\n",
       "      <td>C</td>\n",
       "      <td>Coghlan</td>\n",
       "      <td>18604</td>\n",
       "    </tr>\n",
       "    <tr>\n",
       "      <th>2</th>\n",
       "      <td>2</td>\n",
       "      <td>2019-06-13</td>\n",
       "      <td>16:33:00</td>\n",
       "      <td>15</td>\n",
       "      <td>Mujer</td>\n",
       "      <td>Recoleta</td>\n",
       "      <td>B</td>\n",
       "      <td>B</td>\n",
       "      <td>C</td>\n",
       "      <td>B</td>\n",
       "      <td>...</td>\n",
       "      <td>B</td>\n",
       "      <td>B</td>\n",
       "      <td>A</td>\n",
       "      <td>A</td>\n",
       "      <td>A</td>\n",
       "      <td>A</td>\n",
       "      <td>A</td>\n",
       "      <td>A</td>\n",
       "      <td>Recoleta</td>\n",
       "      <td>157932</td>\n",
       "    </tr>\n",
       "    <tr>\n",
       "      <th>3</th>\n",
       "      <td>3</td>\n",
       "      <td>2019-06-13</td>\n",
       "      <td>16:10:00</td>\n",
       "      <td>20</td>\n",
       "      <td>Mujer</td>\n",
       "      <td>Barracas</td>\n",
       "      <td>B</td>\n",
       "      <td>C</td>\n",
       "      <td>C</td>\n",
       "      <td>C</td>\n",
       "      <td>...</td>\n",
       "      <td>C</td>\n",
       "      <td>C</td>\n",
       "      <td>C</td>\n",
       "      <td>C</td>\n",
       "      <td>C</td>\n",
       "      <td>B</td>\n",
       "      <td>C</td>\n",
       "      <td>C</td>\n",
       "      <td>Barracas</td>\n",
       "      <td>89452</td>\n",
       "    </tr>\n",
       "    <tr>\n",
       "      <th>4</th>\n",
       "      <td>4</td>\n",
       "      <td>2019-06-13</td>\n",
       "      <td>14:29:00</td>\n",
       "      <td>39</td>\n",
       "      <td>Hombre</td>\n",
       "      <td>Almagro</td>\n",
       "      <td>B</td>\n",
       "      <td>C</td>\n",
       "      <td>B</td>\n",
       "      <td>B</td>\n",
       "      <td>...</td>\n",
       "      <td>C</td>\n",
       "      <td>B</td>\n",
       "      <td>C</td>\n",
       "      <td>B</td>\n",
       "      <td>C</td>\n",
       "      <td>C</td>\n",
       "      <td>B</td>\n",
       "      <td>C</td>\n",
       "      <td>Almagro</td>\n",
       "      <td>131699</td>\n",
       "    </tr>\n",
       "  </tbody>\n",
       "</table>\n",
       "<p>5 rows × 21 columns</p>\n",
       "</div>"
      ],
      "text/plain": [
       "   Unnamed: 0       fecha      hora  edad  genero        barrio pregunta_1  \\\n",
       "0           0  2019-06-14  09:09:00    27   Mujer  Constitucion          A   \n",
       "1           1  2019-06-13  23:20:00    17   Mujer          Otro          A   \n",
       "2           2  2019-06-13  16:33:00    15   Mujer      Recoleta          B   \n",
       "3           3  2019-06-13  16:10:00    20   Mujer      Barracas          B   \n",
       "4           4  2019-06-13  14:29:00    39  Hombre       Almagro          B   \n",
       "\n",
       "  pregunta_2 pregunta_3 pregunta_4  ... pregunta_6 pregunta_7 pregunta_8  \\\n",
       "0          A          A          B  ...          B          C          C   \n",
       "1          B          B          B  ...          C          C          B   \n",
       "2          B          C          B  ...          B          B          A   \n",
       "3          C          C          C  ...          C          C          C   \n",
       "4          C          B          B  ...          C          B          C   \n",
       "\n",
       "  pregunta_9 pregunta_10 pregunta_11 pregunta_12 pregunta_13 barrio_completo  \\\n",
       "0          B           C           B           C           C    Constitucion   \n",
       "1          B           C           B           C           C         Coghlan   \n",
       "2          A           A           A           A           A        Recoleta   \n",
       "3          C           C           B           C           C        Barracas   \n",
       "4          B           C           C           B           C         Almagro   \n",
       "\n",
       "  poblacion_por_barrio  \n",
       "0                44107  \n",
       "1                18604  \n",
       "2               157932  \n",
       "3                89452  \n",
       "4               131699  \n",
       "\n",
       "[5 rows x 21 columns]"
      ]
     },
     "execution_count": 8,
     "metadata": {},
     "output_type": "execute_result"
    }
   ],
   "source": [
    "import pandas as pd\n",
    "import numpy as np\n",
    "import seaborn as sns\n",
    "import matplotlib.pyplot as plt\n",
    "\n",
    "df = pd.read_csv(\"data/dataset_joined.csv\")\n",
    "df.head(5)"
   ]
  },
  {
   "cell_type": "code",
   "execution_count": 9,
   "metadata": {},
   "outputs": [],
   "source": [
    "df_columnas = df[[\"fecha\",'edad', 'genero', 'barrio','barrio_completo',\n",
    "       'poblacion_por_barrio']]"
   ]
  },
  {
   "cell_type": "markdown",
   "metadata": {},
   "source": [
    "### Visualizamos los nulos"
   ]
  },
  {
   "cell_type": "code",
   "execution_count": 10,
   "metadata": {},
   "outputs": [
    {
     "data": {
      "text/markdown": [
       "* ```fecha``` tiene 0 nulos, lo cual representa el 0.00%"
      ],
      "text/plain": [
       "<IPython.core.display.Markdown object>"
      ]
     },
     "metadata": {},
     "output_type": "display_data"
    },
    {
     "data": {
      "text/markdown": [
       "* ```edad``` tiene 0 nulos, lo cual representa el 0.00%"
      ],
      "text/plain": [
       "<IPython.core.display.Markdown object>"
      ]
     },
     "metadata": {},
     "output_type": "display_data"
    },
    {
     "data": {
      "text/markdown": [
       "* ```genero``` tiene 0 nulos, lo cual representa el 0.00%"
      ],
      "text/plain": [
       "<IPython.core.display.Markdown object>"
      ]
     },
     "metadata": {},
     "output_type": "display_data"
    },
    {
     "data": {
      "text/markdown": [
       "* ```barrio``` tiene 0 nulos, lo cual representa el 0.00%"
      ],
      "text/plain": [
       "<IPython.core.display.Markdown object>"
      ]
     },
     "metadata": {},
     "output_type": "display_data"
    },
    {
     "data": {
      "text/markdown": [
       "* ```barrio_completo``` tiene 0 nulos, lo cual representa el 0.00%"
      ],
      "text/plain": [
       "<IPython.core.display.Markdown object>"
      ]
     },
     "metadata": {},
     "output_type": "display_data"
    },
    {
     "data": {
      "text/markdown": [
       "* ```poblacion_por_barrio``` tiene 0 nulos, lo cual representa el 0.00%"
      ],
      "text/plain": [
       "<IPython.core.display.Markdown object>"
      ]
     },
     "metadata": {},
     "output_type": "display_data"
    }
   ],
   "source": [
    "from IPython.display import Markdown, display\n",
    "\n",
    "nulls_by_column = df_columnas.isnull().sum()\n",
    "dataset_size = df.shape[0]\n",
    "\n",
    "for column in nulls_by_column.index:\n",
    "    column_nulls = nulls_by_column[column]\n",
    "    null_percentage = 100 * column_nulls / dataset_size\n",
    "    display(Markdown(f\"* ```{column}``` tiene {column_nulls} nulos, lo cual representa el {null_percentage:.2f}%\"))"
   ]
  },
  {
   "cell_type": "markdown",
   "metadata": {},
   "source": [
    "### Visualizamos columna EDAD"
   ]
  },
  {
   "cell_type": "code",
   "execution_count": 11,
   "metadata": {},
   "outputs": [
    {
     "data": {
      "image/png": "[encoded data removed]",
      "text/plain": [
       "<Figure size 432x288 with 1 Axes>"
      ]
     },
     "metadata": {
      "needs_background": "light"
     },
     "output_type": "display_data"
    }
   ],
   "source": [
    "df.edad.hist(bins=150);"
   ]
  },
  {
   "cell_type": "markdown",
   "metadata": {},
   "source": [
    "###  Podemos escribir en el plot\n",
    "\n"
   ]
  },
  {
   "cell_type": "code",
   "execution_count": 37,
   "metadata": {},
   "outputs": [],
   "source": [
    "#plt.hist(df.edad, bins=150);\n",
    "#plt.annotate('¿Qué hacemos con esto?', xy=(15, 50), xytext=(2.5, 300),\n",
    "            #arrowprops=dict(facecolor='black', shrink=15), fontsize=16)\n",
    "\n",
    "#plt.annotate('y esto', xy=(12.5, 600), xytext=(16, 500),\n",
    "            #arrowprops=dict(facecolor='black', shrink=15), fontsize=16\n",
    "            #);\n",
    "#plt.savefig('esto2')"
   ]
  },
  {
   "cell_type": "code",
   "execution_count": 13,
   "metadata": {},
   "outputs": [
    {
     "data": {
      "text/plain": [
       "<matplotlib.axes._subplots.AxesSubplot at 0x7f87706869d0>"
      ]
     },
     "execution_count": 13,
     "metadata": {},
     "output_type": "execute_result"
    },
    {
     "data": {
      "image/png": "[encoded data removed]",
      "text/plain": [
       "<Figure size 432x288 with 1 Axes>"
      ]
     },
     "metadata": {
      "needs_background": "light"
     },
     "output_type": "display_data"
    }
   ],
   "source": [
    "sns.boxplot(df.edad)"
   ]
  },
  {
   "cell_type": "markdown",
   "metadata": {},
   "source": [
    "### Quitamos los outliers"
   ]
  },
  {
   "cell_type": "code",
   "execution_count": 15,
   "metadata": {},
   "outputs": [],
   "source": [
    "df_edad = df[\"edad\"]"
   ]
  },
  {
   "cell_type": "code",
   "execution_count": 16,
   "metadata": {},
   "outputs": [
    {
     "data": {
      "image/png": "[encoded data removed]",
      "text/plain": [
       "<Figure size 432x288 with 1 Axes>"
      ]
     },
     "metadata": {
      "needs_background": "light"
     },
     "output_type": "display_data"
    }
   ],
   "source": [
    "q1 = df_edad.quantile(0.25)\n",
    "q2 = df_edad.quantile(0.5)\n",
    "q3 = df_edad.quantile(0.75)\n",
    "\n",
    "iqr = q3 - q1\n",
    "\n",
    "up_threshold = q3 + 1.5 * iqr\n",
    "low_threshold = q1 - 1.5* iqr\n",
    "\n",
    "no_outliers_mask = (df_edad > low_threshold) & (df_edad < up_threshold)\n",
    "\n",
    "ax = sns.boxplot(df_edad[no_outliers_mask], orient = 'v').set(\n",
    "    xlabel='', \n",
    "    ylabel='Edad'\n",
    ")"
   ]
  },
  {
   "cell_type": "code",
   "execution_count": 17,
   "metadata": {},
   "outputs": [
    {
     "name": "stdout",
     "output_type": "stream",
     "text": [
      "El skew es 0.5893768101027447 cuando quitamos los outliers\n"
     ]
    }
   ],
   "source": [
    "print(f\"El skew es {df_edad[no_outliers_mask].skew()} cuando quitamos los outliers\")"
   ]
  },
  {
   "cell_type": "code",
   "execution_count": 18,
   "metadata": {},
   "outputs": [
    {
     "data": {
      "text/plain": [
       "count    5561.000000\n",
       "mean       27.400108\n",
       "std         7.758342\n",
       "min         4.000000\n",
       "25%        21.000000\n",
       "50%        26.000000\n",
       "75%        32.000000\n",
       "max        50.000000\n",
       "Name: edad, dtype: float64"
      ]
     },
     "execution_count": 18,
     "metadata": {},
     "output_type": "execute_result"
    }
   ],
   "source": [
    "df_edad[no_outliers_mask].describe()"
   ]
  },
  {
   "cell_type": "code",
   "execution_count": 19,
   "metadata": {},
   "outputs": [
    {
     "name": "stdout",
     "output_type": "stream",
     "text": [
      "\n",
      "Sin outliers hemos tomado un 97.97% de los datos que teníamos, considerando solamente 115 registros como outliers\n",
      "\n"
     ]
    }
   ],
   "source": [
    "n_without_outliers = df_edad[no_outliers_mask].shape[0]\n",
    "n_including_outliers = df_edad.shape[0]\n",
    "\n",
    "taken_percentage = 100 * n_without_outliers / n_including_outliers\n",
    "print(f\"\"\"\n",
    "Sin outliers hemos tomado un {taken_percentage:.2f}% de los datos que teníamos, considerando solamente {n_including_outliers - n_without_outliers} registros como outliers\n",
    "\"\"\")"
   ]
  },
  {
   "cell_type": "markdown",
   "metadata": {},
   "source": [
    "### Trabajamos sobre la columna BARRIO"
   ]
  },
  {
   "cell_type": "code",
   "execution_count": 20,
   "metadata": {},
   "outputs": [],
   "source": [
    "barrio = df.barrio.value_counts().head(5)"
   ]
  },
  {
   "cell_type": "code",
   "execution_count": 21,
   "metadata": {},
   "outputs": [
    {
     "data": {
      "text/plain": [
       "<matplotlib.axes._subplots.AxesSubplot at 0x7f8770bd6290>"
      ]
     },
     "execution_count": 21,
     "metadata": {},
     "output_type": "execute_result"
    },
    {
     "data": {
      "image/png": "[encoded data removed]",
      "text/plain": [
       "<Figure size 432x288 with 1 Axes>"
      ]
     },
     "metadata": {
      "needs_background": "light"
     },
     "output_type": "display_data"
    }
   ],
   "source": [
    "sns.barplot(x=barrio.index, y=barrio)"
   ]
  },
  {
   "cell_type": "code",
   "execution_count": 23,
   "metadata": {},
   "outputs": [
    {
     "data": {
      "text/plain": [
       "0       Constitucion\n",
       "1               Otro\n",
       "2           Recoleta\n",
       "3           Barracas\n",
       "4            Almagro\n",
       "            ...     \n",
       "5671       Agronomia\n",
       "5672    Villa lugano\n",
       "5673         Almagro\n",
       "5674         Almagro\n",
       "5675       Agronomia\n",
       "Name: barrio, Length: 5676, dtype: object"
      ]
     },
     "execution_count": 23,
     "metadata": {},
     "output_type": "execute_result"
    }
   ],
   "source": [
    "df.barrio"
   ]
  },
  {
   "cell_type": "code",
   "execution_count": null,
   "metadata": {},
   "outputs": [],
   "source": []
  },
  {
   "cell_type": "markdown",
   "metadata": {},
   "source": [
    "### Podemos tirar un barplot acá"
   ]
  },
  {
   "cell_type": "code",
   "execution_count": 24,
   "metadata": {},
   "outputs": [
    {
     "data": {
      "text/plain": [
       "Mujer     4736\n",
       "Hombre     912\n",
       "Otro        28\n",
       "Name: genero, dtype: int64"
      ]
     },
     "execution_count": 24,
     "metadata": {},
     "output_type": "execute_result"
    }
   ],
   "source": [
    "df[\"genero\"].value_counts()"
   ]
  },
  {
   "cell_type": "code",
   "execution_count": 25,
   "metadata": {},
   "outputs": [
    {
     "data": {
      "text/plain": [
       "<matplotlib.axes._subplots.AxesSubplot at 0x7f8770b39690>"
      ]
     },
     "execution_count": 25,
     "metadata": {},
     "output_type": "execute_result"
    },
    {
     "data": {
      "image/png": "[encoded data removed]",
      "text/plain": [
       "<Figure size 432x288 with 1 Axes>"
      ]
     },
     "metadata": {
      "needs_background": "light"
     },
     "output_type": "display_data"
    }
   ],
   "source": [
    "sns.countplot(x='genero', data=df)"
   ]
  },
  {
   "cell_type": "code",
   "execution_count": 35,
   "metadata": {},
   "outputs": [
    {
     "data": {
      "text/plain": [
       "0       Constitucion\n",
       "1            Coghlan\n",
       "2           Recoleta\n",
       "3           Barracas\n",
       "4            Almagro\n",
       "            ...     \n",
       "5671       Agronomia\n",
       "5672    Villa lugano\n",
       "5673         Almagro\n",
       "5674         Almagro\n",
       "5675       Agronomia\n",
       "Name: barrio_completo, Length: 5676, dtype: object"
      ]
     },
     "execution_count": 35,
     "metadata": {},
     "output_type": "execute_result"
    }
   ],
   "source": [
    "df[\"barrio_completo\"]"
   ]
  },
  {
   "cell_type": "code",
   "execution_count": null,
   "metadata": {},
   "outputs": [],
   "source": []
  },
  {
   "cell_type": "code",
   "execution_count": 28,
   "metadata": {},
   "outputs": [],
   "source": [
    "df_columnas = df[['fecha', 'edad', 'genero', 'barrio', 'barrio_completo',\n",
    "       'poblacion_por_barrio']]"
   ]
  },
  {
   "cell_type": "markdown",
   "metadata": {},
   "source": [
    "## Ploteamos cantidad de participantes de encuesta por barrio"
   ]
  },
  {
   "cell_type": "code",
   "execution_count": 52,
   "metadata": {},
   "outputs": [
    {
     "data": {
      "text/plain": [
       "Almagro      371\n",
       "Belgrano     365\n",
       "Palermo      342\n",
       "Caballito    296\n",
       "Agronomia    273\n",
       "Name: barrio_completo, dtype: int64"
      ]
     },
     "execution_count": 52,
     "metadata": {},
     "output_type": "execute_result"
    }
   ],
   "source": [
    "porbarrio = df.barrio_completo.value_counts()\n",
    "#porbarrio = barioss.rename_axis('BARRIO').reset_index(name='counts')\n",
    "porbarrio.head(5)"
   ]
  },
  {
   "cell_type": "code",
   "execution_count": 55,
   "metadata": {},
   "outputs": [],
   "source": [
    "porbarrio = porbarrio.to_frame().reset_index()"
   ]
  },
  {
   "cell_type": "code",
   "execution_count": 57,
   "metadata": {},
   "outputs": [],
   "source": [
    "#porbarrio.to_csv('dfencuestadosporbarrio', index = False)"
   ]
  },
  {
   "cell_type": "code",
   "execution_count": null,
   "metadata": {},
   "outputs": [],
   "source": []
  },
  {
   "cell_type": "code",
   "execution_count": null,
   "metadata": {},
   "outputs": [],
   "source": []
  }
 ],
 "metadata": {
  "kernelspec": {
   "display_name": "Python 3",
   "language": "python",
   "name": "python3"
  },
  "language_info": {
   "codemirror_mode": {
    "name": "ipython",
    "version": 3
   },
   "file_extension": ".py",
   "mimetype": "text/x-python",
   "name": "python",
   "nbconvert_exporter": "python",
   "pygments_lexer": "ipython3",
   "version": "3.7.7"
  }
 },
 "nbformat": 4,
 "nbformat_minor": 4
}
