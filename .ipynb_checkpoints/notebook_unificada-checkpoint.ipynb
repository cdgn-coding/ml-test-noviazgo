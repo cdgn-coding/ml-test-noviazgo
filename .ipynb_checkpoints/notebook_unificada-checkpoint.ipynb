{
 "cells": [
  {
   "cell_type": "markdown",
   "metadata": {},
   "source": [
    "## Desafío 3 - DH - ML Clasificación"
   ]
  },
  {
   "cell_type": "markdown",
   "metadata": {},
   "source": [
    "<a id=\"tabla_contenidos\"></a> \n",
    "### Tabla de Contenidos\n",
    "\n",
    "#### <a href='#section_proposito'>0. Propósito de esta Notebook</a>\n",
    "- ##### <a href='#section_motivacion'>0.1 Motivación</a>\n",
    "- ##### <a href='#section_dataset_info'>0.2 Detalles del Dataset</a>\n",
    "- ##### <a href='#section_antecedentes'>0.3 Estado del Arte</a>\n",
    "\n",
    "#### <a href='#section_preparacion'>1. Preparación del Dataset</a>\n",
    "- ##### <a href='#section_importacion'>1.1 Importación</a>\n",
    "- ##### <a href='#section_analisis'>1.2 Análisis Exploratorio</a>\n",
    "- ##### <a href='#section_eliminacion'>1.3 Acotación de interés</a>\n",
    "- ##### <a href='#section_split'>1.4 Selección de Features y target</a>\n",
    "\n",
    "#### <a href='#section_algoritmos'>2. Algoritmos y predicción</a>\n",
    "- ##### <a href='#knn'>2.1 K Nearest Neighbors (KNN)</a>\n",
    "- ##### <a href='#reg_log'>2.2 Regresión Logística</a>\n",
    "- ##### <a href='#naive'>2.3 Naive Bayes</a>\n",
    "- ##### <a href='#naive_gaussian'>2.4 Naive Bayes Gaussian</a>\n",
    "\n",
    "#### <a href='#section_consolidacion'>3. Consolidación</a>\n",
    "- ##### <a href='#pipe'>3.1 Pipelines</a>\n",
    "- ##### <a href='#conclusion'>3.2 Conclusión</a>"
   ]
  },
  {
   "cell_type": "markdown",
   "metadata": {},
   "source": [
    "### <a id='section_proposito'>0. Propósito de esta Notebook</a>"
   ]
  },
  {
   "cell_type": "markdown",
   "metadata": {},
   "source": [
    "#### <a id=\"section_motivacion\">0.1 Motivación</a> "
   ]
  },
  {
   "cell_type": "code",
   "execution_count": null,
   "metadata": {},
   "outputs": [],
   "source": []
  },
  {
   "cell_type": "code",
   "execution_count": null,
   "metadata": {},
   "outputs": [],
   "source": []
  },
  {
   "cell_type": "markdown",
   "metadata": {},
   "source": [
    "<a id='section_preparacion'></a> \n",
    "### 1. Preparación del Dataset"
   ]
  },
  {
   "cell_type": "markdown",
   "metadata": {},
   "source": [
    "### <a id=\"section_importacion\">1.1 Importación de datos</a> "
   ]
  },
  {
   "cell_type": "markdown",
   "metadata": {},
   "source": [
    "#### Importación de datos de población y resultados de encuesta\n",
    "Los datos de población nos permitirán realizar una exploración geográfica de la ubicación de los encuestados"
   ]
  },
  {
   "cell_type": "code",
   "execution_count": 41,
   "metadata": {},
   "outputs": [],
   "source": [
    "# librerías\n",
    "import numpy as np\n",
    "import pandas as pd\n",
    "import unicodedata"
   ]
  },
  {
   "cell_type": "code",
   "execution_count": 42,
   "metadata": {},
   "outputs": [],
   "source": [
    "resultados_del_test = pd.read_csv(\"data/resultados-del-test.csv\", delimiter = \",\")"
   ]
  },
  {
   "cell_type": "code",
   "execution_count": 43,
   "metadata": {},
   "outputs": [],
   "source": [
    "poblacion_por_barrio = pd.read_csv(\"data/caba_pob_barrios_2010.csv\")"
   ]
  },
  {
   "cell_type": "markdown",
   "metadata": {},
   "source": [
    "#### Unifico en un dataset\n",
    "Elimino tildes en los nombres de los barrios de cada dataset y agrego población por barrio al resultado de las encuestas"
   ]
  },
  {
   "cell_type": "code",
   "execution_count": 44,
   "metadata": {},
   "outputs": [],
   "source": [
    "def elimina_tildes(cadena):\n",
    "    s = ''.join((c for c in unicodedata.normalize('NFD',cadena) if unicodedata.category(c) != 'Mn'))\n",
    "    return s"
   ]
  },
  {
   "cell_type": "code",
   "execution_count": 45,
   "metadata": {},
   "outputs": [],
   "source": [
    "poblacion_por_barrio.BARRIO = poblacion_por_barrio.BARRIO.apply(elimina_tildes).apply(lambda barrio: barrio.capitalize())"
   ]
  },
  {
   "cell_type": "code",
   "execution_count": 46,
   "metadata": {},
   "outputs": [],
   "source": [
    "resultados_del_test.barrio = resultados_del_test.barrio.apply(elimina_tildes).apply(lambda barrio: barrio.capitalize())"
   ]
  },
  {
   "cell_type": "code",
   "execution_count": 47,
   "metadata": {},
   "outputs": [],
   "source": [
    "poblacion_por_barrio.columns = ['barrio', 'poblacion']"
   ]
  },
  {
   "cell_type": "code",
   "execution_count": 48,
   "metadata": {},
   "outputs": [],
   "source": [
    "poblacion_por_barrio = poblacion_por_barrio.set_index('barrio')"
   ]
  },
  {
   "cell_type": "code",
   "execution_count": 49,
   "metadata": {},
   "outputs": [],
   "source": [
    "def obtener_poblacion_por_barrio(barrio):\n",
    "    return poblacion_por_barrio.loc[barrio].poblacion"
   ]
  },
  {
   "cell_type": "code",
   "execution_count": 50,
   "metadata": {},
   "outputs": [],
   "source": [
    "def imputar_barrio(barrio):\n",
    "    barrios = poblacion_por_barrio.index.tolist()\n",
    "    if barrio == \"La boca\": return \"Boca\"\n",
    "    if barrio == \"Montserrat\": return \"Monserrat\"\n",
    "    if barrio == \"Villa general mitre\": return \"Villa gral. mitre\"\n",
    "    if barrio == \"La paternal\": return \"Paternal\"\n",
    "    if barrio == \"Otro\": return np.random.choice(barrios)\n",
    "    return barrio"
   ]
  },
  {
   "cell_type": "code",
   "execution_count": 51,
   "metadata": {},
   "outputs": [],
   "source": [
    "resultados_del_test[\"barrio_completo\"] = resultados_del_test.barrio.apply(imputar_barrio)"
   ]
  },
  {
   "cell_type": "code",
   "execution_count": 52,
   "metadata": {},
   "outputs": [],
   "source": [
    "resultados_del_test[\"poblacion_por_barrio\"] = resultados_del_test.barrio_completo.apply(obtener_poblacion_por_barrio)"
   ]
  },
  {
   "cell_type": "markdown",
   "metadata": {},
   "source": [
    "#### Exporto y resguardo el dataset unificado"
   ]
  },
  {
   "cell_type": "code",
   "execution_count": 53,
   "metadata": {},
   "outputs": [],
   "source": [
    "resultados_del_test.to_csv(\"data/dataset_joined.csv\")"
   ]
  },
  {
   "cell_type": "markdown",
   "metadata": {},
   "source": [
    "### <a id=\"section_analisis\">1.2 Análisis Exploratorio</a> \n"
   ]
  },
  {
   "cell_type": "markdown",
   "metadata": {},
   "source": [
    "Importo el dataset unificado"
   ]
  },
  {
   "cell_type": "code",
   "execution_count": 54,
   "metadata": {},
   "outputs": [
    {
     "data": {
      "text/html": [
       "<div>\n",
       "<style scoped>\n",
       "    .dataframe tbody tr th:only-of-type {\n",
       "        vertical-align: middle;\n",
       "    }\n",
       "\n",
       "    .dataframe tbody tr th {\n",
       "        vertical-align: top;\n",
       "    }\n",
       "\n",
       "    .dataframe thead th {\n",
       "        text-align: right;\n",
       "    }\n",
       "</style>\n",
       "<table border=\"1\" class=\"dataframe\">\n",
       "  <thead>\n",
       "    <tr style=\"text-align: right;\">\n",
       "      <th></th>\n",
       "      <th>fecha</th>\n",
       "      <th>hora</th>\n",
       "      <th>edad</th>\n",
       "      <th>genero</th>\n",
       "      <th>barrio</th>\n",
       "      <th>pregunta_1</th>\n",
       "      <th>pregunta_2</th>\n",
       "      <th>pregunta_3</th>\n",
       "      <th>pregunta_4</th>\n",
       "      <th>pregunta_5</th>\n",
       "      <th>pregunta_6</th>\n",
       "      <th>pregunta_7</th>\n",
       "      <th>pregunta_8</th>\n",
       "      <th>pregunta_9</th>\n",
       "      <th>pregunta_10</th>\n",
       "      <th>pregunta_11</th>\n",
       "      <th>pregunta_12</th>\n",
       "      <th>pregunta_13</th>\n",
       "      <th>barrio_completo</th>\n",
       "      <th>poblacion_por_barrio</th>\n",
       "    </tr>\n",
       "  </thead>\n",
       "  <tbody>\n",
       "    <tr>\n",
       "      <th>0</th>\n",
       "      <td>2019-06-14</td>\n",
       "      <td>09:09:00</td>\n",
       "      <td>27</td>\n",
       "      <td>Mujer</td>\n",
       "      <td>Constitucion</td>\n",
       "      <td>A</td>\n",
       "      <td>A</td>\n",
       "      <td>A</td>\n",
       "      <td>B</td>\n",
       "      <td>A</td>\n",
       "      <td>B</td>\n",
       "      <td>C</td>\n",
       "      <td>C</td>\n",
       "      <td>B</td>\n",
       "      <td>C</td>\n",
       "      <td>B</td>\n",
       "      <td>C</td>\n",
       "      <td>C</td>\n",
       "      <td>Constitucion</td>\n",
       "      <td>44107</td>\n",
       "    </tr>\n",
       "    <tr>\n",
       "      <th>1</th>\n",
       "      <td>2019-06-13</td>\n",
       "      <td>23:20:00</td>\n",
       "      <td>17</td>\n",
       "      <td>Mujer</td>\n",
       "      <td>Otro</td>\n",
       "      <td>A</td>\n",
       "      <td>B</td>\n",
       "      <td>B</td>\n",
       "      <td>B</td>\n",
       "      <td>B</td>\n",
       "      <td>C</td>\n",
       "      <td>C</td>\n",
       "      <td>B</td>\n",
       "      <td>B</td>\n",
       "      <td>C</td>\n",
       "      <td>B</td>\n",
       "      <td>C</td>\n",
       "      <td>C</td>\n",
       "      <td>Mataderos</td>\n",
       "      <td>64436</td>\n",
       "    </tr>\n",
       "    <tr>\n",
       "      <th>2</th>\n",
       "      <td>2019-06-13</td>\n",
       "      <td>16:33:00</td>\n",
       "      <td>15</td>\n",
       "      <td>Mujer</td>\n",
       "      <td>Recoleta</td>\n",
       "      <td>B</td>\n",
       "      <td>B</td>\n",
       "      <td>C</td>\n",
       "      <td>B</td>\n",
       "      <td>C</td>\n",
       "      <td>B</td>\n",
       "      <td>B</td>\n",
       "      <td>A</td>\n",
       "      <td>A</td>\n",
       "      <td>A</td>\n",
       "      <td>A</td>\n",
       "      <td>A</td>\n",
       "      <td>A</td>\n",
       "      <td>Recoleta</td>\n",
       "      <td>157932</td>\n",
       "    </tr>\n",
       "  </tbody>\n",
       "</table>\n",
       "</div>"
      ],
      "text/plain": [
       "        fecha      hora  edad genero        barrio pregunta_1 pregunta_2  \\\n",
       "0  2019-06-14  09:09:00    27  Mujer  Constitucion          A          A   \n",
       "1  2019-06-13  23:20:00    17  Mujer          Otro          A          B   \n",
       "2  2019-06-13  16:33:00    15  Mujer      Recoleta          B          B   \n",
       "\n",
       "  pregunta_3 pregunta_4 pregunta_5 pregunta_6 pregunta_7 pregunta_8  \\\n",
       "0          A          B          A          B          C          C   \n",
       "1          B          B          B          C          C          B   \n",
       "2          C          B          C          B          B          A   \n",
       "\n",
       "  pregunta_9 pregunta_10 pregunta_11 pregunta_12 pregunta_13 barrio_completo  \\\n",
       "0          B           C           B           C           C    Constitucion   \n",
       "1          B           C           B           C           C       Mataderos   \n",
       "2          A           A           A           A           A        Recoleta   \n",
       "\n",
       "   poblacion_por_barrio  \n",
       "0                 44107  \n",
       "1                 64436  \n",
       "2                157932  "
      ]
     },
     "execution_count": 54,
     "metadata": {},
     "output_type": "execute_result"
    }
   ],
   "source": [
    "df = pd.read_csv(\"data/dataset_joined.csv\", delimiter = \",\",  index_col = \"Unnamed: 0\")\n",
    "df.head(3)"
   ]
  },
  {
   "cell_type": "code",
   "execution_count": 55,
   "metadata": {},
   "outputs": [
    {
     "name": "stdout",
     "output_type": "stream",
     "text": [
      "<class 'pandas.core.frame.DataFrame'>\n",
      "Int64Index: 5676 entries, 0 to 5675\n",
      "Data columns (total 20 columns):\n",
      " #   Column                Non-Null Count  Dtype \n",
      "---  ------                --------------  ----- \n",
      " 0   fecha                 5676 non-null   object\n",
      " 1   hora                  5676 non-null   object\n",
      " 2   edad                  5676 non-null   int64 \n",
      " 3   genero                5676 non-null   object\n",
      " 4   barrio                5676 non-null   object\n",
      " 5   pregunta_1            5676 non-null   object\n",
      " 6   pregunta_2            5676 non-null   object\n",
      " 7   pregunta_3            5676 non-null   object\n",
      " 8   pregunta_4            5676 non-null   object\n",
      " 9   pregunta_5            5676 non-null   object\n",
      " 10  pregunta_6            5676 non-null   object\n",
      " 11  pregunta_7            5676 non-null   object\n",
      " 12  pregunta_8            5676 non-null   object\n",
      " 13  pregunta_9            5676 non-null   object\n",
      " 14  pregunta_10           5676 non-null   object\n",
      " 15  pregunta_11           5676 non-null   object\n",
      " 16  pregunta_12           5676 non-null   object\n",
      " 17  pregunta_13           5676 non-null   object\n",
      " 18  barrio_completo       5676 non-null   object\n",
      " 19  poblacion_por_barrio  5676 non-null   int64 \n",
      "dtypes: int64(2), object(18)\n",
      "memory usage: 931.2+ KB\n"
     ]
    }
   ],
   "source": [
    "df.info()"
   ]
  },
  {
   "cell_type": "markdown",
   "metadata": {},
   "source": [
    "#### Visualizamos los nulos"
   ]
  },
  {
   "cell_type": "code",
   "execution_count": 56,
   "metadata": {},
   "outputs": [],
   "source": [
    "### librerías de visualización\n",
    "import matplotlib.pyplot as plt\n",
    "import seaborn as sns"
   ]
  },
  {
   "cell_type": "code",
   "execution_count": 57,
   "metadata": {},
   "outputs": [],
   "source": [
    "df_columnas = df[[\"fecha\",'edad', 'genero', 'barrio','barrio_completo','poblacion_por_barrio']]"
   ]
  },
  {
   "cell_type": "code",
   "execution_count": 58,
   "metadata": {},
   "outputs": [
    {
     "data": {
      "text/markdown": [
       "* ```fecha``` tiene 0 nulos, lo cual representa el 0.00%"
      ],
      "text/plain": [
       "<IPython.core.display.Markdown object>"
      ]
     },
     "metadata": {},
     "output_type": "display_data"
    },
    {
     "data": {
      "text/markdown": [
       "* ```edad``` tiene 0 nulos, lo cual representa el 0.00%"
      ],
      "text/plain": [
       "<IPython.core.display.Markdown object>"
      ]
     },
     "metadata": {},
     "output_type": "display_data"
    },
    {
     "data": {
      "text/markdown": [
       "* ```genero``` tiene 0 nulos, lo cual representa el 0.00%"
      ],
      "text/plain": [
       "<IPython.core.display.Markdown object>"
      ]
     },
     "metadata": {},
     "output_type": "display_data"
    },
    {
     "data": {
      "text/markdown": [
       "* ```barrio``` tiene 0 nulos, lo cual representa el 0.00%"
      ],
      "text/plain": [
       "<IPython.core.display.Markdown object>"
      ]
     },
     "metadata": {},
     "output_type": "display_data"
    },
    {
     "data": {
      "text/markdown": [
       "* ```barrio_completo``` tiene 0 nulos, lo cual representa el 0.00%"
      ],
      "text/plain": [
       "<IPython.core.display.Markdown object>"
      ]
     },
     "metadata": {},
     "output_type": "display_data"
    },
    {
     "data": {
      "text/markdown": [
       "* ```poblacion_por_barrio``` tiene 0 nulos, lo cual representa el 0.00%"
      ],
      "text/plain": [
       "<IPython.core.display.Markdown object>"
      ]
     },
     "metadata": {},
     "output_type": "display_data"
    }
   ],
   "source": [
    "from IPython.display import Markdown, display\n",
    "\n",
    "nulls_by_column = df_columnas.isnull().sum()\n",
    "dataset_size = df.shape[0]\n",
    "\n",
    "for column in nulls_by_column.index:\n",
    "    column_nulls = nulls_by_column[column]\n",
    "    null_percentage = 100 * column_nulls / dataset_size\n",
    "    display(Markdown(f\"* ```{column}``` tiene {column_nulls} nulos, lo cual representa el {null_percentage:.2f}%\"))"
   ]
  },
  {
   "cell_type": "markdown",
   "metadata": {},
   "source": [
    "#### Barrio de los encuestados"
   ]
  },
  {
   "cell_type": "code",
   "execution_count": 59,
   "metadata": {},
   "outputs": [],
   "source": [
    "barrio = df.barrio.value_counts().head(5)"
   ]
  },
  {
   "cell_type": "code",
   "execution_count": 60,
   "metadata": {},
   "outputs": [
    {
     "data": {
      "text/plain": [
       "<matplotlib.axes._subplots.AxesSubplot at 0x1e5403414c8>"
      ]
     },
     "execution_count": 60,
     "metadata": {},
     "output_type": "execute_result"
    },
    {
     "data": {
      "image/png": "[encoded data removed]",
      "text/plain": [
       "<Figure size 432x288 with 1 Axes>"
      ]
     },
     "metadata": {
      "needs_background": "light"
     },
     "output_type": "display_data"
    }
   ],
   "source": [
    "sns.barplot(x=barrio.index, y=barrio)"
   ]
  },
  {
   "cell_type": "markdown",
   "metadata": {},
   "source": [
    "Vemos los primeros quince barrios con más encuestados"
   ]
  },
  {
   "cell_type": "code",
   "execution_count": 61,
   "metadata": {
    "scrolled": true
   },
   "outputs": [
    {
     "data": {
      "text/plain": [
       "<matplotlib.axes._subplots.AxesSubplot at 0x1e5402c1e88>"
      ]
     },
     "execution_count": 61,
     "metadata": {},
     "output_type": "execute_result"
    },
    {
     "data": {
      "image/png": "[encoded data removed]",
      "text/plain": [
       "<Figure size 432x288 with 1 Axes>"
      ]
     },
     "metadata": {
      "needs_background": "light"
     },
     "output_type": "display_data"
    }
   ],
   "source": [
    "sns.countplot(x='genero', data=df)"
   ]
  },
  {
   "cell_type": "markdown",
   "metadata": {},
   "source": [
    "#### Ploteamos cantidad de participantes de encuesta por barrio"
   ]
  },
  {
   "cell_type": "code",
   "execution_count": 62,
   "metadata": {},
   "outputs": [
    {
     "data": {
      "text/plain": [
       "Almagro      376\n",
       "Belgrano     354\n",
       "Palermo      332\n",
       "Caballito    309\n",
       "Agronomia    268\n",
       "Name: barrio_completo, dtype: int64"
      ]
     },
     "execution_count": 62,
     "metadata": {},
     "output_type": "execute_result"
    }
   ],
   "source": [
    "porbarrio = df.barrio_completo.value_counts()\n",
    "#porbarrio = barioss.rename_axis('BARRIO').reset_index(name='counts')\n",
    "porbarrio.head(5)"
   ]
  },
  {
   "cell_type": "code",
   "execution_count": 63,
   "metadata": {},
   "outputs": [],
   "source": [
    "porbarrio = porbarrio.to_frame().reset_index()"
   ]
  },
  {
   "cell_type": "code",
   "execution_count": 64,
   "metadata": {},
   "outputs": [
    {
     "data": {
      "text/plain": [
       "<matplotlib.legend.Legend at 0x1e5404c5408>"
      ]
     },
     "execution_count": 64,
     "metadata": {},
     "output_type": "execute_result"
    },
    {
     "data": {
      "image/png": "[encoded data removed]",
      "text/plain": [
       "<Figure size 576x432 with 1 Axes>"
      ]
     },
     "metadata": {},
     "output_type": "display_data"
    }
   ],
   "source": [
    "labels = df.barrio.value_counts(normalize=True).index[:14]\n",
    "sizes = list(df.barrio.value_counts(normalize=True)[:14])\n",
    "\n",
    "figura, axis = plt.subplots(figsize=(8,6))\n",
    "axis.pie(sizes)\n",
    "axis.axis('equal') \n",
    "axis.set_title('Género de encuestados')\n",
    "axis.legend(labels)"
   ]
  },
  {
   "cell_type": "markdown",
   "metadata": {},
   "source": [
    "#### Visualizamos las edades"
   ]
  },
  {
   "cell_type": "code",
   "execution_count": 65,
   "metadata": {},
   "outputs": [
    {
     "data": {
      "image/png": "[encoded data removed]",
      "text/plain": [
       "<Figure size 432x288 with 1 Axes>"
      ]
     },
     "metadata": {
      "needs_background": "light"
     },
     "output_type": "display_data"
    }
   ],
   "source": [
    "df.edad.hist(bins=150);"
   ]
  },
  {
   "cell_type": "markdown",
   "metadata": {},
   "source": [
    "#####  Podemos escribir en el plot\n",
    "\n"
   ]
  },
  {
   "cell_type": "code",
   "execution_count": 66,
   "metadata": {},
   "outputs": [
    {
     "data": {
      "image/png": "[encoded data removed]",
      "text/plain": [
       "<Figure size 576x576 with 1 Axes>"
      ]
     },
     "metadata": {
      "needs_background": "light"
     },
     "output_type": "display_data"
    }
   ],
   "source": [
    "plt.figure(figsize=(8, 8))\n",
    "plt.hist(df.edad, bins=150);\n",
    "plt.annotate('¿Qué hacemos con esto?', xy=(15, 50), xytext=(2.5, 300),arrowprops=dict(facecolor='black', shrink=15), fontsize=16)\n",
    "plt.annotate('¿y esto?', xy=(100, 50), xytext=(78, 250), arrowprops=dict(facecolor='black', shrink=15), fontsize=16);\n",
    "plt.show()"
   ]
  },
  {
   "cell_type": "code",
   "execution_count": 67,
   "metadata": {},
   "outputs": [
    {
     "data": {
      "text/plain": [
       "<matplotlib.axes._subplots.AxesSubplot at 0x1e540644c08>"
      ]
     },
     "execution_count": 67,
     "metadata": {},
     "output_type": "execute_result"
    },
    {
     "data": {
      "image/png": "[encoded data removed]",
      "text/plain": [
       "<Figure size 432x288 with 1 Axes>"
      ]
     },
     "metadata": {
      "needs_background": "light"
     },
     "output_type": "display_data"
    }
   ],
   "source": [
    "sns.boxplot(df.edad)"
   ]
  },
  {
   "cell_type": "markdown",
   "metadata": {},
   "source": [
    "##### Quitamos los outliers"
   ]
  },
  {
   "cell_type": "markdown",
   "metadata": {},
   "source": [
    "Vemos como quedaria la distribucion si usamos los rangos intercuartiles para quitar outliers"
   ]
  },
  {
   "cell_type": "code",
   "execution_count": 68,
   "metadata": {},
   "outputs": [],
   "source": [
    "df_edad = df[\"edad\"]"
   ]
  },
  {
   "cell_type": "code",
   "execution_count": 69,
   "metadata": {},
   "outputs": [
    {
     "data": {
      "image/png": "[encoded data removed]",
      "text/plain": [
       "<Figure size 432x288 with 1 Axes>"
      ]
     },
     "metadata": {
      "needs_background": "light"
     },
     "output_type": "display_data"
    }
   ],
   "source": [
    "q1 = df_edad.quantile(0.25)\n",
    "q2 = df_edad.quantile(0.5)\n",
    "q3 = df_edad.quantile(0.75)\n",
    "\n",
    "iqr = q3 - q1\n",
    "\n",
    "up_threshold = q3 + 1.5 * iqr\n",
    "low_threshold = q1 - 1.5* iqr\n",
    "\n",
    "no_outliers_mask = (df_edad > low_threshold) & (df_edad < up_threshold)\n",
    "\n",
    "ax = sns.boxplot(df_edad[no_outliers_mask], orient = 'v').set(\n",
    "    xlabel='', \n",
    "    ylabel='Edad'\n",
    ")"
   ]
  },
  {
   "cell_type": "code",
   "execution_count": 70,
   "metadata": {},
   "outputs": [
    {
     "name": "stdout",
     "output_type": "stream",
     "text": [
      "El skew es 0.5893768101027447 cuando quitamos los outliers\n"
     ]
    }
   ],
   "source": [
    "print(f\"El skew es {df_edad[no_outliers_mask].skew()} cuando quitamos los outliers\")"
   ]
  },
  {
   "cell_type": "code",
   "execution_count": 71,
   "metadata": {},
   "outputs": [
    {
     "data": {
      "text/plain": [
       "count    5561.000000\n",
       "mean       27.400108\n",
       "std         7.758342\n",
       "min         4.000000\n",
       "25%        21.000000\n",
       "50%        26.000000\n",
       "75%        32.000000\n",
       "max        50.000000\n",
       "Name: edad, dtype: float64"
      ]
     },
     "execution_count": 71,
     "metadata": {},
     "output_type": "execute_result"
    }
   ],
   "source": [
    "df_edad[no_outliers_mask].describe()"
   ]
  },
  {
   "cell_type": "code",
   "execution_count": 72,
   "metadata": {},
   "outputs": [
    {
     "name": "stdout",
     "output_type": "stream",
     "text": [
      "\n",
      "Sin outliers hemos tomado un 97.97% de los datos que teníamos, considerando solamente 115 registros como outliers\n",
      "\n"
     ]
    }
   ],
   "source": [
    "n_without_outliers = df_edad[no_outliers_mask].shape[0]\n",
    "n_including_outliers = df_edad.shape[0]\n",
    "\n",
    "taken_percentage = 100 * n_without_outliers / n_including_outliers\n",
    "print(f\"\"\"\n",
    "Sin outliers hemos tomado un {taken_percentage:.2f}% de los datos que teníamos, considerando solamente {n_including_outliers - n_without_outliers} registros como outliers\n",
    "\"\"\")"
   ]
  },
  {
   "cell_type": "markdown",
   "metadata": {},
   "source": [
    "#### Género de encuestados"
   ]
  },
  {
   "cell_type": "code",
   "execution_count": 73,
   "metadata": {},
   "outputs": [
    {
     "data": {
      "text/plain": [
       "Mujer     4736\n",
       "Hombre     912\n",
       "Otro        28\n",
       "Name: genero, dtype: int64"
      ]
     },
     "execution_count": 73,
     "metadata": {},
     "output_type": "execute_result"
    }
   ],
   "source": [
    "df[\"genero\"].value_counts()"
   ]
  },
  {
   "cell_type": "code",
   "execution_count": 74,
   "metadata": {},
   "outputs": [
    {
     "data": {
      "text/plain": [
       "<matplotlib.legend.Legend at 0x1e540705f08>"
      ]
     },
     "execution_count": 74,
     "metadata": {},
     "output_type": "execute_result"
    },
    {
     "data": {
      "image/png": "[encoded data removed]",
      "text/plain": [
       "<Figure size 576x432 with 1 Axes>"
      ]
     },
     "metadata": {},
     "output_type": "display_data"
    }
   ],
   "source": [
    "labels = df.genero.value_counts(normalize=True).index\n",
    "sizes = list(df.genero.value_counts(normalize=True))\n",
    "\n",
    "fig1, ax1 = plt.subplots(figsize=(8,6))\n",
    "ax1.pie(sizes, labels=labels)\n",
    "ax1.axis('equal') \n",
    "ax1.set_title('Género de encuestados')\n",
    "ax1.legend()"
   ]
  },
  {
   "cell_type": "markdown",
   "metadata": {},
   "source": [
    "#### Respuestas según género"
   ]
  },
  {
   "cell_type": "code",
   "execution_count": 75,
   "metadata": {},
   "outputs": [],
   "source": [
    "preguntas = ['1. ¿Cuando no están juntos/as, ¿tu pareja te controla preguntándote con quién estás,\\n dónde y qué estás haciendo mensajeándote por celular?', \n",
    " '2. ¿Revisa los mensajes de tu celular o te pidió la contraseña de tu correo electrónico,\\n Facebook o Instagram como “prueba de confianza”?',\n",
    " '3. ¿Te acusa de haber sido infiel o coquetear con otras/os?',\n",
    " '4. ¿Sentís que están permanentemente en tensión y que, hagas lo que hagas, se irrita\\n o te culpabiliza de sus cambios de humor?',\n",
    " '5. ¿Le molesta que hagas actividades de manera independiente, como estudiar, trabajar,\\n visitar amigos/as, ir al gimnasio o elegir quedarte solo/a en tu casa?',\n",
    " '6. ¿Sentís que te alejaste o perdiste contacto con amigos/as o familiares desde que estás en pareja?',\n",
    " '7. ¿Te dice cómo tenés que vestirte o cómo debe ser tu apariencia?',\n",
    " '8. ¿Menosprecia en público o en privado tus opiniones?',\n",
    " '9. ¿Te dice que todo lo que hacés está mal o que no servís para nada?',\n",
    " '10. ¿Te amenaza con lastimarse/te si no lo/la obedecés o si querés terminar la relación?',\n",
    " '11. Después de un episodio violento, ¿se muestra cariñoso/a o atento/a\\n y promete que nunca más lo hará y todo cambiará?',\n",
    " '12. ¿Indaga o cuestiona tus noviazgos anteriores?',\n",
    " '13. ¿Te sentís presionado/a a realizar determinadas prácticas sexuales por temor a que te deje?']"
   ]
  },
  {
   "cell_type": "code",
   "execution_count": 76,
   "metadata": {},
   "outputs": [],
   "source": [
    "respuestas = ['A = Siempre', 'B = \"A veces\"', 'C = Nunca']"
   ]
  },
  {
   "cell_type": "code",
   "execution_count": 77,
   "metadata": {},
   "outputs": [],
   "source": [
    "data = df[['genero'] + list(df.columns[6:18])]"
   ]
  },
  {
   "cell_type": "code",
   "execution_count": 78,
   "metadata": {},
   "outputs": [
    {
     "name": "stderr",
     "output_type": "stream",
     "text": [
      "C:\\Users\\carlm\\anaconda3\\lib\\site-packages\\pandas\\core\\indexing.py:1048: SettingWithCopyWarning: \n",
      "A value is trying to be set on a copy of a slice from a DataFrame.\n",
      "Try using .loc[row_indexer,col_indexer] = value instead\n",
      "\n",
      "See the caveats in the documentation: https://pandas.pydata.org/pandas-docs/stable/user_guide/indexing.html#returning-a-view-versus-a-copy\n",
      "  self.obj[item_labels[indexer[info_axis]]] = value\n"
     ]
    }
   ],
   "source": [
    "for columna in data.drop('genero',axis=1).columns:\n",
    "    data.loc[:,columna] = df.loc[:,columna].replace('A','Siempre').replace('B','A veces').replace('C','Nunca')"
   ]
  },
  {
   "cell_type": "markdown",
   "metadata": {},
   "source": [
    "Ploteamos las respuestas relativo a generos de los encuestados"
   ]
  },
  {
   "cell_type": "code",
   "execution_count": 80,
   "metadata": {},
   "outputs": [
    {
     "data": {
      "image/png": "[encoded data removed]",
      "text/plain": [
       "<Figure size 576x432 with 1 Axes>"
      ]
     },
     "metadata": {
      "needs_background": "light"
     },
     "output_type": "display_data"
    },
    {
     "data": {
      "image/png": "[encoded data removed]",
      "text/plain": [
       "<Figure size 576x432 with 1 Axes>"
      ]
     },
     "metadata": {
      "needs_background": "light"
     },
     "output_type": "display_data"
    },
    {
     "data": {
      "image/png": "[encoded data removed]",
      "text/plain": [
       "<Figure size 576x432 with 1 Axes>"
      ]
     },
     "metadata": {
      "needs_background": "light"
     },
     "output_type": "display_data"
    },
    {
     "data": {
      "image/png": "[encoded data removed]",
      "text/plain": [
       "<Figure size 576x432 with 1 Axes>"
      ]
     },
     "metadata": {
      "needs_background": "light"
     },
     "output_type": "display_data"
    },
    {
     "data": {
      "image/png": "[encoded data removed]",
      "text/plain": [
       "<Figure size 576x432 with 1 Axes>"
      ]
     },
     "metadata": {
      "needs_background": "light"
     },
     "output_type": "display_data"
    },
    {
     "data": {
      "image/png": "[encoded data removed]",
      "text/plain": [
       "<Figure size 576x432 with 1 Axes>"
      ]
     },
     "metadata": {
      "needs_background": "light"
     },
     "output_type": "display_data"
    },
    {
     "data": {
      "image/png": "[encoded data removed]",
      "text/plain": [
       "<Figure size 576x432 with 1 Axes>"
      ]
     },
     "metadata": {
      "needs_background": "light"
     },
     "output_type": "display_data"
    },
    {
     "data": {
      "image/png": "[encoded data removed]",
      "text/plain": [
       "<Figure size 576x432 with 1 Axes>"
      ]
     },
     "metadata": {
      "needs_background": "light"
     },
     "output_type": "display_data"
    },
    {
     "data": {
      "image/png": "[encoded data removed]",
      "text/plain": [
       "<Figure size 576x432 with 1 Axes>"
      ]
     },
     "metadata": {
      "needs_background": "light"
     },
     "output_type": "display_data"
    },
    {
     "data": {
      "image/png": "[encoded data removed]",
      "text/plain": [
       "<Figure size 576x432 with 1 Axes>"
      ]
     },
     "metadata": {
      "needs_background": "light"
     },
     "output_type": "display_data"
    },
    {
     "data": {
      "image/png": "[encoded data removed]",
      "text/plain": [
       "<Figure size 576x432 with 1 Axes>"
      ]
     },
     "metadata": {
      "needs_background": "light"
     },
     "output_type": "display_data"
    },
    {
     "data": {
      "image/png": "[encoded data removed]",
      "text/plain": [
       "<Figure size 576x432 with 1 Axes>"
      ]
     },
     "metadata": {
      "needs_background": "light"
     },
     "output_type": "display_data"
    }
   ],
   "source": [
    "for num,columna in enumerate(data.drop('genero',axis=1).columns):\n",
    "    # respuesta\n",
    "    respuesta = set(np.array(list(data.groupby(columna).genero.value_counts().index))[:,0])\n",
    "    # respuesta por hombres\n",
    "    n_varones = (data.genero == 'Hombre').sum()\n",
    "    n_mujeres = (data.genero == 'Mujer').sum()\n",
    "    n_otros = (data.genero == 'Otro').sum()\n",
    "    varones = list(data.groupby(columna).genero.value_counts())[1::3] / n_varones\n",
    "    # respusta por mujeres\n",
    "    mujeres = list(data.groupby(columna).genero.value_counts())[::3] / n_mujeres \n",
    "    # respusta por otros\n",
    "    otros = list(data.groupby(columna).genero.value_counts())[2::3] / n_otros\n",
    "\n",
    "    x = np.arange(len(respuesta))\n",
    "    width = 0.2\n",
    "\n",
    "    fig, ax = plt.subplots(figsize=(8,6))\n",
    "    barra1 = ax.bar(x, varones, width, label='Varones', color='blue')\n",
    "    barra2 = ax.bar(x+0.2, mujeres, width, label='Mujeres', color='green')\n",
    "    barra3 = ax.bar(x+0.4, otros, width, label='Otros', color='red')\n",
    "\n",
    "    ax.set_ylabel('Total respuestas')\n",
    "    ax.set_title(preguntas[num])\n",
    "    ax.set_xticks(x+0.2)\n",
    "    ax.set_xticklabels(respuestas)\n",
    "    ax.legend()"
   ]
  },
  {
   "cell_type": "markdown",
   "metadata": {},
   "source": [
    "## Pipeline de preprocesamiento"
   ]
  },
  {
   "cell_type": "markdown",
   "metadata": {},
   "source": [
    "Separo en X e y y armo el pipeline a partir de ahi"
   ]
  },
  {
   "cell_type": "code",
   "execution_count": 81,
   "metadata": {},
   "outputs": [],
   "source": [
    "X = df.drop('pregunta_13', axis = 1)\n",
    "y = (df.pregunta_13 != 'C').astype(int)"
   ]
  },
  {
   "cell_type": "code",
   "execution_count": 82,
   "metadata": {},
   "outputs": [],
   "source": [
    "from sklearn.pipeline import make_pipeline, make_union\n",
    "from sklearn.preprocessing import StandardScaler, KBinsDiscretizer, OneHotEncoder\n",
    "from sklearn.impute import SimpleImputer\n",
    "from sklearn.base import BaseEstimator, TransformerMixin\n"
   ]
  },
  {
   "cell_type": "markdown",
   "metadata": {},
   "source": [
    "Genero un transformador que toma las columnas que quiero y asi reutilizarlo en varios steps"
   ]
  },
  {
   "cell_type": "code",
   "execution_count": 83,
   "metadata": {},
   "outputs": [],
   "source": [
    "class ColumnSelector(BaseEstimator, TransformerMixin):\n",
    "    def __init__(self, selected_features):\n",
    "        self.selected_features=selected_features\n",
    "\n",
    "    def fit(self, X, y=None):\n",
    "        return self\n",
    "\n",
    "    def transform(self, X, y=None):\n",
    "        return X[self.selected_features]"
   ]
  },
  {
   "cell_type": "markdown",
   "metadata": {},
   "source": [
    "Para la edad el pipeline va a crear 4 bins:\n",
    "\n",
    "* Menor de 25\n",
    "* De 25 a 49\n",
    "* De 50 a 74\n",
    "* De 75 en adelante"
   ]
  },
  {
   "cell_type": "code",
   "execution_count": 84,
   "metadata": {},
   "outputs": [],
   "source": [
    "edad_pipeline = make_pipeline(ColumnSelector(['edad']), KBinsDiscretizer(4, strategy = 'uniform', encode = 'onehot-dense'))"
   ]
  },
  {
   "cell_type": "markdown",
   "metadata": {},
   "source": [
    "Para las preguntas, utilizamos OneHotEncoder y utilizamos todas las disponibles en el X"
   ]
  },
  {
   "cell_type": "code",
   "execution_count": 85,
   "metadata": {},
   "outputs": [],
   "source": [
    "preguntas_col = [col for col in X.columns if \"pregunta_\" in col]\n",
    "preguntas_pipeline = make_pipeline(ColumnSelector(preguntas_col), OneHotEncoder(sparse=False, handle_unknown='ignore'))"
   ]
  },
  {
   "cell_type": "markdown",
   "metadata": {},
   "source": [
    "Para el barrio y el genero, lo transformamos tambien usando OneHotEncoder"
   ]
  },
  {
   "cell_type": "code",
   "execution_count": 86,
   "metadata": {},
   "outputs": [],
   "source": [
    "barrio_pipeline = make_pipeline(ColumnSelector(['barrio']), OneHotEncoder(sparse=False, handle_unknown='ignore'))"
   ]
  },
  {
   "cell_type": "code",
   "execution_count": 87,
   "metadata": {},
   "outputs": [],
   "source": [
    "genero_pipeline = make_pipeline(ColumnSelector(['genero']), OneHotEncoder(sparse=False, handle_unknown='ignore'))"
   ]
  },
  {
   "cell_type": "markdown",
   "metadata": {},
   "source": [
    "Por ultimo, creamos un pipeline con la union de estos pasos anteriores"
   ]
  },
  {
   "cell_type": "code",
   "execution_count": 88,
   "metadata": {},
   "outputs": [],
   "source": [
    "preprocess_pipeline = make_union(edad_pipeline, preguntas_pipeline, barrio_pipeline, genero_pipeline)"
   ]
  },
  {
   "cell_type": "markdown",
   "metadata": {},
   "source": [
    "## Divido en train y test"
   ]
  },
  {
   "cell_type": "code",
   "execution_count": 89,
   "metadata": {},
   "outputs": [],
   "source": [
    "from sklearn.model_selection import train_test_split\n",
    "X_train, X_test, y_train, y_test = train_test_split(X, y, stratify = y)"
   ]
  },
  {
   "cell_type": "markdown",
   "metadata": {},
   "source": [
    "## Pipeline de entrenamiento y prediccion"
   ]
  },
  {
   "cell_type": "markdown",
   "metadata": {},
   "source": [
    "Utilizamos la funcionalidad de GridSearch y Pipelines para probar varios modelos en gridsearch"
   ]
  },
  {
   "cell_type": "code",
   "execution_count": 90,
   "metadata": {},
   "outputs": [],
   "source": [
    "from sklearn.pipeline import Pipeline\n",
    "from sklearn.naive_bayes import GaussianNB"
   ]
  },
  {
   "cell_type": "code",
   "execution_count": 91,
   "metadata": {},
   "outputs": [],
   "source": [
    "pipeline = Pipeline(steps = [\n",
    "    ('preprocess', preprocess_pipeline),\n",
    "    ('estimator', GaussianNB())\n",
    "])"
   ]
  },
  {
   "cell_type": "markdown",
   "metadata": {},
   "source": [
    "Utilizamos el placeholder None para utilizar la grilla de hiperparametros mas adelante para insertarle distintos modelos"
   ]
  },
  {
   "cell_type": "markdown",
   "metadata": {},
   "source": [
    "## GridSearch "
   ]
  },
  {
   "cell_type": "code",
   "execution_count": 92,
   "metadata": {},
   "outputs": [],
   "source": [
    "from sklearn.model_selection import GridSearchCV\n",
    "from sklearn.naive_bayes import MultinomialNB\n",
    "from sklearn.neighbors import KNeighborsClassifier\n",
    "from sklearn.linear_model import LogisticRegression\n",
    "from sklearn.ensemble import GradientBoostingClassifier"
   ]
  },
  {
   "cell_type": "code",
   "execution_count": 93,
   "metadata": {},
   "outputs": [],
   "source": [
    "params_grid =[\n",
    "    {'estimator':[GaussianNB()]},\n",
    "    {\n",
    "        'estimator': [MultinomialNB()],\n",
    "        'estimator__alpha': np.linspace(0, 2, 20)\n",
    "    },\n",
    "    {\n",
    "        'estimator': [KNeighborsClassifier()],\n",
    "        'estimator__n_neighbors': range(1, 15),\n",
    "        'estimator__p': [1, 2]\n",
    "    },\n",
    "    {\n",
    "        'estimator': [LogisticRegression()],\n",
    "        'estimator__penalty': ['l2', 'l1', 'elasticnet', 'none'],\n",
    "        'estimator__C': np.linspace(0, 5, 100)\n",
    "    }\n",
    "]"
   ]
  },
  {
   "cell_type": "code",
   "execution_count": 94,
   "metadata": {},
   "outputs": [],
   "source": [
    "from sklearn.model_selection import StratifiedKFold\n",
    "folds = StratifiedKFold(n_splits=5, shuffle=True, random_state=42)"
   ]
  },
  {
   "cell_type": "code",
   "execution_count": 95,
   "metadata": {},
   "outputs": [],
   "source": [
    "model = GridSearchCV(pipeline, params_grid, cv = folds, n_jobs = -1, scoring='roc_auc', verbose = 1, return_train_score = True)"
   ]
  },
  {
   "cell_type": "code",
   "execution_count": 96,
   "metadata": {},
   "outputs": [
    {
     "name": "stdout",
     "output_type": "stream",
     "text": [
      "Fitting 5 folds for each of 449 candidates, totalling 2245 fits\n"
     ]
    },
    {
     "name": "stderr",
     "output_type": "stream",
     "text": [
      "[Parallel(n_jobs=-1)]: Using backend LokyBackend with 8 concurrent workers.\n",
      "[Parallel(n_jobs=-1)]: Done  34 tasks      | elapsed:    5.0s\n",
      "[Parallel(n_jobs=-1)]: Done 184 tasks      | elapsed:  1.7min\n",
      "[Parallel(n_jobs=-1)]: Done 434 tasks      | elapsed:  3.2min\n",
      "[Parallel(n_jobs=-1)]: Done 784 tasks      | elapsed:  3.5min\n",
      "[Parallel(n_jobs=-1)]: Done 1234 tasks      | elapsed:  3.9min\n",
      "[Parallel(n_jobs=-1)]: Done 1784 tasks      | elapsed:  4.4min\n",
      "[Parallel(n_jobs=-1)]: Done 2245 out of 2245 | elapsed:  4.7min finished\n"
     ]
    },
    {
     "data": {
      "text/plain": [
       "GridSearchCV(cv=StratifiedKFold(n_splits=5, random_state=42, shuffle=True),\n",
       "             error_score=nan,\n",
       "             estimator=Pipeline(memory=None,\n",
       "                                steps=[('preprocess',\n",
       "                                        FeatureUnion(n_jobs=None,\n",
       "                                                     transformer_list=[('pipeline-1',\n",
       "                                                                        Pipeline(memory=None,\n",
       "                                                                                 steps=[('columnselector',\n",
       "                                                                                         ColumnSelector(selected_features=['edad'])),\n",
       "                                                                                        ('kbinsdiscretizer',\n",
       "                                                                                         KBinsDiscretizer(encode='onehot-dense',\n",
       "                                                                                                          n_b...\n",
       "       4.04040404, 4.09090909, 4.14141414, 4.19191919, 4.24242424,\n",
       "       4.29292929, 4.34343434, 4.39393939, 4.44444444, 4.49494949,\n",
       "       4.54545455, 4.5959596 , 4.64646465, 4.6969697 , 4.74747475,\n",
       "       4.7979798 , 4.84848485, 4.8989899 , 4.94949495, 5.        ]),\n",
       "                          'estimator__penalty': ['l2', 'l1', 'elasticnet',\n",
       "                                                 'none']}],\n",
       "             pre_dispatch='2*n_jobs', refit=True, return_train_score=True,\n",
       "             scoring='roc_auc', verbose=1)"
      ]
     },
     "execution_count": 96,
     "metadata": {},
     "output_type": "execute_result"
    }
   ],
   "source": [
    "model.fit(X_train, y_train)"
   ]
  },
  {
   "cell_type": "code",
   "execution_count": 97,
   "metadata": {},
   "outputs": [
    {
     "data": {
      "text/plain": [
       "0.7864256115526429"
      ]
     },
     "execution_count": 97,
     "metadata": {},
     "output_type": "execute_result"
    }
   ],
   "source": [
    "model.best_score_ "
   ]
  },
  {
   "cell_type": "code",
   "execution_count": 98,
   "metadata": {},
   "outputs": [
    {
     "data": {
      "text/plain": [
       "{'estimator': LogisticRegression(C=0.050505050505050504, class_weight=None, dual=False,\n",
       "                    fit_intercept=True, intercept_scaling=1, l1_ratio=None,\n",
       "                    max_iter=100, multi_class='auto', n_jobs=None, penalty='l2',\n",
       "                    random_state=None, solver='lbfgs', tol=0.0001, verbose=0,\n",
       "                    warm_start=False),\n",
       " 'estimator__C': 0.050505050505050504,\n",
       " 'estimator__penalty': 'l2'}"
      ]
     },
     "execution_count": 98,
     "metadata": {},
     "output_type": "execute_result"
    }
   ],
   "source": [
    "model.best_params_ "
   ]
  },
  {
   "cell_type": "markdown",
   "metadata": {},
   "source": [
    "## Verificacion de performance"
   ]
  },
  {
   "cell_type": "code",
   "execution_count": 99,
   "metadata": {},
   "outputs": [],
   "source": [
    "from sklearn.metrics import confusion_matrix\n",
    "from sklearn.metrics import roc_curve\n",
    "from sklearn.metrics import log_loss\n",
    "from sklearn.metrics import auc\n",
    "from sklearn.metrics import accuracy_score\n",
    "from sklearn.metrics import f1_score\n",
    "import matplotlib.pyplot as plt\n",
    "import seaborn as sns"
   ]
  },
  {
   "cell_type": "code",
   "execution_count": 100,
   "metadata": {},
   "outputs": [],
   "source": [
    "y_pred = model.predict(X_test)\n",
    "y_pred_proba = model.predict_proba(X_test)"
   ]
  },
  {
   "cell_type": "code",
   "execution_count": 101,
   "metadata": {},
   "outputs": [
    {
     "data": {
      "text/plain": [
       "<matplotlib.legend.Legend at 0x1e5430cbf48>"
      ]
     },
     "execution_count": 101,
     "metadata": {},
     "output_type": "execute_result"
    },
    {
     "data": {
      "image/png": "[encoded data removed]",
      "text/plain": [
       "<Figure size 432x288 with 1 Axes>"
      ]
     },
     "metadata": {
      "needs_background": "light"
     },
     "output_type": "display_data"
    }
   ],
   "source": [
    "fpr, tpr, thresholds = roc_curve(y_test, y_pred_proba[:,1])\n",
    "auc_score = auc(fpr, tpr)\n",
    "\n",
    "plt.plot([0, 1], [0, 1], color='navy', linestyle='--', lw = 2)\n",
    "plt.plot(fpr, tpr, color = 'darkorange', lw = 1)\n",
    "plt.xlabel('1 - Specificty')\n",
    "plt.ylabel('TPR / Sensitivity')\n",
    "plt.title('ROC Curve')\n",
    "plt.legend(['Baseline', f'ROC AUC = {auc_score:.2f}'])"
   ]
  },
  {
   "cell_type": "code",
   "execution_count": 139,
   "metadata": {},
   "outputs": [
    {
     "data": {
      "application/vnd.plotly.v1+json": {
       "config": {
        "plotlyServerURL": "https://plot.ly"
       },
       "data": [
        {
         "hovertemplate": "False Positive Rate=%{x}<br>True Positive Rate=%{y}<extra></extra>",
         "legendgroup": "",
         "line": {
          "color": "#636efa"
         },
         "mode": "lines",
         "name": "",
         "orientation": "v",
         "showlegend": false,
         "stackgroup": "1",
         "type": "scatter",
         "x": [
          0,
          0,
          0,
          0.0010090817356205853,
          0.0010090817356205853,
          0.0010090817356205853,
          0.0010090817356205853,
          0.0010090817356205853,
          0.0010090817356205853,
          0.0020181634712411706,
          0.0020181634712411706,
          0.0020181634712411706,
          0.0020181634712411706,
          0.0030272452068617556,
          0.0030272452068617556,
          0.0030272452068617556,
          0.0030272452068617556,
          0.004036326942482341,
          0.004036326942482341,
          0.005045408678102927,
          0.005045408678102927,
          0.005045408678102927,
          0.005045408678102927,
          0.005045408678102927,
          0.005045408678102927,
          0.005045408678102927,
          0.006054490413723511,
          0.006054490413723511,
          0.006054490413723511,
          0.007063572149344097,
          0.007063572149344097,
          0.009081735620585268,
          0.009081735620585268,
          0.010090817356205853,
          0.010090817356205853,
          0.011099899091826439,
          0.011099899091826439,
          0.012108980827447022,
          0.012108980827447022,
          0.013118062563067608,
          0.013118062563067608,
          0.014127144298688193,
          0.014127144298688193,
          0.015136226034308779,
          0.015136226034308779,
          0.016145307769929364,
          0.016145307769929364,
          0.017154389505549948,
          0.017154389505549948,
          0.017154389505549948,
          0.018163471241170535,
          0.018163471241170535,
          0.01917255297679112,
          0.01917255297679112,
          0.022199798183652877,
          0.022199798183652877,
          0.02320887991927346,
          0.02320887991927346,
          0.026236125126135216,
          0.026236125126135216,
          0.028254288597376387,
          0.028254288597376387,
          0.030272452068617558,
          0.030272452068617558,
          0.03229061553985873,
          0.03229061553985873,
          0.034308779011099896,
          0.034308779011099896,
          0.035317860746720484,
          0.035317860746720484,
          0.035317860746720484,
          0.035317860746720484,
          0.03834510595358224,
          0.03834510595358224,
          0.039354187689202826,
          0.039354187689202826,
          0.04036326942482341,
          0.04036326942482341,
          0.04641775983854692,
          0.04641775983854692,
          0.04944500504540868,
          0.04944500504540868,
          0.05348133198789102,
          0.05348133198789102,
          0.054490413723511606,
          0.054490413723511606,
          0.056508577194752774,
          0.056508577194752774,
          0.05953582240161453,
          0.05953582240161453,
          0.060544904137235116,
          0.060544904137235116,
          0.0615539858728557,
          0.0615539858728557,
          0.06659939455095863,
          0.06659939455095863,
          0.06861755802219979,
          0.06861755802219979,
          0.06962663975782038,
          0.06962663975782038,
          0.07265388496468214,
          0.07265388496468214,
          0.08375378405650857,
          0.08375378405650857,
          0.08779011099899092,
          0.08779011099899092,
          0.09283551967709384,
          0.09283551967709384,
          0.09384460141271443,
          0.09384460141271443,
          0.09687184661957618,
          0.09687184661957618,
          0.09989909182643794,
          0.09989909182643794,
          0.10191725529767912,
          0.10191725529767912,
          0.10595358224016145,
          0.10595358224016145,
          0.10696266397578204,
          0.10696266397578204,
          0.10797174571140263,
          0.10797174571140263,
          0.1099899091826438,
          0.1099899091826438,
          0.11301715438950555,
          0.11301715438950555,
          0.11604439959636731,
          0.11604439959636731,
          0.1170534813319879,
          0.1170534813319879,
          0.11806256306760847,
          0.11806256306760847,
          0.11907164480322906,
          0.11907164480322906,
          0.12008072653884964,
          0.12008072653884964,
          0.12209889001009082,
          0.12209889001009082,
          0.12613521695257315,
          0.12613521695257315,
          0.12714429868819374,
          0.12714429868819374,
          0.1301715438950555,
          0.1301715438950555,
          0.1311806256306761,
          0.1311806256306761,
          0.13218970736629668,
          0.13218970736629668,
          0.13420787083753785,
          0.13420787083753785,
          0.136226034308779,
          0.136226034308779,
          0.14127144298688193,
          0.14127144298688193,
          0.1432896064581231,
          0.1432896064581231,
          0.1432896064581231,
          0.14631685166498487,
          0.14631685166498487,
          0.15136226034308778,
          0.15136226034308778,
          0.15338042381432895,
          0.15338042381432895,
          0.15640766902119072,
          0.15640766902119072,
          0.16145307769929365,
          0.16145307769929365,
          0.16246215943491424,
          0.16246215943491424,
          0.16347124117053483,
          0.16347124117053483,
          0.16448032290615539,
          0.16448032290615539,
          0.16649848637739656,
          0.16649848637739656,
          0.16750756811301715,
          0.16750756811301715,
          0.1715438950554995,
          0.1715438950554995,
          0.17658930373360243,
          0.17658930373360243,
          0.17759838546922302,
          0.17759838546922302,
          0.17860746720484358,
          0.17860746720484358,
          0.18062563067608475,
          0.18062563067608475,
          0.18163471241170534,
          0.18163471241170534,
          0.18970736629667004,
          0.18970736629667004,
          0.19071644803229063,
          0.19071644803229063,
          0.1977800201816347,
          0.1977800201816347,
          0.1987891019172553,
          0.1987891019172553,
          0.20181634712411706,
          0.20181634712411706,
          0.20282542885973764,
          0.20282542885973764,
          0.20484359233097882,
          0.20484359233097882,
          0.2119071644803229,
          0.2119071644803229,
          0.2129162462159435,
          0.2129162462159435,
          0.21392532795156408,
          0.21392532795156408,
          0.2199798183652876,
          0.2199798183652876,
          0.2209889001009082,
          0.2209889001009082,
          0.22199798183652875,
          0.22199798183652875,
          0.2250252270433905,
          0.2250252270433905,
          0.22805247225025227,
          0.22805247225025227,
          0.2330978809283552,
          0.2330978809283552,
          0.23814328960645811,
          0.23814328960645811,
          0.2391523713420787,
          0.2391523713420787,
          0.24419778002018164,
          0.24419778002018164,
          0.24520686175580222,
          0.24520686175580222,
          0.2522704339051463,
          0.2522704339051463,
          0.25529767911200807,
          0.25529767911200807,
          0.25630676084762866,
          0.25630676084762866,
          0.2593340060544904,
          0.2593340060544904,
          0.260343087790111,
          0.260343087790111,
          0.2623612512613522,
          0.2623612512613522,
          0.26337033299697277,
          0.26337033299697277,
          0.2684157416750757,
          0.2684157416750757,
          0.2714429868819374,
          0.2714429868819374,
          0.2734611503531786,
          0.2734611503531786,
          0.27547931382441976,
          0.27547931382441976,
          0.2795156407669021,
          0.2795156407669021,
          0.2815338042381433,
          0.2815338042381433,
          0.28254288597376387,
          0.28254288597376387,
          0.28355196770938446,
          0.28355196770938446,
          0.28557013118062563,
          0.28557013118062563,
          0.289606458123108,
          0.289606458123108,
          0.29364278506559033,
          0.29364278506559033,
          0.2946518668012109,
          0.2946518668012109,
          0.29969727547931385,
          0.29969727547931385,
          0.30171543895055497,
          0.30171543895055497,
          0.30272452068617556,
          0.30272452068617556,
          0.30373360242179614,
          0.30373360242179614,
          0.30474268415741673,
          0.30474268415741673,
          0.30474268415741673,
          0.3087790110998991,
          0.3087790110998991,
          0.31180625630676084,
          0.31180625630676084,
          0.3148335015136226,
          0.3148335015136226,
          0.31886982845610495,
          0.31886982845610495,
          0.3229061553985873,
          0.3229061553985873,
          0.3410696266397578,
          0.3410696266397578,
          0.34611503531786075,
          0.34611503531786075,
          0.3521695257315843,
          0.35418768920282545,
          0.3612512613521695,
          0.3612512613521695,
          0.36629667003027244,
          0.36629667003027244,
          0.37336024217961655,
          0.37336024217961655,
          0.37436932391523714,
          0.37436932391523714,
          0.3763874873864783,
          0.3763874873864783,
          0.3773965691220989,
          0.3773965691220989,
          0.3975782038345106,
          0.3975782038345106,
          0.3985872855701312,
          0.3985872855701312,
          0.4026236125126135,
          0.4026236125126135,
          0.4147325933400605,
          0.4147325933400605,
          0.41977800201816345,
          0.41977800201816345,
          0.42078708375378404,
          0.42078708375378404,
          0.4228052472250252,
          0.4228052472250252,
          0.44601412714429867,
          0.44601412714429867,
          0.44904137235116043,
          0.44904137235116043,
          0.4591321897073663,
          0.4591321897073663,
          0.46215943491422806,
          0.46215943491422806,
          0.46417759838546924,
          0.46417759838546924,
          0.4803229061553986,
          0.4803229061553986,
          0.4853683148335015,
          0.4853683148335015,
          0.4873864783047427,
          0.4873864783047427,
          0.4883955600403633,
          0.4883955600403633,
          0.49848637739656915,
          0.49848637739656915,
          0.5005045408678103,
          0.5005045408678103,
          0.5035317860746721,
          0.5055499495459133,
          0.5065590312815338,
          0.5065590312815338,
          0.5146316851664985,
          0.5146316851664985,
          0.5368314833501514,
          0.5368314833501514,
          0.5408678102926338,
          0.5408678102926338,
          0.5489404641775983,
          0.5489404641775983,
          0.5529767911200807,
          0.5529767911200807,
          0.5600403632694249,
          0.562058526740666,
          0.562058526740666,
          0.5711402623612513,
          0.5711402623612513,
          0.5721493440968718,
          0.5731584258324924,
          0.5731584258324924,
          0.5761856710393541,
          0.5761856710393541,
          0.5842583249243188,
          0.5842583249243188,
          0.5872855701311807,
          0.5872855701311807,
          0.5882946518668012,
          0.5882946518668012,
          0.5893037336024218,
          0.5893037336024218,
          0.5933400605449042,
          0.5933400605449042,
          0.5993945509586277,
          0.5993945509586277,
          0.6024217961654894,
          0.6024217961654894,
          0.6064581231079718,
          0.6084762865792129,
          0.6226034308779012,
          0.6226034308779012,
          0.6347124117053481,
          0.6367305751765893,
          0.6427850655903128,
          0.6427850655903128,
          0.644803229061554,
          0.6538849646821393,
          0.6538849646821393,
          0.6559031281533805,
          0.6559031281533805,
          0.6579212916246215,
          0.6579212916246215,
          0.6801210898082745,
          0.6811301715438951,
          0.6831483350151363,
          0.686175580221998,
          0.6881937436932392,
          0.6892028254288597,
          0.6912209889001009,
          0.6922300706357215,
          0.6942482341069627,
          0.7023208879919274,
          0.7043390514631686,
          0.7093844601412714,
          0.7093844601412714,
          0.7336024217961655,
          0.7336024217961655,
          0.7426841574167508,
          0.7426841574167508,
          0.7457114026236125,
          0.7457114026236125,
          0.751765893037336,
          0.7527749747729566,
          0.756811301715439,
          0.7598385469223007,
          0.7790110998990918,
          0.7790110998990918,
          0.7901109989909183,
          0.7911200807265388,
          0.7921291624621595,
          0.7941473259334006,
          0.8002018163471241,
          0.8002018163471241,
          0.8032290615539859,
          0.805247225025227,
          0.8062563067608476,
          0.8082744702320888,
          0.8113017154389506,
          0.8113017154389506,
          0.8163471241170535,
          0.8163471241170535,
          0.8213925327951564,
          0.822401614530777,
          0.8335015136226034,
          0.8355196770938446,
          0.8415741675075681,
          0.8435923309788093,
          0.8456104944500504,
          0.8476286579212916,
          0.8496468213925328,
          0.8496468213925328,
          0.8526740665993946,
          0.8546922300706358,
          0.8577194752774975,
          0.8607467204843592,
          0.8627648839556004,
          0.8647830474268415,
          0.8657921291624622,
          0.8819374369323916,
          0.8819374369323916,
          0.8829465186680121,
          0.8829465186680121,
          0.8859737638748738,
          0.8910191725529768,
          0.8950554994954592,
          0.8950554994954592,
          0.900100908173562,
          0.9021190716448032,
          0.9061553985872856,
          0.9101917255297679,
          0.9112008072653885,
          0.9132189707366297,
          0.9202825428859738,
          0.922300706357215,
          0.9233097880928355,
          0.9263370332996973,
          0.9354187689202825,
          0.9394550958627649,
          0.9505549949545913,
          0.9525731584258325,
          0.958627648839556,
          0.9606458123107972,
          0.9667003027245207,
          0.9788092835519677,
          0.9808274470232089,
          0.9808274470232089,
          0.992936427850656,
          0.9989909182643795,
          1
         ],
         "xaxis": "x",
         "y": [
          0,
          0.002336448598130841,
          0.007009345794392523,
          0.007009345794392523,
          0.009345794392523364,
          0.014018691588785047,
          0.016355140186915886,
          0.02336448598130841,
          0.02570093457943925,
          0.02570093457943925,
          0.030373831775700934,
          0.0397196261682243,
          0.04205607476635514,
          0.04205607476635514,
          0.04906542056074766,
          0.05841121495327103,
          0.0630841121495327,
          0.06542056074766354,
          0.06775700934579439,
          0.06775700934579439,
          0.07242990654205607,
          0.07710280373831775,
          0.08411214953271028,
          0.08878504672897196,
          0.10981308411214953,
          0.11682242990654206,
          0.11682242990654206,
          0.1308411214953271,
          0.13551401869158877,
          0.13551401869158877,
          0.15186915887850466,
          0.15186915887850466,
          0.15654205607476634,
          0.15654205607476634,
          0.17990654205607476,
          0.17990654205607476,
          0.18691588785046728,
          0.18691588785046728,
          0.18925233644859812,
          0.18925233644859812,
          0.2102803738317757,
          0.2102803738317757,
          0.21495327102803738,
          0.21495327102803738,
          0.2219626168224299,
          0.2219626168224299,
          0.22429906542056074,
          0.22429906542056074,
          0.22897196261682243,
          0.25,
          0.25,
          0.2523364485981308,
          0.2523364485981308,
          0.26401869158878505,
          0.26401869158878505,
          0.2733644859813084,
          0.2733644859813084,
          0.2780373831775701,
          0.2780373831775701,
          0.2803738317757009,
          0.2803738317757009,
          0.2827102803738318,
          0.2827102803738318,
          0.2897196261682243,
          0.2897196261682243,
          0.3177570093457944,
          0.3177570093457944,
          0.32009345794392524,
          0.32009345794392524,
          0.32710280373831774,
          0.3317757009345794,
          0.3341121495327103,
          0.3341121495327103,
          0.3364485981308411,
          0.3364485981308411,
          0.35514018691588783,
          0.35514018691588783,
          0.3621495327102804,
          0.3621495327102804,
          0.36682242990654207,
          0.36682242990654207,
          0.3691588785046729,
          0.3691588785046729,
          0.37383177570093457,
          0.37383177570093457,
          0.37616822429906543,
          0.37616822429906543,
          0.37850467289719625,
          0.37850467289719625,
          0.38317757009345793,
          0.38317757009345793,
          0.39485981308411217,
          0.39485981308411217,
          0.39953271028037385,
          0.39953271028037385,
          0.4088785046728972,
          0.4088785046728972,
          0.4182242990654206,
          0.4182242990654206,
          0.4205607476635514,
          0.4205607476635514,
          0.42289719626168226,
          0.42289719626168226,
          0.43457943925233644,
          0.43457943925233644,
          0.4392523364485981,
          0.4392523364485981,
          0.4439252336448598,
          0.4439252336448598,
          0.45093457943925236,
          0.45093457943925236,
          0.45560747663551404,
          0.45560747663551404,
          0.45794392523364486,
          0.45794392523364486,
          0.46261682242990654,
          0.46261682242990654,
          0.4649532710280374,
          0.4649532710280374,
          0.4696261682242991,
          0.4696261682242991,
          0.4742990654205608,
          0.4742990654205608,
          0.4766355140186916,
          0.4766355140186916,
          0.48130841121495327,
          0.48130841121495327,
          0.48364485981308414,
          0.48364485981308414,
          0.48598130841121495,
          0.48598130841121495,
          0.4929906542056075,
          0.4929906542056075,
          0.5,
          0.5,
          0.5023364485981309,
          0.5023364485981309,
          0.5046728971962616,
          0.5046728971962616,
          0.5070093457943925,
          0.5070093457943925,
          0.5116822429906542,
          0.5116822429906542,
          0.5210280373831776,
          0.5210280373831776,
          0.5233644859813084,
          0.5233644859813084,
          0.5257009345794392,
          0.5257009345794392,
          0.5280373831775701,
          0.5280373831775701,
          0.5350467289719626,
          0.5350467289719626,
          0.5373831775700935,
          0.5373831775700935,
          0.544392523364486,
          0.5490654205607477,
          0.5490654205607477,
          0.5560747663551402,
          0.5560747663551402,
          0.5584112149532711,
          0.5584112149532711,
          0.5607476635514018,
          0.5607476635514018,
          0.5630841121495327,
          0.5630841121495327,
          0.5747663551401869,
          0.5747663551401869,
          0.5817757009345794,
          0.5817757009345794,
          0.5841121495327103,
          0.5841121495327103,
          0.5864485981308412,
          0.5864485981308412,
          0.5887850467289719,
          0.5887850467289719,
          0.6004672897196262,
          0.6004672897196262,
          0.602803738317757,
          0.602803738317757,
          0.6051401869158879,
          0.6051401869158879,
          0.6074766355140186,
          0.6074766355140186,
          0.6098130841121495,
          0.6098130841121495,
          0.6144859813084113,
          0.6144859813084113,
          0.616822429906542,
          0.616822429906542,
          0.6261682242990654,
          0.6261682242990654,
          0.6285046728971962,
          0.6285046728971962,
          0.633177570093458,
          0.633177570093458,
          0.6355140186915887,
          0.6355140186915887,
          0.6425233644859814,
          0.6425233644859814,
          0.6495327102803738,
          0.6495327102803738,
          0.6542056074766355,
          0.6542056074766355,
          0.6565420560747663,
          0.6565420560747663,
          0.6635514018691588,
          0.6635514018691588,
          0.6705607476635514,
          0.6705607476635514,
          0.6728971962616822,
          0.6728971962616822,
          0.6752336448598131,
          0.6752336448598131,
          0.6845794392523364,
          0.6845794392523364,
          0.6869158878504673,
          0.6869158878504673,
          0.6892523364485982,
          0.6892523364485982,
          0.6915887850467289,
          0.6915887850467289,
          0.6962616822429907,
          0.6962616822429907,
          0.7009345794392523,
          0.7009345794392523,
          0.7032710280373832,
          0.7032710280373832,
          0.7102803738317757,
          0.7102803738317757,
          0.7149532710280374,
          0.7149532710280374,
          0.7172897196261683,
          0.7172897196261683,
          0.719626168224299,
          0.719626168224299,
          0.7266355140186916,
          0.7266355140186916,
          0.7289719626168224,
          0.7289719626168224,
          0.7313084112149533,
          0.7313084112149533,
          0.7336448598130841,
          0.7336448598130841,
          0.7406542056074766,
          0.7406542056074766,
          0.7429906542056075,
          0.7429906542056075,
          0.7476635514018691,
          0.7476635514018691,
          0.75,
          0.75,
          0.7523364485981309,
          0.7523364485981309,
          0.7546728971962616,
          0.7546728971962616,
          0.7570093457943925,
          0.7570093457943925,
          0.7593457943925234,
          0.7593457943925234,
          0.764018691588785,
          0.764018691588785,
          0.7710280373831776,
          0.7710280373831776,
          0.7733644859813084,
          0.7733644859813084,
          0.7757009345794392,
          0.7757009345794392,
          0.780373831775701,
          0.780373831775701,
          0.7827102803738317,
          0.7827102803738317,
          0.7850467289719626,
          0.7850467289719626,
          0.7897196261682243,
          0.7897196261682243,
          0.794392523364486,
          0.7967289719626168,
          0.7967289719626168,
          0.8014018691588785,
          0.8014018691588785,
          0.8060747663551402,
          0.8060747663551402,
          0.8084112149532711,
          0.8084112149532711,
          0.8107476635514018,
          0.8107476635514018,
          0.8130841121495327,
          0.8130841121495327,
          0.8154205607476636,
          0.8154205607476636,
          0.8200934579439252,
          0.8200934579439252,
          0.8200934579439252,
          0.8200934579439252,
          0.822429906542056,
          0.822429906542056,
          0.8247663551401869,
          0.8247663551401869,
          0.8271028037383178,
          0.8271028037383178,
          0.8294392523364486,
          0.8294392523364486,
          0.8341121495327103,
          0.8341121495327103,
          0.8364485981308412,
          0.8364485981308412,
          0.8387850467289719,
          0.8387850467289719,
          0.8411214953271028,
          0.8411214953271028,
          0.8481308411214953,
          0.8481308411214953,
          0.8504672897196262,
          0.8504672897196262,
          0.852803738317757,
          0.852803738317757,
          0.8551401869158879,
          0.8551401869158879,
          0.8598130841121495,
          0.8598130841121495,
          0.8621495327102804,
          0.8621495327102804,
          0.8644859813084113,
          0.8644859813084113,
          0.866822429906542,
          0.866822429906542,
          0.8691588785046729,
          0.8691588785046729,
          0.8714953271028038,
          0.8714953271028038,
          0.8738317757009346,
          0.8738317757009346,
          0.8761682242990654,
          0.8761682242990654,
          0.8785046728971962,
          0.8785046728971962,
          0.8808411214953271,
          0.8808411214953271,
          0.8878504672897196,
          0.8878504672897196,
          0.8901869158878505,
          0.8901869158878505,
          0.8901869158878505,
          0.8901869158878505,
          0.8925233644859814,
          0.8925233644859814,
          0.8948598130841121,
          0.8948598130841121,
          0.897196261682243,
          0.897196261682243,
          0.8995327102803738,
          0.8995327102803738,
          0.9018691588785047,
          0.9018691588785047,
          0.9088785046728972,
          0.9088785046728972,
          0.9088785046728972,
          0.9112149532710281,
          0.9112149532710281,
          0.9135514018691588,
          0.9158878504672897,
          0.9158878504672897,
          0.9182242990654206,
          0.9182242990654206,
          0.9205607476635514,
          0.9205607476635514,
          0.9228971962616822,
          0.9228971962616822,
          0.9252336448598131,
          0.9252336448598131,
          0.927570093457944,
          0.927570093457944,
          0.9322429906542056,
          0.9322429906542056,
          0.9345794392523364,
          0.9345794392523364,
          0.9369158878504673,
          0.9369158878504673,
          0.9392523364485982,
          0.9392523364485982,
          0.9392523364485982,
          0.9392523364485982,
          0.9415887850467289,
          0.9415887850467289,
          0.9415887850467289,
          0.9415887850467289,
          0.9462616822429907,
          0.9462616822429907,
          0.9462616822429907,
          0.9485981308411215,
          0.9485981308411215,
          0.9509345794392523,
          0.9509345794392523,
          0.9532710280373832,
          0.9532710280373832,
          0.955607476635514,
          0.955607476635514,
          0.955607476635514,
          0.955607476635514,
          0.955607476635514,
          0.955607476635514,
          0.955607476635514,
          0.955607476635514,
          0.955607476635514,
          0.955607476635514,
          0.955607476635514,
          0.9579439252336449,
          0.9579439252336449,
          0.9602803738317757,
          0.9602803738317757,
          0.9626168224299065,
          0.9626168224299065,
          0.9649532710280374,
          0.9649532710280374,
          0.9672897196261683,
          0.9672897196261683,
          0.9672897196261683,
          0.9672897196261683,
          0.969626168224299,
          0.969626168224299,
          0.9719626168224299,
          0.9719626168224299,
          0.9719626168224299,
          0.9719626168224299,
          0.9742990654205608,
          0.9742990654205608,
          0.9742990654205608,
          0.9742990654205608,
          0.9742990654205608,
          0.9742990654205608,
          0.9766355140186916,
          0.9766355140186916,
          0.9789719626168224,
          0.9789719626168224,
          0.9813084112149533,
          0.9813084112149533,
          0.9813084112149533,
          0.9813084112149533,
          0.9813084112149533,
          0.9813084112149533,
          0.9813084112149533,
          0.9813084112149533,
          0.9836448598130841,
          0.9836448598130841,
          0.9836448598130841,
          0.9836448598130841,
          0.9836448598130841,
          0.9836448598130841,
          0.9836448598130841,
          0.985981308411215,
          0.985981308411215,
          0.9883177570093458,
          0.9883177570093458,
          0.9906542056074766,
          0.9906542056074766,
          0.9929906542056075,
          0.9929906542056075,
          0.9953271028037384,
          0.9953271028037384,
          0.9953271028037384,
          0.9953271028037384,
          0.9953271028037384,
          0.9953271028037384,
          0.9953271028037384,
          0.9953271028037384,
          0.9953271028037384,
          0.9953271028037384,
          0.9953271028037384,
          0.9953271028037384,
          0.9953271028037384,
          0.9953271028037384,
          0.9953271028037384,
          0.9953271028037384,
          0.9953271028037384,
          0.9953271028037384,
          0.9976635514018691,
          0.9976635514018691,
          1,
          1,
          1,
          1
         ],
         "yaxis": "y"
        }
       ],
       "layout": {
        "height": 500,
        "legend": {
         "tracegroupgap": 0
        },
        "shapes": [
         {
          "line": {
           "dash": "dash"
          },
          "type": "line",
          "x0": 0,
          "x1": 1,
          "y0": 0,
          "y1": 1
         }
        ],
        "template": {
         "data": {
          "bar": [
           {
            "error_x": {
             "color": "#2a3f5f"
            },
            "error_y": {
             "color": "#2a3f5f"
            },
            "marker": {
             "line": {
              "color": "#E5ECF6",
              "width": 0.5
             }
            },
            "type": "bar"
           }
          ],
          "barpolar": [
           {
            "marker": {
             "line": {
              "color": "#E5ECF6",
              "width": 0.5
             }
            },
            "type": "barpolar"
           }
          ],
          "carpet": [
           {
            "aaxis": {
             "endlinecolor": "#2a3f5f",
             "gridcolor": "white",
             "linecolor": "white",
             "minorgridcolor": "white",
             "startlinecolor": "#2a3f5f"
            },
            "baxis": {
             "endlinecolor": "#2a3f5f",
             "gridcolor": "white",
             "linecolor": "white",
             "minorgridcolor": "white",
             "startlinecolor": "#2a3f5f"
            },
            "type": "carpet"
           }
          ],
          "choropleth": [
           {
            "colorbar": {
             "outlinewidth": 0,
             "ticks": ""
            },
            "type": "choropleth"
           }
          ],
          "contour": [
           {
            "colorbar": {
             "outlinewidth": 0,
             "ticks": ""
            },
            "colorscale": [
             [
              0,
              "#0d0887"
             ],
             [
              0.1111111111111111,
              "#46039f"
             ],
             [
              0.2222222222222222,
              "#7201a8"
             ],
             [
              0.3333333333333333,
              "#9c179e"
             ],
             [
              0.4444444444444444,
              "#bd3786"
             ],
             [
              0.5555555555555556,
              "#d8576b"
             ],
             [
              0.6666666666666666,
              "#ed7953"
             ],
             [
              0.7777777777777778,
              "#fb9f3a"
             ],
             [
              0.8888888888888888,
              "#fdca26"
             ],
             [
              1,
              "#f0f921"
             ]
            ],
            "type": "contour"
           }
          ],
          "contourcarpet": [
           {
            "colorbar": {
             "outlinewidth": 0,
             "ticks": ""
            },
            "type": "contourcarpet"
           }
          ],
          "heatmap": [
           {
            "colorbar": {
             "outlinewidth": 0,
             "ticks": ""
            },
            "colorscale": [
             [
              0,
              "#0d0887"
             ],
             [
              0.1111111111111111,
              "#46039f"
             ],
             [
              0.2222222222222222,
              "#7201a8"
             ],
             [
              0.3333333333333333,
              "#9c179e"
             ],
             [
              0.4444444444444444,
              "#bd3786"
             ],
             [
              0.5555555555555556,
              "#d8576b"
             ],
             [
              0.6666666666666666,
              "#ed7953"
             ],
             [
              0.7777777777777778,
              "#fb9f3a"
             ],
             [
              0.8888888888888888,
              "#fdca26"
             ],
             [
              1,
              "#f0f921"
             ]
            ],
            "type": "heatmap"
           }
          ],
          "heatmapgl": [
           {
            "colorbar": {
             "outlinewidth": 0,
             "ticks": ""
            },
            "colorscale": [
             [
              0,
              "#0d0887"
             ],
             [
              0.1111111111111111,
              "#46039f"
             ],
             [
              0.2222222222222222,
              "#7201a8"
             ],
             [
              0.3333333333333333,
              "#9c179e"
             ],
             [
              0.4444444444444444,
              "#bd3786"
             ],
             [
              0.5555555555555556,
              "#d8576b"
             ],
             [
              0.6666666666666666,
              "#ed7953"
             ],
             [
              0.7777777777777778,
              "#fb9f3a"
             ],
             [
              0.8888888888888888,
              "#fdca26"
             ],
             [
              1,
              "#f0f921"
             ]
            ],
            "type": "heatmapgl"
           }
          ],
          "histogram": [
           {
            "marker": {
             "colorbar": {
              "outlinewidth": 0,
              "ticks": ""
             }
            },
            "type": "histogram"
           }
          ],
          "histogram2d": [
           {
            "colorbar": {
             "outlinewidth": 0,
             "ticks": ""
            },
            "colorscale": [
             [
              0,
              "#0d0887"
             ],
             [
              0.1111111111111111,
              "#46039f"
             ],
             [
              0.2222222222222222,
              "#7201a8"
             ],
             [
              0.3333333333333333,
              "#9c179e"
             ],
             [
              0.4444444444444444,
              "#bd3786"
             ],
             [
              0.5555555555555556,
              "#d8576b"
             ],
             [
              0.6666666666666666,
              "#ed7953"
             ],
             [
              0.7777777777777778,
              "#fb9f3a"
             ],
             [
              0.8888888888888888,
              "#fdca26"
             ],
             [
              1,
              "#f0f921"
             ]
            ],
            "type": "histogram2d"
           }
          ],
          "histogram2dcontour": [
           {
            "colorbar": {
             "outlinewidth": 0,
             "ticks": ""
            },
            "colorscale": [
             [
              0,
              "#0d0887"
             ],
             [
              0.1111111111111111,
              "#46039f"
             ],
             [
              0.2222222222222222,
              "#7201a8"
             ],
             [
              0.3333333333333333,
              "#9c179e"
             ],
             [
              0.4444444444444444,
              "#bd3786"
             ],
             [
              0.5555555555555556,
              "#d8576b"
             ],
             [
              0.6666666666666666,
              "#ed7953"
             ],
             [
              0.7777777777777778,
              "#fb9f3a"
             ],
             [
              0.8888888888888888,
              "#fdca26"
             ],
             [
              1,
              "#f0f921"
             ]
            ],
            "type": "histogram2dcontour"
           }
          ],
          "mesh3d": [
           {
            "colorbar": {
             "outlinewidth": 0,
             "ticks": ""
            },
            "type": "mesh3d"
           }
          ],
          "parcoords": [
           {
            "line": {
             "colorbar": {
              "outlinewidth": 0,
              "ticks": ""
             }
            },
            "type": "parcoords"
           }
          ],
          "pie": [
           {
            "automargin": true,
            "type": "pie"
           }
          ],
          "scatter": [
           {
            "marker": {
             "colorbar": {
              "outlinewidth": 0,
              "ticks": ""
             }
            },
            "type": "scatter"
           }
          ],
          "scatter3d": [
           {
            "line": {
             "colorbar": {
              "outlinewidth": 0,
              "ticks": ""
             }
            },
            "marker": {
             "colorbar": {
              "outlinewidth": 0,
              "ticks": ""
             }
            },
            "type": "scatter3d"
           }
          ],
          "scattercarpet": [
           {
            "marker": {
             "colorbar": {
              "outlinewidth": 0,
              "ticks": ""
             }
            },
            "type": "scattercarpet"
           }
          ],
          "scattergeo": [
           {
            "marker": {
             "colorbar": {
              "outlinewidth": 0,
              "ticks": ""
             }
            },
            "type": "scattergeo"
           }
          ],
          "scattergl": [
           {
            "marker": {
             "colorbar": {
              "outlinewidth": 0,
              "ticks": ""
             }
            },
            "type": "scattergl"
           }
          ],
          "scattermapbox": [
           {
            "marker": {
             "colorbar": {
              "outlinewidth": 0,
              "ticks": ""
             }
            },
            "type": "scattermapbox"
           }
          ],
          "scatterpolar": [
           {
            "marker": {
             "colorbar": {
              "outlinewidth": 0,
              "ticks": ""
             }
            },
            "type": "scatterpolar"
           }
          ],
          "scatterpolargl": [
           {
            "marker": {
             "colorbar": {
              "outlinewidth": 0,
              "ticks": ""
             }
            },
            "type": "scatterpolargl"
           }
          ],
          "scatterternary": [
           {
            "marker": {
             "colorbar": {
              "outlinewidth": 0,
              "ticks": ""
             }
            },
            "type": "scatterternary"
           }
          ],
          "surface": [
           {
            "colorbar": {
             "outlinewidth": 0,
             "ticks": ""
            },
            "colorscale": [
             [
              0,
              "#0d0887"
             ],
             [
              0.1111111111111111,
              "#46039f"
             ],
             [
              0.2222222222222222,
              "#7201a8"
             ],
             [
              0.3333333333333333,
              "#9c179e"
             ],
             [
              0.4444444444444444,
              "#bd3786"
             ],
             [
              0.5555555555555556,
              "#d8576b"
             ],
             [
              0.6666666666666666,
              "#ed7953"
             ],
             [
              0.7777777777777778,
              "#fb9f3a"
             ],
             [
              0.8888888888888888,
              "#fdca26"
             ],
             [
              1,
              "#f0f921"
             ]
            ],
            "type": "surface"
           }
          ],
          "table": [
           {
            "cells": {
             "fill": {
              "color": "#EBF0F8"
             },
             "line": {
              "color": "white"
             }
            },
            "header": {
             "fill": {
              "color": "#C8D4E3"
             },
             "line": {
              "color": "white"
             }
            },
            "type": "table"
           }
          ]
         },
         "layout": {
          "annotationdefaults": {
           "arrowcolor": "#2a3f5f",
           "arrowhead": 0,
           "arrowwidth": 1
          },
          "coloraxis": {
           "colorbar": {
            "outlinewidth": 0,
            "ticks": ""
           }
          },
          "colorscale": {
           "diverging": [
            [
             0,
             "#8e0152"
            ],
            [
             0.1,
             "#c51b7d"
            ],
            [
             0.2,
             "#de77ae"
            ],
            [
             0.3,
             "#f1b6da"
            ],
            [
             0.4,
             "#fde0ef"
            ],
            [
             0.5,
             "#f7f7f7"
            ],
            [
             0.6,
             "#e6f5d0"
            ],
            [
             0.7,
             "#b8e186"
            ],
            [
             0.8,
             "#7fbc41"
            ],
            [
             0.9,
             "#4d9221"
            ],
            [
             1,
             "#276419"
            ]
           ],
           "sequential": [
            [
             0,
             "#0d0887"
            ],
            [
             0.1111111111111111,
             "#46039f"
            ],
            [
             0.2222222222222222,
             "#7201a8"
            ],
            [
             0.3333333333333333,
             "#9c179e"
            ],
            [
             0.4444444444444444,
             "#bd3786"
            ],
            [
             0.5555555555555556,
             "#d8576b"
            ],
            [
             0.6666666666666666,
             "#ed7953"
            ],
            [
             0.7777777777777778,
             "#fb9f3a"
            ],
            [
             0.8888888888888888,
             "#fdca26"
            ],
            [
             1,
             "#f0f921"
            ]
           ],
           "sequentialminus": [
            [
             0,
             "#0d0887"
            ],
            [
             0.1111111111111111,
             "#46039f"
            ],
            [
             0.2222222222222222,
             "#7201a8"
            ],
            [
             0.3333333333333333,
             "#9c179e"
            ],
            [
             0.4444444444444444,
             "#bd3786"
            ],
            [
             0.5555555555555556,
             "#d8576b"
            ],
            [
             0.6666666666666666,
             "#ed7953"
            ],
            [
             0.7777777777777778,
             "#fb9f3a"
            ],
            [
             0.8888888888888888,
             "#fdca26"
            ],
            [
             1,
             "#f0f921"
            ]
           ]
          },
          "colorway": [
           "#636efa",
           "#EF553B",
           "#00cc96",
           "#ab63fa",
           "#FFA15A",
           "#19d3f3",
           "#FF6692",
           "#B6E880",
           "#FF97FF",
           "#FECB52"
          ],
          "font": {
           "color": "#2a3f5f"
          },
          "geo": {
           "bgcolor": "white",
           "lakecolor": "white",
           "landcolor": "#E5ECF6",
           "showlakes": true,
           "showland": true,
           "subunitcolor": "white"
          },
          "hoverlabel": {
           "align": "left"
          },
          "hovermode": "closest",
          "mapbox": {
           "style": "light"
          },
          "paper_bgcolor": "white",
          "plot_bgcolor": "#E5ECF6",
          "polar": {
           "angularaxis": {
            "gridcolor": "white",
            "linecolor": "white",
            "ticks": ""
           },
           "bgcolor": "#E5ECF6",
           "radialaxis": {
            "gridcolor": "white",
            "linecolor": "white",
            "ticks": ""
           }
          },
          "scene": {
           "xaxis": {
            "backgroundcolor": "#E5ECF6",
            "gridcolor": "white",
            "gridwidth": 2,
            "linecolor": "white",
            "showbackground": true,
            "ticks": "",
            "zerolinecolor": "white"
           },
           "yaxis": {
            "backgroundcolor": "#E5ECF6",
            "gridcolor": "white",
            "gridwidth": 2,
            "linecolor": "white",
            "showbackground": true,
            "ticks": "",
            "zerolinecolor": "white"
           },
           "zaxis": {
            "backgroundcolor": "#E5ECF6",
            "gridcolor": "white",
            "gridwidth": 2,
            "linecolor": "white",
            "showbackground": true,
            "ticks": "",
            "zerolinecolor": "white"
           }
          },
          "shapedefaults": {
           "line": {
            "color": "#2a3f5f"
           }
          },
          "ternary": {
           "aaxis": {
            "gridcolor": "white",
            "linecolor": "white",
            "ticks": ""
           },
           "baxis": {
            "gridcolor": "white",
            "linecolor": "white",
            "ticks": ""
           },
           "bgcolor": "#E5ECF6",
           "caxis": {
            "gridcolor": "white",
            "linecolor": "white",
            "ticks": ""
           }
          },
          "title": {
           "x": 0.05
          },
          "xaxis": {
           "automargin": true,
           "gridcolor": "white",
           "linecolor": "white",
           "ticks": "",
           "title": {
            "standoff": 15
           },
           "zerolinecolor": "white",
           "zerolinewidth": 2
          },
          "yaxis": {
           "automargin": true,
           "gridcolor": "white",
           "linecolor": "white",
           "ticks": "",
           "title": {
            "standoff": 15
           },
           "zerolinecolor": "white",
           "zerolinewidth": 2
          }
         }
        },
        "title": {
         "text": "ROC Curve"
        },
        "width": 700,
        "xaxis": {
         "anchor": "y",
         "constrain": "domain",
         "domain": [
          0,
          1
         ],
         "title": {
          "text": "False Positive Rate"
         }
        },
        "yaxis": {
         "anchor": "x",
         "domain": [
          0,
          1
         ],
         "scaleanchor": "x",
         "scaleratio": 1,
         "title": {
          "text": "True Positive Rate"
         }
        }
       }
      },
      "text/html": [
       "<div>\n",
       "        \n",
       "        \n",
       "            <div id=\"6bccfbd4-1bfc-481b-b491-ee086f2c5dd7\" class=\"plotly-graph-div\" style=\"height:500px; width:700px;\"></div>\n",
       "            <script type=\"text/javascript\">\n",
       "                require([\"plotly\"], function(Plotly) {\n",
       "                    window.PLOTLYENV=window.PLOTLYENV || {};\n",
       "                    \n",
       "                if (document.getElementById(\"6bccfbd4-1bfc-481b-b491-ee086f2c5dd7\")) {\n",
       "                    Plotly.newPlot(\n",
       "                        '6bccfbd4-1bfc-481b-b491-ee086f2c5dd7',\n",
       "                        [{\"hovertemplate\": \"False Positive Rate=%{x}<br>True Positive Rate=%{y}<extra></extra>\", \"legendgroup\": \"\", \"line\": {\"color\": \"#636efa\"}, \"mode\": \"lines\", \"name\": \"\", \"orientation\": \"v\", \"showlegend\": false, \"stackgroup\": \"1\", \"type\": \"scatter\", \"x\": [0.0, 0.0, 0.0, 0.0010090817356205853, 0.0010090817356205853, 0.0010090817356205853, 0.0010090817356205853, 0.0010090817356205853, 0.0010090817356205853, 0.0020181634712411706, 0.0020181634712411706, 0.0020181634712411706, 0.0020181634712411706, 0.0030272452068617556, 0.0030272452068617556, 0.0030272452068617556, 0.0030272452068617556, 0.004036326942482341, 0.004036326942482341, 0.005045408678102927, 0.005045408678102927, 0.005045408678102927, 0.005045408678102927, 0.005045408678102927, 0.005045408678102927, 0.005045408678102927, 0.006054490413723511, 0.006054490413723511, 0.006054490413723511, 0.007063572149344097, 0.007063572149344097, 0.009081735620585268, 0.009081735620585268, 0.010090817356205853, 0.010090817356205853, 0.011099899091826439, 0.011099899091826439, 0.012108980827447022, 0.012108980827447022, 0.013118062563067608, 0.013118062563067608, 0.014127144298688193, 0.014127144298688193, 0.015136226034308779, 0.015136226034308779, 0.016145307769929364, 0.016145307769929364, 0.017154389505549948, 0.017154389505549948, 0.017154389505549948, 0.018163471241170535, 0.018163471241170535, 0.01917255297679112, 0.01917255297679112, 0.022199798183652877, 0.022199798183652877, 0.02320887991927346, 0.02320887991927346, 0.026236125126135216, 0.026236125126135216, 0.028254288597376387, 0.028254288597376387, 0.030272452068617558, 0.030272452068617558, 0.03229061553985873, 0.03229061553985873, 0.034308779011099896, 0.034308779011099896, 0.035317860746720484, 0.035317860746720484, 0.035317860746720484, 0.035317860746720484, 0.03834510595358224, 0.03834510595358224, 0.039354187689202826, 0.039354187689202826, 0.04036326942482341, 0.04036326942482341, 0.04641775983854692, 0.04641775983854692, 0.04944500504540868, 0.04944500504540868, 0.05348133198789102, 0.05348133198789102, 0.054490413723511606, 0.054490413723511606, 0.056508577194752774, 0.056508577194752774, 0.05953582240161453, 0.05953582240161453, 0.060544904137235116, 0.060544904137235116, 0.0615539858728557, 0.0615539858728557, 0.06659939455095863, 0.06659939455095863, 0.06861755802219979, 0.06861755802219979, 0.06962663975782038, 0.06962663975782038, 0.07265388496468214, 0.07265388496468214, 0.08375378405650857, 0.08375378405650857, 0.08779011099899092, 0.08779011099899092, 0.09283551967709384, 0.09283551967709384, 0.09384460141271443, 0.09384460141271443, 0.09687184661957618, 0.09687184661957618, 0.09989909182643794, 0.09989909182643794, 0.10191725529767912, 0.10191725529767912, 0.10595358224016145, 0.10595358224016145, 0.10696266397578204, 0.10696266397578204, 0.10797174571140263, 0.10797174571140263, 0.1099899091826438, 0.1099899091826438, 0.11301715438950555, 0.11301715438950555, 0.11604439959636731, 0.11604439959636731, 0.1170534813319879, 0.1170534813319879, 0.11806256306760847, 0.11806256306760847, 0.11907164480322906, 0.11907164480322906, 0.12008072653884964, 0.12008072653884964, 0.12209889001009082, 0.12209889001009082, 0.12613521695257315, 0.12613521695257315, 0.12714429868819374, 0.12714429868819374, 0.1301715438950555, 0.1301715438950555, 0.1311806256306761, 0.1311806256306761, 0.13218970736629668, 0.13218970736629668, 0.13420787083753785, 0.13420787083753785, 0.136226034308779, 0.136226034308779, 0.14127144298688193, 0.14127144298688193, 0.1432896064581231, 0.1432896064581231, 0.1432896064581231, 0.14631685166498487, 0.14631685166498487, 0.15136226034308778, 0.15136226034308778, 0.15338042381432895, 0.15338042381432895, 0.15640766902119072, 0.15640766902119072, 0.16145307769929365, 0.16145307769929365, 0.16246215943491424, 0.16246215943491424, 0.16347124117053483, 0.16347124117053483, 0.16448032290615539, 0.16448032290615539, 0.16649848637739656, 0.16649848637739656, 0.16750756811301715, 0.16750756811301715, 0.1715438950554995, 0.1715438950554995, 0.17658930373360243, 0.17658930373360243, 0.17759838546922302, 0.17759838546922302, 0.17860746720484358, 0.17860746720484358, 0.18062563067608475, 0.18062563067608475, 0.18163471241170534, 0.18163471241170534, 0.18970736629667004, 0.18970736629667004, 0.19071644803229063, 0.19071644803229063, 0.1977800201816347, 0.1977800201816347, 0.1987891019172553, 0.1987891019172553, 0.20181634712411706, 0.20181634712411706, 0.20282542885973764, 0.20282542885973764, 0.20484359233097882, 0.20484359233097882, 0.2119071644803229, 0.2119071644803229, 0.2129162462159435, 0.2129162462159435, 0.21392532795156408, 0.21392532795156408, 0.2199798183652876, 0.2199798183652876, 0.2209889001009082, 0.2209889001009082, 0.22199798183652875, 0.22199798183652875, 0.2250252270433905, 0.2250252270433905, 0.22805247225025227, 0.22805247225025227, 0.2330978809283552, 0.2330978809283552, 0.23814328960645811, 0.23814328960645811, 0.2391523713420787, 0.2391523713420787, 0.24419778002018164, 0.24419778002018164, 0.24520686175580222, 0.24520686175580222, 0.2522704339051463, 0.2522704339051463, 0.25529767911200807, 0.25529767911200807, 0.25630676084762866, 0.25630676084762866, 0.2593340060544904, 0.2593340060544904, 0.260343087790111, 0.260343087790111, 0.2623612512613522, 0.2623612512613522, 0.26337033299697277, 0.26337033299697277, 0.2684157416750757, 0.2684157416750757, 0.2714429868819374, 0.2714429868819374, 0.2734611503531786, 0.2734611503531786, 0.27547931382441976, 0.27547931382441976, 0.2795156407669021, 0.2795156407669021, 0.2815338042381433, 0.2815338042381433, 0.28254288597376387, 0.28254288597376387, 0.28355196770938446, 0.28355196770938446, 0.28557013118062563, 0.28557013118062563, 0.289606458123108, 0.289606458123108, 0.29364278506559033, 0.29364278506559033, 0.2946518668012109, 0.2946518668012109, 0.29969727547931385, 0.29969727547931385, 0.30171543895055497, 0.30171543895055497, 0.30272452068617556, 0.30272452068617556, 0.30373360242179614, 0.30373360242179614, 0.30474268415741673, 0.30474268415741673, 0.30474268415741673, 0.3087790110998991, 0.3087790110998991, 0.31180625630676084, 0.31180625630676084, 0.3148335015136226, 0.3148335015136226, 0.31886982845610495, 0.31886982845610495, 0.3229061553985873, 0.3229061553985873, 0.3410696266397578, 0.3410696266397578, 0.34611503531786075, 0.34611503531786075, 0.3521695257315843, 0.35418768920282545, 0.3612512613521695, 0.3612512613521695, 0.36629667003027244, 0.36629667003027244, 0.37336024217961655, 0.37336024217961655, 0.37436932391523714, 0.37436932391523714, 0.3763874873864783, 0.3763874873864783, 0.3773965691220989, 0.3773965691220989, 0.3975782038345106, 0.3975782038345106, 0.3985872855701312, 0.3985872855701312, 0.4026236125126135, 0.4026236125126135, 0.4147325933400605, 0.4147325933400605, 0.41977800201816345, 0.41977800201816345, 0.42078708375378404, 0.42078708375378404, 0.4228052472250252, 0.4228052472250252, 0.44601412714429867, 0.44601412714429867, 0.44904137235116043, 0.44904137235116043, 0.4591321897073663, 0.4591321897073663, 0.46215943491422806, 0.46215943491422806, 0.46417759838546924, 0.46417759838546924, 0.4803229061553986, 0.4803229061553986, 0.4853683148335015, 0.4853683148335015, 0.4873864783047427, 0.4873864783047427, 0.4883955600403633, 0.4883955600403633, 0.49848637739656915, 0.49848637739656915, 0.5005045408678103, 0.5005045408678103, 0.5035317860746721, 0.5055499495459133, 0.5065590312815338, 0.5065590312815338, 0.5146316851664985, 0.5146316851664985, 0.5368314833501514, 0.5368314833501514, 0.5408678102926338, 0.5408678102926338, 0.5489404641775983, 0.5489404641775983, 0.5529767911200807, 0.5529767911200807, 0.5600403632694249, 0.562058526740666, 0.562058526740666, 0.5711402623612513, 0.5711402623612513, 0.5721493440968718, 0.5731584258324924, 0.5731584258324924, 0.5761856710393541, 0.5761856710393541, 0.5842583249243188, 0.5842583249243188, 0.5872855701311807, 0.5872855701311807, 0.5882946518668012, 0.5882946518668012, 0.5893037336024218, 0.5893037336024218, 0.5933400605449042, 0.5933400605449042, 0.5993945509586277, 0.5993945509586277, 0.6024217961654894, 0.6024217961654894, 0.6064581231079718, 0.6084762865792129, 0.6226034308779012, 0.6226034308779012, 0.6347124117053481, 0.6367305751765893, 0.6427850655903128, 0.6427850655903128, 0.644803229061554, 0.6538849646821393, 0.6538849646821393, 0.6559031281533805, 0.6559031281533805, 0.6579212916246215, 0.6579212916246215, 0.6801210898082745, 0.6811301715438951, 0.6831483350151363, 0.686175580221998, 0.6881937436932392, 0.6892028254288597, 0.6912209889001009, 0.6922300706357215, 0.6942482341069627, 0.7023208879919274, 0.7043390514631686, 0.7093844601412714, 0.7093844601412714, 0.7336024217961655, 0.7336024217961655, 0.7426841574167508, 0.7426841574167508, 0.7457114026236125, 0.7457114026236125, 0.751765893037336, 0.7527749747729566, 0.756811301715439, 0.7598385469223007, 0.7790110998990918, 0.7790110998990918, 0.7901109989909183, 0.7911200807265388, 0.7921291624621595, 0.7941473259334006, 0.8002018163471241, 0.8002018163471241, 0.8032290615539859, 0.805247225025227, 0.8062563067608476, 0.8082744702320888, 0.8113017154389506, 0.8113017154389506, 0.8163471241170535, 0.8163471241170535, 0.8213925327951564, 0.822401614530777, 0.8335015136226034, 0.8355196770938446, 0.8415741675075681, 0.8435923309788093, 0.8456104944500504, 0.8476286579212916, 0.8496468213925328, 0.8496468213925328, 0.8526740665993946, 0.8546922300706358, 0.8577194752774975, 0.8607467204843592, 0.8627648839556004, 0.8647830474268415, 0.8657921291624622, 0.8819374369323916, 0.8819374369323916, 0.8829465186680121, 0.8829465186680121, 0.8859737638748738, 0.8910191725529768, 0.8950554994954592, 0.8950554994954592, 0.900100908173562, 0.9021190716448032, 0.9061553985872856, 0.9101917255297679, 0.9112008072653885, 0.9132189707366297, 0.9202825428859738, 0.922300706357215, 0.9233097880928355, 0.9263370332996973, 0.9354187689202825, 0.9394550958627649, 0.9505549949545913, 0.9525731584258325, 0.958627648839556, 0.9606458123107972, 0.9667003027245207, 0.9788092835519677, 0.9808274470232089, 0.9808274470232089, 0.992936427850656, 0.9989909182643795, 1.0], \"xaxis\": \"x\", \"y\": [0.0, 0.002336448598130841, 0.007009345794392523, 0.007009345794392523, 0.009345794392523364, 0.014018691588785047, 0.016355140186915886, 0.02336448598130841, 0.02570093457943925, 0.02570093457943925, 0.030373831775700934, 0.0397196261682243, 0.04205607476635514, 0.04205607476635514, 0.04906542056074766, 0.05841121495327103, 0.0630841121495327, 0.06542056074766354, 0.06775700934579439, 0.06775700934579439, 0.07242990654205607, 0.07710280373831775, 0.08411214953271028, 0.08878504672897196, 0.10981308411214953, 0.11682242990654206, 0.11682242990654206, 0.1308411214953271, 0.13551401869158877, 0.13551401869158877, 0.15186915887850466, 0.15186915887850466, 0.15654205607476634, 0.15654205607476634, 0.17990654205607476, 0.17990654205607476, 0.18691588785046728, 0.18691588785046728, 0.18925233644859812, 0.18925233644859812, 0.2102803738317757, 0.2102803738317757, 0.21495327102803738, 0.21495327102803738, 0.2219626168224299, 0.2219626168224299, 0.22429906542056074, 0.22429906542056074, 0.22897196261682243, 0.25, 0.25, 0.2523364485981308, 0.2523364485981308, 0.26401869158878505, 0.26401869158878505, 0.2733644859813084, 0.2733644859813084, 0.2780373831775701, 0.2780373831775701, 0.2803738317757009, 0.2803738317757009, 0.2827102803738318, 0.2827102803738318, 0.2897196261682243, 0.2897196261682243, 0.3177570093457944, 0.3177570093457944, 0.32009345794392524, 0.32009345794392524, 0.32710280373831774, 0.3317757009345794, 0.3341121495327103, 0.3341121495327103, 0.3364485981308411, 0.3364485981308411, 0.35514018691588783, 0.35514018691588783, 0.3621495327102804, 0.3621495327102804, 0.36682242990654207, 0.36682242990654207, 0.3691588785046729, 0.3691588785046729, 0.37383177570093457, 0.37383177570093457, 0.37616822429906543, 0.37616822429906543, 0.37850467289719625, 0.37850467289719625, 0.38317757009345793, 0.38317757009345793, 0.39485981308411217, 0.39485981308411217, 0.39953271028037385, 0.39953271028037385, 0.4088785046728972, 0.4088785046728972, 0.4182242990654206, 0.4182242990654206, 0.4205607476635514, 0.4205607476635514, 0.42289719626168226, 0.42289719626168226, 0.43457943925233644, 0.43457943925233644, 0.4392523364485981, 0.4392523364485981, 0.4439252336448598, 0.4439252336448598, 0.45093457943925236, 0.45093457943925236, 0.45560747663551404, 0.45560747663551404, 0.45794392523364486, 0.45794392523364486, 0.46261682242990654, 0.46261682242990654, 0.4649532710280374, 0.4649532710280374, 0.4696261682242991, 0.4696261682242991, 0.4742990654205608, 0.4742990654205608, 0.4766355140186916, 0.4766355140186916, 0.48130841121495327, 0.48130841121495327, 0.48364485981308414, 0.48364485981308414, 0.48598130841121495, 0.48598130841121495, 0.4929906542056075, 0.4929906542056075, 0.5, 0.5, 0.5023364485981309, 0.5023364485981309, 0.5046728971962616, 0.5046728971962616, 0.5070093457943925, 0.5070093457943925, 0.5116822429906542, 0.5116822429906542, 0.5210280373831776, 0.5210280373831776, 0.5233644859813084, 0.5233644859813084, 0.5257009345794392, 0.5257009345794392, 0.5280373831775701, 0.5280373831775701, 0.5350467289719626, 0.5350467289719626, 0.5373831775700935, 0.5373831775700935, 0.544392523364486, 0.5490654205607477, 0.5490654205607477, 0.5560747663551402, 0.5560747663551402, 0.5584112149532711, 0.5584112149532711, 0.5607476635514018, 0.5607476635514018, 0.5630841121495327, 0.5630841121495327, 0.5747663551401869, 0.5747663551401869, 0.5817757009345794, 0.5817757009345794, 0.5841121495327103, 0.5841121495327103, 0.5864485981308412, 0.5864485981308412, 0.5887850467289719, 0.5887850467289719, 0.6004672897196262, 0.6004672897196262, 0.602803738317757, 0.602803738317757, 0.6051401869158879, 0.6051401869158879, 0.6074766355140186, 0.6074766355140186, 0.6098130841121495, 0.6098130841121495, 0.6144859813084113, 0.6144859813084113, 0.616822429906542, 0.616822429906542, 0.6261682242990654, 0.6261682242990654, 0.6285046728971962, 0.6285046728971962, 0.633177570093458, 0.633177570093458, 0.6355140186915887, 0.6355140186915887, 0.6425233644859814, 0.6425233644859814, 0.6495327102803738, 0.6495327102803738, 0.6542056074766355, 0.6542056074766355, 0.6565420560747663, 0.6565420560747663, 0.6635514018691588, 0.6635514018691588, 0.6705607476635514, 0.6705607476635514, 0.6728971962616822, 0.6728971962616822, 0.6752336448598131, 0.6752336448598131, 0.6845794392523364, 0.6845794392523364, 0.6869158878504673, 0.6869158878504673, 0.6892523364485982, 0.6892523364485982, 0.6915887850467289, 0.6915887850467289, 0.6962616822429907, 0.6962616822429907, 0.7009345794392523, 0.7009345794392523, 0.7032710280373832, 0.7032710280373832, 0.7102803738317757, 0.7102803738317757, 0.7149532710280374, 0.7149532710280374, 0.7172897196261683, 0.7172897196261683, 0.719626168224299, 0.719626168224299, 0.7266355140186916, 0.7266355140186916, 0.7289719626168224, 0.7289719626168224, 0.7313084112149533, 0.7313084112149533, 0.7336448598130841, 0.7336448598130841, 0.7406542056074766, 0.7406542056074766, 0.7429906542056075, 0.7429906542056075, 0.7476635514018691, 0.7476635514018691, 0.75, 0.75, 0.7523364485981309, 0.7523364485981309, 0.7546728971962616, 0.7546728971962616, 0.7570093457943925, 0.7570093457943925, 0.7593457943925234, 0.7593457943925234, 0.764018691588785, 0.764018691588785, 0.7710280373831776, 0.7710280373831776, 0.7733644859813084, 0.7733644859813084, 0.7757009345794392, 0.7757009345794392, 0.780373831775701, 0.780373831775701, 0.7827102803738317, 0.7827102803738317, 0.7850467289719626, 0.7850467289719626, 0.7897196261682243, 0.7897196261682243, 0.794392523364486, 0.7967289719626168, 0.7967289719626168, 0.8014018691588785, 0.8014018691588785, 0.8060747663551402, 0.8060747663551402, 0.8084112149532711, 0.8084112149532711, 0.8107476635514018, 0.8107476635514018, 0.8130841121495327, 0.8130841121495327, 0.8154205607476636, 0.8154205607476636, 0.8200934579439252, 0.8200934579439252, 0.8200934579439252, 0.8200934579439252, 0.822429906542056, 0.822429906542056, 0.8247663551401869, 0.8247663551401869, 0.8271028037383178, 0.8271028037383178, 0.8294392523364486, 0.8294392523364486, 0.8341121495327103, 0.8341121495327103, 0.8364485981308412, 0.8364485981308412, 0.8387850467289719, 0.8387850467289719, 0.8411214953271028, 0.8411214953271028, 0.8481308411214953, 0.8481308411214953, 0.8504672897196262, 0.8504672897196262, 0.852803738317757, 0.852803738317757, 0.8551401869158879, 0.8551401869158879, 0.8598130841121495, 0.8598130841121495, 0.8621495327102804, 0.8621495327102804, 0.8644859813084113, 0.8644859813084113, 0.866822429906542, 0.866822429906542, 0.8691588785046729, 0.8691588785046729, 0.8714953271028038, 0.8714953271028038, 0.8738317757009346, 0.8738317757009346, 0.8761682242990654, 0.8761682242990654, 0.8785046728971962, 0.8785046728971962, 0.8808411214953271, 0.8808411214953271, 0.8878504672897196, 0.8878504672897196, 0.8901869158878505, 0.8901869158878505, 0.8901869158878505, 0.8901869158878505, 0.8925233644859814, 0.8925233644859814, 0.8948598130841121, 0.8948598130841121, 0.897196261682243, 0.897196261682243, 0.8995327102803738, 0.8995327102803738, 0.9018691588785047, 0.9018691588785047, 0.9088785046728972, 0.9088785046728972, 0.9088785046728972, 0.9112149532710281, 0.9112149532710281, 0.9135514018691588, 0.9158878504672897, 0.9158878504672897, 0.9182242990654206, 0.9182242990654206, 0.9205607476635514, 0.9205607476635514, 0.9228971962616822, 0.9228971962616822, 0.9252336448598131, 0.9252336448598131, 0.927570093457944, 0.927570093457944, 0.9322429906542056, 0.9322429906542056, 0.9345794392523364, 0.9345794392523364, 0.9369158878504673, 0.9369158878504673, 0.9392523364485982, 0.9392523364485982, 0.9392523364485982, 0.9392523364485982, 0.9415887850467289, 0.9415887850467289, 0.9415887850467289, 0.9415887850467289, 0.9462616822429907, 0.9462616822429907, 0.9462616822429907, 0.9485981308411215, 0.9485981308411215, 0.9509345794392523, 0.9509345794392523, 0.9532710280373832, 0.9532710280373832, 0.955607476635514, 0.955607476635514, 0.955607476635514, 0.955607476635514, 0.955607476635514, 0.955607476635514, 0.955607476635514, 0.955607476635514, 0.955607476635514, 0.955607476635514, 0.955607476635514, 0.9579439252336449, 0.9579439252336449, 0.9602803738317757, 0.9602803738317757, 0.9626168224299065, 0.9626168224299065, 0.9649532710280374, 0.9649532710280374, 0.9672897196261683, 0.9672897196261683, 0.9672897196261683, 0.9672897196261683, 0.969626168224299, 0.969626168224299, 0.9719626168224299, 0.9719626168224299, 0.9719626168224299, 0.9719626168224299, 0.9742990654205608, 0.9742990654205608, 0.9742990654205608, 0.9742990654205608, 0.9742990654205608, 0.9742990654205608, 0.9766355140186916, 0.9766355140186916, 0.9789719626168224, 0.9789719626168224, 0.9813084112149533, 0.9813084112149533, 0.9813084112149533, 0.9813084112149533, 0.9813084112149533, 0.9813084112149533, 0.9813084112149533, 0.9813084112149533, 0.9836448598130841, 0.9836448598130841, 0.9836448598130841, 0.9836448598130841, 0.9836448598130841, 0.9836448598130841, 0.9836448598130841, 0.985981308411215, 0.985981308411215, 0.9883177570093458, 0.9883177570093458, 0.9906542056074766, 0.9906542056074766, 0.9929906542056075, 0.9929906542056075, 0.9953271028037384, 0.9953271028037384, 0.9953271028037384, 0.9953271028037384, 0.9953271028037384, 0.9953271028037384, 0.9953271028037384, 0.9953271028037384, 0.9953271028037384, 0.9953271028037384, 0.9953271028037384, 0.9953271028037384, 0.9953271028037384, 0.9953271028037384, 0.9953271028037384, 0.9953271028037384, 0.9953271028037384, 0.9953271028037384, 0.9976635514018691, 0.9976635514018691, 1.0, 1.0, 1.0, 1.0], \"yaxis\": \"y\"}],\n",
       "                        {\"height\": 500, \"legend\": {\"tracegroupgap\": 0}, \"shapes\": [{\"line\": {\"dash\": \"dash\"}, \"type\": \"line\", \"x0\": 0, \"x1\": 1, \"y0\": 0, \"y1\": 1}], \"template\": {\"data\": {\"bar\": [{\"error_x\": {\"color\": \"#2a3f5f\"}, \"error_y\": {\"color\": \"#2a3f5f\"}, \"marker\": {\"line\": {\"color\": \"#E5ECF6\", \"width\": 0.5}}, \"type\": \"bar\"}], \"barpolar\": [{\"marker\": {\"line\": {\"color\": \"#E5ECF6\", \"width\": 0.5}}, \"type\": \"barpolar\"}], \"carpet\": [{\"aaxis\": {\"endlinecolor\": \"#2a3f5f\", \"gridcolor\": \"white\", \"linecolor\": \"white\", \"minorgridcolor\": \"white\", \"startlinecolor\": \"#2a3f5f\"}, \"baxis\": {\"endlinecolor\": \"#2a3f5f\", \"gridcolor\": \"white\", \"linecolor\": \"white\", \"minorgridcolor\": \"white\", \"startlinecolor\": \"#2a3f5f\"}, \"type\": \"carpet\"}], \"choropleth\": [{\"colorbar\": {\"outlinewidth\": 0, \"ticks\": \"\"}, \"type\": \"choropleth\"}], \"contour\": [{\"colorbar\": {\"outlinewidth\": 0, \"ticks\": \"\"}, \"colorscale\": [[0.0, \"#0d0887\"], [0.1111111111111111, \"#46039f\"], [0.2222222222222222, \"#7201a8\"], [0.3333333333333333, \"#9c179e\"], [0.4444444444444444, \"#bd3786\"], [0.5555555555555556, \"#d8576b\"], [0.6666666666666666, \"#ed7953\"], [0.7777777777777778, \"#fb9f3a\"], [0.8888888888888888, \"#fdca26\"], [1.0, \"#f0f921\"]], \"type\": \"contour\"}], \"contourcarpet\": [{\"colorbar\": {\"outlinewidth\": 0, \"ticks\": \"\"}, \"type\": \"contourcarpet\"}], \"heatmap\": [{\"colorbar\": {\"outlinewidth\": 0, \"ticks\": \"\"}, \"colorscale\": [[0.0, \"#0d0887\"], [0.1111111111111111, \"#46039f\"], [0.2222222222222222, \"#7201a8\"], [0.3333333333333333, \"#9c179e\"], [0.4444444444444444, \"#bd3786\"], [0.5555555555555556, \"#d8576b\"], [0.6666666666666666, \"#ed7953\"], [0.7777777777777778, \"#fb9f3a\"], [0.8888888888888888, \"#fdca26\"], [1.0, \"#f0f921\"]], \"type\": \"heatmap\"}], \"heatmapgl\": [{\"colorbar\": {\"outlinewidth\": 0, \"ticks\": \"\"}, \"colorscale\": [[0.0, \"#0d0887\"], [0.1111111111111111, \"#46039f\"], [0.2222222222222222, \"#7201a8\"], [0.3333333333333333, \"#9c179e\"], [0.4444444444444444, \"#bd3786\"], [0.5555555555555556, \"#d8576b\"], [0.6666666666666666, \"#ed7953\"], [0.7777777777777778, \"#fb9f3a\"], [0.8888888888888888, \"#fdca26\"], [1.0, \"#f0f921\"]], \"type\": \"heatmapgl\"}], \"histogram\": [{\"marker\": {\"colorbar\": {\"outlinewidth\": 0, \"ticks\": \"\"}}, \"type\": \"histogram\"}], \"histogram2d\": [{\"colorbar\": {\"outlinewidth\": 0, \"ticks\": \"\"}, \"colorscale\": [[0.0, \"#0d0887\"], [0.1111111111111111, \"#46039f\"], [0.2222222222222222, \"#7201a8\"], [0.3333333333333333, \"#9c179e\"], [0.4444444444444444, \"#bd3786\"], [0.5555555555555556, \"#d8576b\"], [0.6666666666666666, \"#ed7953\"], [0.7777777777777778, \"#fb9f3a\"], [0.8888888888888888, \"#fdca26\"], [1.0, \"#f0f921\"]], \"type\": \"histogram2d\"}], \"histogram2dcontour\": [{\"colorbar\": {\"outlinewidth\": 0, \"ticks\": \"\"}, \"colorscale\": [[0.0, \"#0d0887\"], [0.1111111111111111, \"#46039f\"], [0.2222222222222222, \"#7201a8\"], [0.3333333333333333, \"#9c179e\"], [0.4444444444444444, \"#bd3786\"], [0.5555555555555556, \"#d8576b\"], [0.6666666666666666, \"#ed7953\"], [0.7777777777777778, \"#fb9f3a\"], [0.8888888888888888, \"#fdca26\"], [1.0, \"#f0f921\"]], \"type\": \"histogram2dcontour\"}], \"mesh3d\": [{\"colorbar\": {\"outlinewidth\": 0, \"ticks\": \"\"}, \"type\": \"mesh3d\"}], \"parcoords\": [{\"line\": {\"colorbar\": {\"outlinewidth\": 0, \"ticks\": \"\"}}, \"type\": \"parcoords\"}], \"pie\": [{\"automargin\": true, \"type\": \"pie\"}], \"scatter\": [{\"marker\": {\"colorbar\": {\"outlinewidth\": 0, \"ticks\": \"\"}}, \"type\": \"scatter\"}], \"scatter3d\": [{\"line\": {\"colorbar\": {\"outlinewidth\": 0, \"ticks\": \"\"}}, \"marker\": {\"colorbar\": {\"outlinewidth\": 0, \"ticks\": \"\"}}, \"type\": \"scatter3d\"}], \"scattercarpet\": [{\"marker\": {\"colorbar\": {\"outlinewidth\": 0, \"ticks\": \"\"}}, \"type\": \"scattercarpet\"}], \"scattergeo\": [{\"marker\": {\"colorbar\": {\"outlinewidth\": 0, \"ticks\": \"\"}}, \"type\": \"scattergeo\"}], \"scattergl\": [{\"marker\": {\"colorbar\": {\"outlinewidth\": 0, \"ticks\": \"\"}}, \"type\": \"scattergl\"}], \"scattermapbox\": [{\"marker\": {\"colorbar\": {\"outlinewidth\": 0, \"ticks\": \"\"}}, \"type\": \"scattermapbox\"}], \"scatterpolar\": [{\"marker\": {\"colorbar\": {\"outlinewidth\": 0, \"ticks\": \"\"}}, \"type\": \"scatterpolar\"}], \"scatterpolargl\": [{\"marker\": {\"colorbar\": {\"outlinewidth\": 0, \"ticks\": \"\"}}, \"type\": \"scatterpolargl\"}], \"scatterternary\": [{\"marker\": {\"colorbar\": {\"outlinewidth\": 0, \"ticks\": \"\"}}, \"type\": \"scatterternary\"}], \"surface\": [{\"colorbar\": {\"outlinewidth\": 0, \"ticks\": \"\"}, \"colorscale\": [[0.0, \"#0d0887\"], [0.1111111111111111, \"#46039f\"], [0.2222222222222222, \"#7201a8\"], [0.3333333333333333, \"#9c179e\"], [0.4444444444444444, \"#bd3786\"], [0.5555555555555556, \"#d8576b\"], [0.6666666666666666, \"#ed7953\"], [0.7777777777777778, \"#fb9f3a\"], [0.8888888888888888, \"#fdca26\"], [1.0, \"#f0f921\"]], \"type\": \"surface\"}], \"table\": [{\"cells\": {\"fill\": {\"color\": \"#EBF0F8\"}, \"line\": {\"color\": \"white\"}}, \"header\": {\"fill\": {\"color\": \"#C8D4E3\"}, \"line\": {\"color\": \"white\"}}, \"type\": \"table\"}]}, \"layout\": {\"annotationdefaults\": {\"arrowcolor\": \"#2a3f5f\", \"arrowhead\": 0, \"arrowwidth\": 1}, \"coloraxis\": {\"colorbar\": {\"outlinewidth\": 0, \"ticks\": \"\"}}, \"colorscale\": {\"diverging\": [[0, \"#8e0152\"], [0.1, \"#c51b7d\"], [0.2, \"#de77ae\"], [0.3, \"#f1b6da\"], [0.4, \"#fde0ef\"], [0.5, \"#f7f7f7\"], [0.6, \"#e6f5d0\"], [0.7, \"#b8e186\"], [0.8, \"#7fbc41\"], [0.9, \"#4d9221\"], [1, \"#276419\"]], \"sequential\": [[0.0, \"#0d0887\"], [0.1111111111111111, \"#46039f\"], [0.2222222222222222, \"#7201a8\"], [0.3333333333333333, \"#9c179e\"], [0.4444444444444444, \"#bd3786\"], [0.5555555555555556, \"#d8576b\"], [0.6666666666666666, \"#ed7953\"], [0.7777777777777778, \"#fb9f3a\"], [0.8888888888888888, \"#fdca26\"], [1.0, \"#f0f921\"]], \"sequentialminus\": [[0.0, \"#0d0887\"], [0.1111111111111111, \"#46039f\"], [0.2222222222222222, \"#7201a8\"], [0.3333333333333333, \"#9c179e\"], [0.4444444444444444, \"#bd3786\"], [0.5555555555555556, \"#d8576b\"], [0.6666666666666666, \"#ed7953\"], [0.7777777777777778, \"#fb9f3a\"], [0.8888888888888888, \"#fdca26\"], [1.0, \"#f0f921\"]]}, \"colorway\": [\"#636efa\", \"#EF553B\", \"#00cc96\", \"#ab63fa\", \"#FFA15A\", \"#19d3f3\", \"#FF6692\", \"#B6E880\", \"#FF97FF\", \"#FECB52\"], \"font\": {\"color\": \"#2a3f5f\"}, \"geo\": {\"bgcolor\": \"white\", \"lakecolor\": \"white\", \"landcolor\": \"#E5ECF6\", \"showlakes\": true, \"showland\": true, \"subunitcolor\": \"white\"}, \"hoverlabel\": {\"align\": \"left\"}, \"hovermode\": \"closest\", \"mapbox\": {\"style\": \"light\"}, \"paper_bgcolor\": \"white\", \"plot_bgcolor\": \"#E5ECF6\", \"polar\": {\"angularaxis\": {\"gridcolor\": \"white\", \"linecolor\": \"white\", \"ticks\": \"\"}, \"bgcolor\": \"#E5ECF6\", \"radialaxis\": {\"gridcolor\": \"white\", \"linecolor\": \"white\", \"ticks\": \"\"}}, \"scene\": {\"xaxis\": {\"backgroundcolor\": \"#E5ECF6\", \"gridcolor\": \"white\", \"gridwidth\": 2, \"linecolor\": \"white\", \"showbackground\": true, \"ticks\": \"\", \"zerolinecolor\": \"white\"}, \"yaxis\": {\"backgroundcolor\": \"#E5ECF6\", \"gridcolor\": \"white\", \"gridwidth\": 2, \"linecolor\": \"white\", \"showbackground\": true, \"ticks\": \"\", \"zerolinecolor\": \"white\"}, \"zaxis\": {\"backgroundcolor\": \"#E5ECF6\", \"gridcolor\": \"white\", \"gridwidth\": 2, \"linecolor\": \"white\", \"showbackground\": true, \"ticks\": \"\", \"zerolinecolor\": \"white\"}}, \"shapedefaults\": {\"line\": {\"color\": \"#2a3f5f\"}}, \"ternary\": {\"aaxis\": {\"gridcolor\": \"white\", \"linecolor\": \"white\", \"ticks\": \"\"}, \"baxis\": {\"gridcolor\": \"white\", \"linecolor\": \"white\", \"ticks\": \"\"}, \"bgcolor\": \"#E5ECF6\", \"caxis\": {\"gridcolor\": \"white\", \"linecolor\": \"white\", \"ticks\": \"\"}}, \"title\": {\"x\": 0.05}, \"xaxis\": {\"automargin\": true, \"gridcolor\": \"white\", \"linecolor\": \"white\", \"ticks\": \"\", \"title\": {\"standoff\": 15}, \"zerolinecolor\": \"white\", \"zerolinewidth\": 2}, \"yaxis\": {\"automargin\": true, \"gridcolor\": \"white\", \"linecolor\": \"white\", \"ticks\": \"\", \"title\": {\"standoff\": 15}, \"zerolinecolor\": \"white\", \"zerolinewidth\": 2}}}, \"title\": {\"text\": \"ROC Curve\"}, \"width\": 700, \"xaxis\": {\"anchor\": \"y\", \"constrain\": \"domain\", \"domain\": [0.0, 1.0], \"title\": {\"text\": \"False Positive Rate\"}}, \"yaxis\": {\"anchor\": \"x\", \"domain\": [0.0, 1.0], \"scaleanchor\": \"x\", \"scaleratio\": 1, \"title\": {\"text\": \"True Positive Rate\"}}},\n",
       "                        {\"responsive\": true}\n",
       "                    ).then(function(){\n",
       "                            \n",
       "var gd = document.getElementById('6bccfbd4-1bfc-481b-b491-ee086f2c5dd7');\n",
       "var x = new MutationObserver(function (mutations, observer) {{\n",
       "        var display = window.getComputedStyle(gd).display;\n",
       "        if (!display || display === 'none') {{\n",
       "            console.log([gd, 'removed!']);\n",
       "            Plotly.purge(gd);\n",
       "            observer.disconnect();\n",
       "        }}\n",
       "}});\n",
       "\n",
       "// Listen for the removal of the full notebook cells\n",
       "var notebookContainer = gd.closest('#notebook-container');\n",
       "if (notebookContainer) {{\n",
       "    x.observe(notebookContainer, {childList: true});\n",
       "}}\n",
       "\n",
       "// Listen for the clearing of the current output cell\n",
       "var outputEl = gd.closest('.output');\n",
       "if (outputEl) {{\n",
       "    x.observe(outputEl, {childList: true});\n",
       "}}\n",
       "\n",
       "                        })\n",
       "                };\n",
       "                });\n",
       "            </script>\n",
       "        </div>"
      ]
     },
     "metadata": {},
     "output_type": "display_data"
    }
   ],
   "source": [
    "import plotly.express as px\n",
    "fig = px.area(\n",
    "    x = fpr,\n",
    "    y = tpr,\n",
    "    title='ROC Curve',\n",
    "    labels=dict(x='False Positive Rate', y='True Positive Rate'),\n",
    "    width=700,\n",
    "    height=500,\n",
    ")\n",
    "fig.add_shape(\n",
    "    type='line', line=dict(dash='dash'),\n",
    "    x0=0, x1=1, y0=0, y1=1\n",
    ")\n",
    "fig.update_yaxes(scaleanchor=\"x\", scaleratio=1)\n",
    "fig.update_xaxes(constrain='domain')\n",
    "fig.show()\n",
    "\n",
    "fig.write_image(\"roc-auc-final.png\")"
   ]
  },
  {
   "cell_type": "code",
   "execution_count": 171,
   "metadata": {},
   "outputs": [
    {
     "data": {
      "application/vnd.plotly.v1+json": {
       "config": {
        "plotlyServerURL": "https://plot.ly"
       },
       "data": [
        {
         "hovertemplate": "Rate=False Positive Rate<br>Thresholds=%{x}<br>value=%{y}<extra></extra>",
         "legendgroup": "False Positive Rate",
         "line": {
          "color": "#636efa",
          "dash": "solid"
         },
         "mode": "lines",
         "name": "False Positive Rate",
         "orientation": "v",
         "showlegend": true,
         "type": "scatter",
         "x": [
          1.9129169275411708,
          0.9129169275411708,
          0.9002786723074474,
          0.8996248700851073,
          0.8942089468580395,
          0.8937192953233705,
          0.8845359617820151,
          0.8814925329793942,
          0.8781748346453156,
          0.8740096849947643,
          0.8673582926289035,
          0.8653004831391382,
          0.8576144368030593,
          0.8574534382783573,
          0.8515689737925276,
          0.85035179510848,
          0.849535366668277,
          0.8469635380573932,
          0.8425563012467525,
          0.8389433096020485,
          0.8374551311876995,
          0.8366494258019525,
          0.8347217227487722,
          0.8332062130610375,
          0.8031189717560356,
          0.7964461331007485,
          0.7900546501936874,
          0.7782053377596154,
          0.775789516760784,
          0.7695669239083985,
          0.7471070093002197,
          0.7444193011741222,
          0.737072278601959,
          0.7367644587775252,
          0.7169248469595486,
          0.7164208756878144,
          0.71458677795196,
          0.7103442035760631,
          0.7085863366267384,
          0.7084511430206424,
          0.6883669639597025,
          0.6873376322526762,
          0.6814300879155376,
          0.6803715168004415,
          0.6768670780409795,
          0.6765880613285306,
          0.6735341620464133,
          0.6726337925278643,
          0.6719462583638868,
          0.6603598634990525,
          0.658171945890799,
          0.6574845397176529,
          0.6569436628901778,
          0.6467143342227092,
          0.6435971973650787,
          0.6382216203366006,
          0.6372383562061927,
          0.6341883537139729,
          0.6298638457412568,
          0.6293488162695716,
          0.6280485350267414,
          0.6272315674840013,
          0.6253685256027175,
          0.6197716257541923,
          0.6189818433873413,
          0.6017077381798706,
          0.6005915167894864,
          0.5980747440765926,
          0.5960106419779493,
          0.5935243636956189,
          0.5929546447747545,
          0.5919161764248758,
          0.5903079417810616,
          0.5900048892531959,
          0.589641509929332,
          0.5794220128361856,
          0.5777961122172333,
          0.5766130311704208,
          0.5729075742219507,
          0.5721661578674043,
          0.5655315326158422,
          0.5652460973798,
          0.5581545388953617,
          0.5549543091887736,
          0.5549073625124976,
          0.5548830739814732,
          0.5527945813847945,
          0.5523186563369202,
          0.5474707376396843,
          0.5462939424811406,
          0.545364744347522,
          0.5382826526899552,
          0.5378530064816698,
          0.5356725423409628,
          0.5318336225503053,
          0.5301283434260821,
          0.529531447067686,
          0.5234872559472938,
          0.5220854975538932,
          0.5214677383730485,
          0.5196574157521664,
          0.5174296402313151,
          0.5053134482695405,
          0.5000669114933436,
          0.4978870473285395,
          0.49681183872336393,
          0.49156622921728566,
          0.4904351704163103,
          0.48927548368263907,
          0.487388730370599,
          0.48460652231443585,
          0.48326007141405647,
          0.47741434212774214,
          0.476856689288274,
          0.4756117452952778,
          0.47303644750282625,
          0.4700618098548802,
          0.46735605060995683,
          0.46684560879974485,
          0.4636738228451951,
          0.46296358967588824,
          0.46187030185038835,
          0.46082982041598197,
          0.46066857723299054,
          0.455830528024475,
          0.4544196465748158,
          0.447331110152755,
          0.4464831778243738,
          0.44488866838825225,
          0.44460050051975275,
          0.4426621143043018,
          0.43788468752101145,
          0.4360645542424624,
          0.4337934149376393,
          0.4334581938822745,
          0.4331369968080365,
          0.4287284587968592,
          0.42825882771990187,
          0.4258339399435711,
          0.424651377661919,
          0.42437991408291986,
          0.4231847295047286,
          0.42034335435294307,
          0.4178724630850115,
          0.4177925946300197,
          0.4174303299872087,
          0.41701366338100676,
          0.4164267117654808,
          0.41469751565351576,
          0.41283150187724965,
          0.41233295719254565,
          0.41037740676371176,
          0.40545902989163113,
          0.40509894952682285,
          0.4050148694428711,
          0.40360239712474955,
          0.4034068204928255,
          0.4015705809928844,
          0.4004512185650226,
          0.39877952764113456,
          0.3987575075418053,
          0.3978073655678952,
          0.39754824922364096,
          0.3945940393053042,
          0.3928602932977726,
          0.38687570321470377,
          0.3826320945031679,
          0.38218996722187065,
          0.3801444887840367,
          0.37981043849351215,
          0.3782302754669255,
          0.37715369758531336,
          0.3771109832892613,
          0.37668806419920553,
          0.3764460271992375,
          0.375354747832137,
          0.36997733405580174,
          0.36832288017061965,
          0.3677022682132772,
          0.36507261785787265,
          0.3645653260071242,
          0.3642479478789614,
          0.363704754472184,
          0.36356241005649853,
          0.36350853342497236,
          0.3632849821523357,
          0.362529465801498,
          0.3624229754960347,
          0.36178930565058887,
          0.35625214738850935,
          0.3539492344342983,
          0.3538293265127147,
          0.3528693118566077,
          0.34726564496943757,
          0.3458010193187515,
          0.34548564447577507,
          0.3450683076875443,
          0.3437231109767034,
          0.3423408687599562,
          0.34215369721877614,
          0.3405544738691647,
          0.340371868704224,
          0.33950564473927675,
          0.33512652884021116,
          0.33495345285104544,
          0.3347253710917304,
          0.3345254891456706,
          0.33318539242328193,
          0.3317074563348617,
          0.3289451033411403,
          0.3289443007578164,
          0.32835258868947265,
          0.32827950181264487,
          0.328144438441206,
          0.3239704793799244,
          0.3231176246782611,
          0.3227141682864981,
          0.3213453710127944,
          0.3212312455586273,
          0.31887603363602685,
          0.318361425410766,
          0.3164370836639493,
          0.3142320185675976,
          0.3139866844468464,
          0.3124290617876158,
          0.3112140704304791,
          0.31084205871528964,
          0.3097339688395251,
          0.30829525761181903,
          0.3041737926699024,
          0.30204104551169436,
          0.29957535167454935,
          0.2991762581106903,
          0.29903807801726695,
          0.2987613979718787,
          0.2979976269392775,
          0.296620857685054,
          0.2963984756104137,
          0.2957800853654392,
          0.2953309587454707,
          0.29490302244194677,
          0.29458932831926676,
          0.29448767769982737,
          0.29209716760722504,
          0.2900048238715774,
          0.2890840978748063,
          0.2885870399872628,
          0.2866499356103482,
          0.28310592446598026,
          0.2822509555048522,
          0.2821446942707255,
          0.27988260842630736,
          0.2797692101067514,
          0.27891527216213674,
          0.2788796254670298,
          0.2784719466957456,
          0.2758367219256594,
          0.27578966903965635,
          0.27547230316854787,
          0.27336245022500805,
          0.27298791651220133,
          0.2707376535003848,
          0.2687374335538031,
          0.26565377549436897,
          0.2641955817510559,
          0.2633998597124259,
          0.26316557206152524,
          0.260051368889296,
          0.25948953378029266,
          0.25876247948536024,
          0.2586556163422019,
          0.2574907327000266,
          0.2567618184318459,
          0.2554505630166594,
          0.25459239737693623,
          0.25392099274695895,
          0.2536481405328158,
          0.2534828324030007,
          0.2517857161574971,
          0.25110176193380845,
          0.24994337876328723,
          0.249217293658069,
          0.24783224298748252,
          0.2476193602023609,
          0.24336582505998022,
          0.24334598469440005,
          0.24185503190909613,
          0.24167403838975124,
          0.23296159900804797,
          0.23189651612894485,
          0.2301490735263373,
          0.2292236246157442,
          0.22730405361410794,
          0.2264974955650822,
          0.2202019448128793,
          0.2200240339307439,
          0.2177808501758476,
          0.21730224511639729,
          0.21520976406889453,
          0.2142644699014337,
          0.21415616090996956,
          0.21379481408653156,
          0.21308221864707635,
          0.21061759176026945,
          0.2100982621680421,
          0.20984367937031007,
          0.2000142051084437,
          0.19998808483836517,
          0.19903282468773817,
          0.19868174726087792,
          0.19770997598094517,
          0.19694868147292957,
          0.19090867206763515,
          0.1903000954383429,
          0.18921110028286756,
          0.1891156980486907,
          0.18909341782676067,
          0.1889648315929467,
          0.1887636195490261,
          0.18818004031808933,
          0.18035272197270857,
          0.1801812685651415,
          0.1791335646780807,
          0.1789726487959541,
          0.17553843053597767,
          0.17549067362007187,
          0.17473938058142366,
          0.17455012606280182,
          0.17363324174286607,
          0.17313160450666948,
          0.16730807435553738,
          0.16729337395763072,
          0.1644588688769528,
          0.16357653262674296,
          0.16297985165995962,
          0.16282406373308372,
          0.16199225265981532,
          0.16193759466565197,
          0.16021642155955937,
          0.15981088130402005,
          0.15938822202546243,
          0.15935181247174243,
          0.159136542170946,
          0.15907011131985505,
          0.15854398936966801,
          0.1576530529131773,
          0.15432711667256802,
          0.1541124050479732,
          0.14714536008663262,
          0.1469407226165135,
          0.14577740314291543,
          0.14564399193713362,
          0.14310515714578112,
          0.1430916357469399,
          0.14217258032064137,
          0.14150892633894957,
          0.1393819510655264,
          0.13926675778517003,
          0.13892615211201445,
          0.13649182317135075,
          0.13626747285479748,
          0.13579861157647496,
          0.13531732643753086,
          0.135185979312494,
          0.13383091583948392,
          0.13344413941403596,
          0.13232223609690033,
          0.13137810332092142,
          0.13080445248289804,
          0.13071831907135617,
          0.13070632399860999,
          0.130576395735378,
          0.13041677147208391,
          0.12969250287573403,
          0.12815829183228744,
          0.12809762428377108,
          0.12666852562220518,
          0.12645825771655067,
          0.12589430189505535,
          0.1253787758434647,
          0.12407295998143208,
          0.12371582396250234,
          0.11917141722243652,
          0.11821497869363115,
          0.11539401130464529,
          0.11497938514178156,
          0.11254814404620198,
          0.1123558552892672,
          0.11226536642519254,
          0.11063535400847722,
          0.11048593847936711,
          0.11006206992611858,
          0.10991507509548026,
          0.10959087453578992,
          0.10940866736468788,
          0.1031943077702575,
          0.10305445282273898,
          0.10299646257336781,
          0.10250857078303152,
          0.10245354840053733,
          0.10241430550958756,
          0.10209575132096295,
          0.10193639730340445,
          0.10144268929542785,
          0.10069188753337066,
          0.10068138347642196,
          0.10017885079130419,
          0.09998647583040168,
          0.0959097034304246,
          0.09582769492331586,
          0.0938312891058373,
          0.09378645145423659,
          0.09291884206460818,
          0.09271937786109107,
          0.09144225274332295,
          0.09138669051986976,
          0.09058188238523979,
          0.09050543990526619,
          0.08566916779120796,
          0.0852737160386416,
          0.08225374050367906,
          0.08224722312230291,
          0.08191259615264485,
          0.08123682564570013,
          0.08078657037372228,
          0.08070781592262916,
          0.08037163400859126,
          0.08020735616261998,
          0.08006597658416409,
          0.07996180182052287,
          0.07927178111261453,
          0.078117149757608,
          0.07722205819464799,
          0.0770873829680457,
          0.0766802490151663,
          0.07635530930250266,
          0.07367665553908911,
          0.07364382596574685,
          0.07300777233202803,
          0.07273074427766321,
          0.07216207079899836,
          0.07180064374056606,
          0.07170075715971816,
          0.07167946300506513,
          0.0713638885312877,
          0.0713524625688459,
          0.07100375888481157,
          0.07083510236264809,
          0.07064938225909098,
          0.07061885345387911,
          0.07012093262817293,
          0.0669192069951399,
          0.06689940485886463,
          0.06683699887425432,
          0.06622245108588928,
          0.06494784450933734,
          0.06476976541762534,
          0.06410415872143935,
          0.06407529951073397,
          0.06349510441167522,
          0.063272751120285,
          0.06293501676025968,
          0.06226056962716184,
          0.06222085377633952,
          0.061974229179326205,
          0.06111130069044774,
          0.06100806367785747,
          0.06064924398051859,
          0.0606064291236502,
          0.05801449017912026,
          0.05787928337652232,
          0.05612762503693122,
          0.055770337438372584,
          0.05278613523055019,
          0.052700467736462836,
          0.05138971478053083,
          0.050247936385845626,
          0.04920370199669793,
          0.04909985767636612,
          0.03901150623446682,
          0.035350290255416535,
          0.03148421400745692
         ],
         "xaxis": "x",
         "y": [
          0,
          0,
          0,
          0.0010090817356205853,
          0.0010090817356205853,
          0.0010090817356205853,
          0.0010090817356205853,
          0.0010090817356205853,
          0.0010090817356205853,
          0.0020181634712411706,
          0.0020181634712411706,
          0.0020181634712411706,
          0.0020181634712411706,
          0.0030272452068617556,
          0.0030272452068617556,
          0.0030272452068617556,
          0.0030272452068617556,
          0.004036326942482341,
          0.004036326942482341,
          0.005045408678102927,
          0.005045408678102927,
          0.005045408678102927,
          0.005045408678102927,
          0.005045408678102927,
          0.005045408678102927,
          0.005045408678102927,
          0.006054490413723511,
          0.006054490413723511,
          0.006054490413723511,
          0.007063572149344097,
          0.007063572149344097,
          0.009081735620585268,
          0.009081735620585268,
          0.010090817356205853,
          0.010090817356205853,
          0.011099899091826439,
          0.011099899091826439,
          0.012108980827447022,
          0.012108980827447022,
          0.013118062563067608,
          0.013118062563067608,
          0.014127144298688193,
          0.014127144298688193,
          0.015136226034308779,
          0.015136226034308779,
          0.016145307769929364,
          0.016145307769929364,
          0.017154389505549948,
          0.017154389505549948,
          0.017154389505549948,
          0.018163471241170535,
          0.018163471241170535,
          0.01917255297679112,
          0.01917255297679112,
          0.022199798183652877,
          0.022199798183652877,
          0.02320887991927346,
          0.02320887991927346,
          0.026236125126135216,
          0.026236125126135216,
          0.028254288597376387,
          0.028254288597376387,
          0.030272452068617558,
          0.030272452068617558,
          0.03229061553985873,
          0.03229061553985873,
          0.034308779011099896,
          0.034308779011099896,
          0.035317860746720484,
          0.035317860746720484,
          0.035317860746720484,
          0.035317860746720484,
          0.03834510595358224,
          0.03834510595358224,
          0.039354187689202826,
          0.039354187689202826,
          0.04036326942482341,
          0.04036326942482341,
          0.04641775983854692,
          0.04641775983854692,
          0.04944500504540868,
          0.04944500504540868,
          0.05348133198789102,
          0.05348133198789102,
          0.054490413723511606,
          0.054490413723511606,
          0.056508577194752774,
          0.056508577194752774,
          0.05953582240161453,
          0.05953582240161453,
          0.060544904137235116,
          0.060544904137235116,
          0.0615539858728557,
          0.0615539858728557,
          0.06659939455095863,
          0.06659939455095863,
          0.06861755802219979,
          0.06861755802219979,
          0.06962663975782038,
          0.06962663975782038,
          0.07265388496468214,
          0.07265388496468214,
          0.08375378405650857,
          0.08375378405650857,
          0.08779011099899092,
          0.08779011099899092,
          0.09283551967709384,
          0.09283551967709384,
          0.09384460141271443,
          0.09384460141271443,
          0.09687184661957618,
          0.09687184661957618,
          0.09989909182643794,
          0.09989909182643794,
          0.10191725529767912,
          0.10191725529767912,
          0.10595358224016145,
          0.10595358224016145,
          0.10696266397578204,
          0.10696266397578204,
          0.10797174571140263,
          0.10797174571140263,
          0.1099899091826438,
          0.1099899091826438,
          0.11301715438950555,
          0.11301715438950555,
          0.11604439959636731,
          0.11604439959636731,
          0.1170534813319879,
          0.1170534813319879,
          0.11806256306760847,
          0.11806256306760847,
          0.11907164480322906,
          0.11907164480322906,
          0.12008072653884964,
          0.12008072653884964,
          0.12209889001009082,
          0.12209889001009082,
          0.12613521695257315,
          0.12613521695257315,
          0.12714429868819374,
          0.12714429868819374,
          0.1301715438950555,
          0.1301715438950555,
          0.1311806256306761,
          0.1311806256306761,
          0.13218970736629668,
          0.13218970736629668,
          0.13420787083753785,
          0.13420787083753785,
          0.136226034308779,
          0.136226034308779,
          0.14127144298688193,
          0.14127144298688193,
          0.1432896064581231,
          0.1432896064581231,
          0.1432896064581231,
          0.14631685166498487,
          0.14631685166498487,
          0.15136226034308778,
          0.15136226034308778,
          0.15338042381432895,
          0.15338042381432895,
          0.15640766902119072,
          0.15640766902119072,
          0.16145307769929365,
          0.16145307769929365,
          0.16246215943491424,
          0.16246215943491424,
          0.16347124117053483,
          0.16347124117053483,
          0.16448032290615539,
          0.16448032290615539,
          0.16649848637739656,
          0.16649848637739656,
          0.16750756811301715,
          0.16750756811301715,
          0.1715438950554995,
          0.1715438950554995,
          0.17658930373360243,
          0.17658930373360243,
          0.17759838546922302,
          0.17759838546922302,
          0.17860746720484358,
          0.17860746720484358,
          0.18062563067608475,
          0.18062563067608475,
          0.18163471241170534,
          0.18163471241170534,
          0.18970736629667004,
          0.18970736629667004,
          0.19071644803229063,
          0.19071644803229063,
          0.1977800201816347,
          0.1977800201816347,
          0.1987891019172553,
          0.1987891019172553,
          0.20181634712411706,
          0.20181634712411706,
          0.20282542885973764,
          0.20282542885973764,
          0.20484359233097882,
          0.20484359233097882,
          0.2119071644803229,
          0.2119071644803229,
          0.2129162462159435,
          0.2129162462159435,
          0.21392532795156408,
          0.21392532795156408,
          0.2199798183652876,
          0.2199798183652876,
          0.2209889001009082,
          0.2209889001009082,
          0.22199798183652875,
          0.22199798183652875,
          0.2250252270433905,
          0.2250252270433905,
          0.22805247225025227,
          0.22805247225025227,
          0.2330978809283552,
          0.2330978809283552,
          0.23814328960645811,
          0.23814328960645811,
          0.2391523713420787,
          0.2391523713420787,
          0.24419778002018164,
          0.24419778002018164,
          0.24520686175580222,
          0.24520686175580222,
          0.2522704339051463,
          0.2522704339051463,
          0.25529767911200807,
          0.25529767911200807,
          0.25630676084762866,
          0.25630676084762866,
          0.2593340060544904,
          0.2593340060544904,
          0.260343087790111,
          0.260343087790111,
          0.2623612512613522,
          0.2623612512613522,
          0.26337033299697277,
          0.26337033299697277,
          0.2684157416750757,
          0.2684157416750757,
          0.2714429868819374,
          0.2714429868819374,
          0.2734611503531786,
          0.2734611503531786,
          0.27547931382441976,
          0.27547931382441976,
          0.2795156407669021,
          0.2795156407669021,
          0.2815338042381433,
          0.2815338042381433,
          0.28254288597376387,
          0.28254288597376387,
          0.28355196770938446,
          0.28355196770938446,
          0.28557013118062563,
          0.28557013118062563,
          0.289606458123108,
          0.289606458123108,
          0.29364278506559033,
          0.29364278506559033,
          0.2946518668012109,
          0.2946518668012109,
          0.29969727547931385,
          0.29969727547931385,
          0.30171543895055497,
          0.30171543895055497,
          0.30272452068617556,
          0.30272452068617556,
          0.30373360242179614,
          0.30373360242179614,
          0.30474268415741673,
          0.30474268415741673,
          0.30474268415741673,
          0.3087790110998991,
          0.3087790110998991,
          0.31180625630676084,
          0.31180625630676084,
          0.3148335015136226,
          0.3148335015136226,
          0.31886982845610495,
          0.31886982845610495,
          0.3229061553985873,
          0.3229061553985873,
          0.3410696266397578,
          0.3410696266397578,
          0.34611503531786075,
          0.34611503531786075,
          0.3521695257315843,
          0.35418768920282545,
          0.3612512613521695,
          0.3612512613521695,
          0.36629667003027244,
          0.36629667003027244,
          0.37336024217961655,
          0.37336024217961655,
          0.37436932391523714,
          0.37436932391523714,
          0.3763874873864783,
          0.3763874873864783,
          0.3773965691220989,
          0.3773965691220989,
          0.3975782038345106,
          0.3975782038345106,
          0.3985872855701312,
          0.3985872855701312,
          0.4026236125126135,
          0.4026236125126135,
          0.4147325933400605,
          0.4147325933400605,
          0.41977800201816345,
          0.41977800201816345,
          0.42078708375378404,
          0.42078708375378404,
          0.4228052472250252,
          0.4228052472250252,
          0.44601412714429867,
          0.44601412714429867,
          0.44904137235116043,
          0.44904137235116043,
          0.4591321897073663,
          0.4591321897073663,
          0.46215943491422806,
          0.46215943491422806,
          0.46417759838546924,
          0.46417759838546924,
          0.4803229061553986,
          0.4803229061553986,
          0.4853683148335015,
          0.4853683148335015,
          0.4873864783047427,
          0.4873864783047427,
          0.4883955600403633,
          0.4883955600403633,
          0.49848637739656915,
          0.49848637739656915,
          0.5005045408678103,
          0.5005045408678103,
          0.5035317860746721,
          0.5055499495459133,
          0.5065590312815338,
          0.5065590312815338,
          0.5146316851664985,
          0.5146316851664985,
          0.5368314833501514,
          0.5368314833501514,
          0.5408678102926338,
          0.5408678102926338,
          0.5489404641775983,
          0.5489404641775983,
          0.5529767911200807,
          0.5529767911200807,
          0.5600403632694249,
          0.562058526740666,
          0.562058526740666,
          0.5711402623612513,
          0.5711402623612513,
          0.5721493440968718,
          0.5731584258324924,
          0.5731584258324924,
          0.5761856710393541,
          0.5761856710393541,
          0.5842583249243188,
          0.5842583249243188,
          0.5872855701311807,
          0.5872855701311807,
          0.5882946518668012,
          0.5882946518668012,
          0.5893037336024218,
          0.5893037336024218,
          0.5933400605449042,
          0.5933400605449042,
          0.5993945509586277,
          0.5993945509586277,
          0.6024217961654894,
          0.6024217961654894,
          0.6064581231079718,
          0.6084762865792129,
          0.6226034308779012,
          0.6226034308779012,
          0.6347124117053481,
          0.6367305751765893,
          0.6427850655903128,
          0.6427850655903128,
          0.644803229061554,
          0.6538849646821393,
          0.6538849646821393,
          0.6559031281533805,
          0.6559031281533805,
          0.6579212916246215,
          0.6579212916246215,
          0.6801210898082745,
          0.6811301715438951,
          0.6831483350151363,
          0.686175580221998,
          0.6881937436932392,
          0.6892028254288597,
          0.6912209889001009,
          0.6922300706357215,
          0.6942482341069627,
          0.7023208879919274,
          0.7043390514631686,
          0.7093844601412714,
          0.7093844601412714,
          0.7336024217961655,
          0.7336024217961655,
          0.7426841574167508,
          0.7426841574167508,
          0.7457114026236125,
          0.7457114026236125,
          0.751765893037336,
          0.7527749747729566,
          0.756811301715439,
          0.7598385469223007,
          0.7790110998990918,
          0.7790110998990918,
          0.7901109989909183,
          0.7911200807265388,
          0.7921291624621595,
          0.7941473259334006,
          0.8002018163471241,
          0.8002018163471241,
          0.8032290615539859,
          0.805247225025227,
          0.8062563067608476,
          0.8082744702320888,
          0.8113017154389506,
          0.8113017154389506,
          0.8163471241170535,
          0.8163471241170535,
          0.8213925327951564,
          0.822401614530777,
          0.8335015136226034,
          0.8355196770938446,
          0.8415741675075681,
          0.8435923309788093,
          0.8456104944500504,
          0.8476286579212916,
          0.8496468213925328,
          0.8496468213925328,
          0.8526740665993946,
          0.8546922300706358,
          0.8577194752774975,
          0.8607467204843592,
          0.8627648839556004,
          0.8647830474268415,
          0.8657921291624622,
          0.8819374369323916,
          0.8819374369323916,
          0.8829465186680121,
          0.8829465186680121,
          0.8859737638748738,
          0.8910191725529768,
          0.8950554994954592,
          0.8950554994954592,
          0.900100908173562,
          0.9021190716448032,
          0.9061553985872856,
          0.9101917255297679,
          0.9112008072653885,
          0.9132189707366297,
          0.9202825428859738,
          0.922300706357215,
          0.9233097880928355,
          0.9263370332996973,
          0.9354187689202825,
          0.9394550958627649,
          0.9505549949545913,
          0.9525731584258325,
          0.958627648839556,
          0.9606458123107972,
          0.9667003027245207,
          0.9788092835519677,
          0.9808274470232089,
          0.9808274470232089,
          0.992936427850656,
          0.9989909182643795,
          1
         ],
         "yaxis": "y"
        },
        {
         "hovertemplate": "Rate=True Positive Rate<br>Thresholds=%{x}<br>value=%{y}<extra></extra>",
         "legendgroup": "True Positive Rate",
         "line": {
          "color": "#EF553B",
          "dash": "solid"
         },
         "mode": "lines",
         "name": "True Positive Rate",
         "orientation": "v",
         "showlegend": true,
         "type": "scatter",
         "x": [
          1.9129169275411708,
          0.9129169275411708,
          0.9002786723074474,
          0.8996248700851073,
          0.8942089468580395,
          0.8937192953233705,
          0.8845359617820151,
          0.8814925329793942,
          0.8781748346453156,
          0.8740096849947643,
          0.8673582926289035,
          0.8653004831391382,
          0.8576144368030593,
          0.8574534382783573,
          0.8515689737925276,
          0.85035179510848,
          0.849535366668277,
          0.8469635380573932,
          0.8425563012467525,
          0.8389433096020485,
          0.8374551311876995,
          0.8366494258019525,
          0.8347217227487722,
          0.8332062130610375,
          0.8031189717560356,
          0.7964461331007485,
          0.7900546501936874,
          0.7782053377596154,
          0.775789516760784,
          0.7695669239083985,
          0.7471070093002197,
          0.7444193011741222,
          0.737072278601959,
          0.7367644587775252,
          0.7169248469595486,
          0.7164208756878144,
          0.71458677795196,
          0.7103442035760631,
          0.7085863366267384,
          0.7084511430206424,
          0.6883669639597025,
          0.6873376322526762,
          0.6814300879155376,
          0.6803715168004415,
          0.6768670780409795,
          0.6765880613285306,
          0.6735341620464133,
          0.6726337925278643,
          0.6719462583638868,
          0.6603598634990525,
          0.658171945890799,
          0.6574845397176529,
          0.6569436628901778,
          0.6467143342227092,
          0.6435971973650787,
          0.6382216203366006,
          0.6372383562061927,
          0.6341883537139729,
          0.6298638457412568,
          0.6293488162695716,
          0.6280485350267414,
          0.6272315674840013,
          0.6253685256027175,
          0.6197716257541923,
          0.6189818433873413,
          0.6017077381798706,
          0.6005915167894864,
          0.5980747440765926,
          0.5960106419779493,
          0.5935243636956189,
          0.5929546447747545,
          0.5919161764248758,
          0.5903079417810616,
          0.5900048892531959,
          0.589641509929332,
          0.5794220128361856,
          0.5777961122172333,
          0.5766130311704208,
          0.5729075742219507,
          0.5721661578674043,
          0.5655315326158422,
          0.5652460973798,
          0.5581545388953617,
          0.5549543091887736,
          0.5549073625124976,
          0.5548830739814732,
          0.5527945813847945,
          0.5523186563369202,
          0.5474707376396843,
          0.5462939424811406,
          0.545364744347522,
          0.5382826526899552,
          0.5378530064816698,
          0.5356725423409628,
          0.5318336225503053,
          0.5301283434260821,
          0.529531447067686,
          0.5234872559472938,
          0.5220854975538932,
          0.5214677383730485,
          0.5196574157521664,
          0.5174296402313151,
          0.5053134482695405,
          0.5000669114933436,
          0.4978870473285395,
          0.49681183872336393,
          0.49156622921728566,
          0.4904351704163103,
          0.48927548368263907,
          0.487388730370599,
          0.48460652231443585,
          0.48326007141405647,
          0.47741434212774214,
          0.476856689288274,
          0.4756117452952778,
          0.47303644750282625,
          0.4700618098548802,
          0.46735605060995683,
          0.46684560879974485,
          0.4636738228451951,
          0.46296358967588824,
          0.46187030185038835,
          0.46082982041598197,
          0.46066857723299054,
          0.455830528024475,
          0.4544196465748158,
          0.447331110152755,
          0.4464831778243738,
          0.44488866838825225,
          0.44460050051975275,
          0.4426621143043018,
          0.43788468752101145,
          0.4360645542424624,
          0.4337934149376393,
          0.4334581938822745,
          0.4331369968080365,
          0.4287284587968592,
          0.42825882771990187,
          0.4258339399435711,
          0.424651377661919,
          0.42437991408291986,
          0.4231847295047286,
          0.42034335435294307,
          0.4178724630850115,
          0.4177925946300197,
          0.4174303299872087,
          0.41701366338100676,
          0.4164267117654808,
          0.41469751565351576,
          0.41283150187724965,
          0.41233295719254565,
          0.41037740676371176,
          0.40545902989163113,
          0.40509894952682285,
          0.4050148694428711,
          0.40360239712474955,
          0.4034068204928255,
          0.4015705809928844,
          0.4004512185650226,
          0.39877952764113456,
          0.3987575075418053,
          0.3978073655678952,
          0.39754824922364096,
          0.3945940393053042,
          0.3928602932977726,
          0.38687570321470377,
          0.3826320945031679,
          0.38218996722187065,
          0.3801444887840367,
          0.37981043849351215,
          0.3782302754669255,
          0.37715369758531336,
          0.3771109832892613,
          0.37668806419920553,
          0.3764460271992375,
          0.375354747832137,
          0.36997733405580174,
          0.36832288017061965,
          0.3677022682132772,
          0.36507261785787265,
          0.3645653260071242,
          0.3642479478789614,
          0.363704754472184,
          0.36356241005649853,
          0.36350853342497236,
          0.3632849821523357,
          0.362529465801498,
          0.3624229754960347,
          0.36178930565058887,
          0.35625214738850935,
          0.3539492344342983,
          0.3538293265127147,
          0.3528693118566077,
          0.34726564496943757,
          0.3458010193187515,
          0.34548564447577507,
          0.3450683076875443,
          0.3437231109767034,
          0.3423408687599562,
          0.34215369721877614,
          0.3405544738691647,
          0.340371868704224,
          0.33950564473927675,
          0.33512652884021116,
          0.33495345285104544,
          0.3347253710917304,
          0.3345254891456706,
          0.33318539242328193,
          0.3317074563348617,
          0.3289451033411403,
          0.3289443007578164,
          0.32835258868947265,
          0.32827950181264487,
          0.328144438441206,
          0.3239704793799244,
          0.3231176246782611,
          0.3227141682864981,
          0.3213453710127944,
          0.3212312455586273,
          0.31887603363602685,
          0.318361425410766,
          0.3164370836639493,
          0.3142320185675976,
          0.3139866844468464,
          0.3124290617876158,
          0.3112140704304791,
          0.31084205871528964,
          0.3097339688395251,
          0.30829525761181903,
          0.3041737926699024,
          0.30204104551169436,
          0.29957535167454935,
          0.2991762581106903,
          0.29903807801726695,
          0.2987613979718787,
          0.2979976269392775,
          0.296620857685054,
          0.2963984756104137,
          0.2957800853654392,
          0.2953309587454707,
          0.29490302244194677,
          0.29458932831926676,
          0.29448767769982737,
          0.29209716760722504,
          0.2900048238715774,
          0.2890840978748063,
          0.2885870399872628,
          0.2866499356103482,
          0.28310592446598026,
          0.2822509555048522,
          0.2821446942707255,
          0.27988260842630736,
          0.2797692101067514,
          0.27891527216213674,
          0.2788796254670298,
          0.2784719466957456,
          0.2758367219256594,
          0.27578966903965635,
          0.27547230316854787,
          0.27336245022500805,
          0.27298791651220133,
          0.2707376535003848,
          0.2687374335538031,
          0.26565377549436897,
          0.2641955817510559,
          0.2633998597124259,
          0.26316557206152524,
          0.260051368889296,
          0.25948953378029266,
          0.25876247948536024,
          0.2586556163422019,
          0.2574907327000266,
          0.2567618184318459,
          0.2554505630166594,
          0.25459239737693623,
          0.25392099274695895,
          0.2536481405328158,
          0.2534828324030007,
          0.2517857161574971,
          0.25110176193380845,
          0.24994337876328723,
          0.249217293658069,
          0.24783224298748252,
          0.2476193602023609,
          0.24336582505998022,
          0.24334598469440005,
          0.24185503190909613,
          0.24167403838975124,
          0.23296159900804797,
          0.23189651612894485,
          0.2301490735263373,
          0.2292236246157442,
          0.22730405361410794,
          0.2264974955650822,
          0.2202019448128793,
          0.2200240339307439,
          0.2177808501758476,
          0.21730224511639729,
          0.21520976406889453,
          0.2142644699014337,
          0.21415616090996956,
          0.21379481408653156,
          0.21308221864707635,
          0.21061759176026945,
          0.2100982621680421,
          0.20984367937031007,
          0.2000142051084437,
          0.19998808483836517,
          0.19903282468773817,
          0.19868174726087792,
          0.19770997598094517,
          0.19694868147292957,
          0.19090867206763515,
          0.1903000954383429,
          0.18921110028286756,
          0.1891156980486907,
          0.18909341782676067,
          0.1889648315929467,
          0.1887636195490261,
          0.18818004031808933,
          0.18035272197270857,
          0.1801812685651415,
          0.1791335646780807,
          0.1789726487959541,
          0.17553843053597767,
          0.17549067362007187,
          0.17473938058142366,
          0.17455012606280182,
          0.17363324174286607,
          0.17313160450666948,
          0.16730807435553738,
          0.16729337395763072,
          0.1644588688769528,
          0.16357653262674296,
          0.16297985165995962,
          0.16282406373308372,
          0.16199225265981532,
          0.16193759466565197,
          0.16021642155955937,
          0.15981088130402005,
          0.15938822202546243,
          0.15935181247174243,
          0.159136542170946,
          0.15907011131985505,
          0.15854398936966801,
          0.1576530529131773,
          0.15432711667256802,
          0.1541124050479732,
          0.14714536008663262,
          0.1469407226165135,
          0.14577740314291543,
          0.14564399193713362,
          0.14310515714578112,
          0.1430916357469399,
          0.14217258032064137,
          0.14150892633894957,
          0.1393819510655264,
          0.13926675778517003,
          0.13892615211201445,
          0.13649182317135075,
          0.13626747285479748,
          0.13579861157647496,
          0.13531732643753086,
          0.135185979312494,
          0.13383091583948392,
          0.13344413941403596,
          0.13232223609690033,
          0.13137810332092142,
          0.13080445248289804,
          0.13071831907135617,
          0.13070632399860999,
          0.130576395735378,
          0.13041677147208391,
          0.12969250287573403,
          0.12815829183228744,
          0.12809762428377108,
          0.12666852562220518,
          0.12645825771655067,
          0.12589430189505535,
          0.1253787758434647,
          0.12407295998143208,
          0.12371582396250234,
          0.11917141722243652,
          0.11821497869363115,
          0.11539401130464529,
          0.11497938514178156,
          0.11254814404620198,
          0.1123558552892672,
          0.11226536642519254,
          0.11063535400847722,
          0.11048593847936711,
          0.11006206992611858,
          0.10991507509548026,
          0.10959087453578992,
          0.10940866736468788,
          0.1031943077702575,
          0.10305445282273898,
          0.10299646257336781,
          0.10250857078303152,
          0.10245354840053733,
          0.10241430550958756,
          0.10209575132096295,
          0.10193639730340445,
          0.10144268929542785,
          0.10069188753337066,
          0.10068138347642196,
          0.10017885079130419,
          0.09998647583040168,
          0.0959097034304246,
          0.09582769492331586,
          0.0938312891058373,
          0.09378645145423659,
          0.09291884206460818,
          0.09271937786109107,
          0.09144225274332295,
          0.09138669051986976,
          0.09058188238523979,
          0.09050543990526619,
          0.08566916779120796,
          0.0852737160386416,
          0.08225374050367906,
          0.08224722312230291,
          0.08191259615264485,
          0.08123682564570013,
          0.08078657037372228,
          0.08070781592262916,
          0.08037163400859126,
          0.08020735616261998,
          0.08006597658416409,
          0.07996180182052287,
          0.07927178111261453,
          0.078117149757608,
          0.07722205819464799,
          0.0770873829680457,
          0.0766802490151663,
          0.07635530930250266,
          0.07367665553908911,
          0.07364382596574685,
          0.07300777233202803,
          0.07273074427766321,
          0.07216207079899836,
          0.07180064374056606,
          0.07170075715971816,
          0.07167946300506513,
          0.0713638885312877,
          0.0713524625688459,
          0.07100375888481157,
          0.07083510236264809,
          0.07064938225909098,
          0.07061885345387911,
          0.07012093262817293,
          0.0669192069951399,
          0.06689940485886463,
          0.06683699887425432,
          0.06622245108588928,
          0.06494784450933734,
          0.06476976541762534,
          0.06410415872143935,
          0.06407529951073397,
          0.06349510441167522,
          0.063272751120285,
          0.06293501676025968,
          0.06226056962716184,
          0.06222085377633952,
          0.061974229179326205,
          0.06111130069044774,
          0.06100806367785747,
          0.06064924398051859,
          0.0606064291236502,
          0.05801449017912026,
          0.05787928337652232,
          0.05612762503693122,
          0.055770337438372584,
          0.05278613523055019,
          0.052700467736462836,
          0.05138971478053083,
          0.050247936385845626,
          0.04920370199669793,
          0.04909985767636612,
          0.03901150623446682,
          0.035350290255416535,
          0.03148421400745692
         ],
         "xaxis": "x",
         "y": [
          0,
          0.002336448598130841,
          0.007009345794392523,
          0.007009345794392523,
          0.009345794392523364,
          0.014018691588785047,
          0.016355140186915886,
          0.02336448598130841,
          0.02570093457943925,
          0.02570093457943925,
          0.030373831775700934,
          0.0397196261682243,
          0.04205607476635514,
          0.04205607476635514,
          0.04906542056074766,
          0.05841121495327103,
          0.0630841121495327,
          0.06542056074766354,
          0.06775700934579439,
          0.06775700934579439,
          0.07242990654205607,
          0.07710280373831775,
          0.08411214953271028,
          0.08878504672897196,
          0.10981308411214953,
          0.11682242990654206,
          0.11682242990654206,
          0.1308411214953271,
          0.13551401869158877,
          0.13551401869158877,
          0.15186915887850466,
          0.15186915887850466,
          0.15654205607476634,
          0.15654205607476634,
          0.17990654205607476,
          0.17990654205607476,
          0.18691588785046728,
          0.18691588785046728,
          0.18925233644859812,
          0.18925233644859812,
          0.2102803738317757,
          0.2102803738317757,
          0.21495327102803738,
          0.21495327102803738,
          0.2219626168224299,
          0.2219626168224299,
          0.22429906542056074,
          0.22429906542056074,
          0.22897196261682243,
          0.25,
          0.25,
          0.2523364485981308,
          0.2523364485981308,
          0.26401869158878505,
          0.26401869158878505,
          0.2733644859813084,
          0.2733644859813084,
          0.2780373831775701,
          0.2780373831775701,
          0.2803738317757009,
          0.2803738317757009,
          0.2827102803738318,
          0.2827102803738318,
          0.2897196261682243,
          0.2897196261682243,
          0.3177570093457944,
          0.3177570093457944,
          0.32009345794392524,
          0.32009345794392524,
          0.32710280373831774,
          0.3317757009345794,
          0.3341121495327103,
          0.3341121495327103,
          0.3364485981308411,
          0.3364485981308411,
          0.35514018691588783,
          0.35514018691588783,
          0.3621495327102804,
          0.3621495327102804,
          0.36682242990654207,
          0.36682242990654207,
          0.3691588785046729,
          0.3691588785046729,
          0.37383177570093457,
          0.37383177570093457,
          0.37616822429906543,
          0.37616822429906543,
          0.37850467289719625,
          0.37850467289719625,
          0.38317757009345793,
          0.38317757009345793,
          0.39485981308411217,
          0.39485981308411217,
          0.39953271028037385,
          0.39953271028037385,
          0.4088785046728972,
          0.4088785046728972,
          0.4182242990654206,
          0.4182242990654206,
          0.4205607476635514,
          0.4205607476635514,
          0.42289719626168226,
          0.42289719626168226,
          0.43457943925233644,
          0.43457943925233644,
          0.4392523364485981,
          0.4392523364485981,
          0.4439252336448598,
          0.4439252336448598,
          0.45093457943925236,
          0.45093457943925236,
          0.45560747663551404,
          0.45560747663551404,
          0.45794392523364486,
          0.45794392523364486,
          0.46261682242990654,
          0.46261682242990654,
          0.4649532710280374,
          0.4649532710280374,
          0.4696261682242991,
          0.4696261682242991,
          0.4742990654205608,
          0.4742990654205608,
          0.4766355140186916,
          0.4766355140186916,
          0.48130841121495327,
          0.48130841121495327,
          0.48364485981308414,
          0.48364485981308414,
          0.48598130841121495,
          0.48598130841121495,
          0.4929906542056075,
          0.4929906542056075,
          0.5,
          0.5,
          0.5023364485981309,
          0.5023364485981309,
          0.5046728971962616,
          0.5046728971962616,
          0.5070093457943925,
          0.5070093457943925,
          0.5116822429906542,
          0.5116822429906542,
          0.5210280373831776,
          0.5210280373831776,
          0.5233644859813084,
          0.5233644859813084,
          0.5257009345794392,
          0.5257009345794392,
          0.5280373831775701,
          0.5280373831775701,
          0.5350467289719626,
          0.5350467289719626,
          0.5373831775700935,
          0.5373831775700935,
          0.544392523364486,
          0.5490654205607477,
          0.5490654205607477,
          0.5560747663551402,
          0.5560747663551402,
          0.5584112149532711,
          0.5584112149532711,
          0.5607476635514018,
          0.5607476635514018,
          0.5630841121495327,
          0.5630841121495327,
          0.5747663551401869,
          0.5747663551401869,
          0.5817757009345794,
          0.5817757009345794,
          0.5841121495327103,
          0.5841121495327103,
          0.5864485981308412,
          0.5864485981308412,
          0.5887850467289719,
          0.5887850467289719,
          0.6004672897196262,
          0.6004672897196262,
          0.602803738317757,
          0.602803738317757,
          0.6051401869158879,
          0.6051401869158879,
          0.6074766355140186,
          0.6074766355140186,
          0.6098130841121495,
          0.6098130841121495,
          0.6144859813084113,
          0.6144859813084113,
          0.616822429906542,
          0.616822429906542,
          0.6261682242990654,
          0.6261682242990654,
          0.6285046728971962,
          0.6285046728971962,
          0.633177570093458,
          0.633177570093458,
          0.6355140186915887,
          0.6355140186915887,
          0.6425233644859814,
          0.6425233644859814,
          0.6495327102803738,
          0.6495327102803738,
          0.6542056074766355,
          0.6542056074766355,
          0.6565420560747663,
          0.6565420560747663,
          0.6635514018691588,
          0.6635514018691588,
          0.6705607476635514,
          0.6705607476635514,
          0.6728971962616822,
          0.6728971962616822,
          0.6752336448598131,
          0.6752336448598131,
          0.6845794392523364,
          0.6845794392523364,
          0.6869158878504673,
          0.6869158878504673,
          0.6892523364485982,
          0.6892523364485982,
          0.6915887850467289,
          0.6915887850467289,
          0.6962616822429907,
          0.6962616822429907,
          0.7009345794392523,
          0.7009345794392523,
          0.7032710280373832,
          0.7032710280373832,
          0.7102803738317757,
          0.7102803738317757,
          0.7149532710280374,
          0.7149532710280374,
          0.7172897196261683,
          0.7172897196261683,
          0.719626168224299,
          0.719626168224299,
          0.7266355140186916,
          0.7266355140186916,
          0.7289719626168224,
          0.7289719626168224,
          0.7313084112149533,
          0.7313084112149533,
          0.7336448598130841,
          0.7336448598130841,
          0.7406542056074766,
          0.7406542056074766,
          0.7429906542056075,
          0.7429906542056075,
          0.7476635514018691,
          0.7476635514018691,
          0.75,
          0.75,
          0.7523364485981309,
          0.7523364485981309,
          0.7546728971962616,
          0.7546728971962616,
          0.7570093457943925,
          0.7570093457943925,
          0.7593457943925234,
          0.7593457943925234,
          0.764018691588785,
          0.764018691588785,
          0.7710280373831776,
          0.7710280373831776,
          0.7733644859813084,
          0.7733644859813084,
          0.7757009345794392,
          0.7757009345794392,
          0.780373831775701,
          0.780373831775701,
          0.7827102803738317,
          0.7827102803738317,
          0.7850467289719626,
          0.7850467289719626,
          0.7897196261682243,
          0.7897196261682243,
          0.794392523364486,
          0.7967289719626168,
          0.7967289719626168,
          0.8014018691588785,
          0.8014018691588785,
          0.8060747663551402,
          0.8060747663551402,
          0.8084112149532711,
          0.8084112149532711,
          0.8107476635514018,
          0.8107476635514018,
          0.8130841121495327,
          0.8130841121495327,
          0.8154205607476636,
          0.8154205607476636,
          0.8200934579439252,
          0.8200934579439252,
          0.8200934579439252,
          0.8200934579439252,
          0.822429906542056,
          0.822429906542056,
          0.8247663551401869,
          0.8247663551401869,
          0.8271028037383178,
          0.8271028037383178,
          0.8294392523364486,
          0.8294392523364486,
          0.8341121495327103,
          0.8341121495327103,
          0.8364485981308412,
          0.8364485981308412,
          0.8387850467289719,
          0.8387850467289719,
          0.8411214953271028,
          0.8411214953271028,
          0.8481308411214953,
          0.8481308411214953,
          0.8504672897196262,
          0.8504672897196262,
          0.852803738317757,
          0.852803738317757,
          0.8551401869158879,
          0.8551401869158879,
          0.8598130841121495,
          0.8598130841121495,
          0.8621495327102804,
          0.8621495327102804,
          0.8644859813084113,
          0.8644859813084113,
          0.866822429906542,
          0.866822429906542,
          0.8691588785046729,
          0.8691588785046729,
          0.8714953271028038,
          0.8714953271028038,
          0.8738317757009346,
          0.8738317757009346,
          0.8761682242990654,
          0.8761682242990654,
          0.8785046728971962,
          0.8785046728971962,
          0.8808411214953271,
          0.8808411214953271,
          0.8878504672897196,
          0.8878504672897196,
          0.8901869158878505,
          0.8901869158878505,
          0.8901869158878505,
          0.8901869158878505,
          0.8925233644859814,
          0.8925233644859814,
          0.8948598130841121,
          0.8948598130841121,
          0.897196261682243,
          0.897196261682243,
          0.8995327102803738,
          0.8995327102803738,
          0.9018691588785047,
          0.9018691588785047,
          0.9088785046728972,
          0.9088785046728972,
          0.9088785046728972,
          0.9112149532710281,
          0.9112149532710281,
          0.9135514018691588,
          0.9158878504672897,
          0.9158878504672897,
          0.9182242990654206,
          0.9182242990654206,
          0.9205607476635514,
          0.9205607476635514,
          0.9228971962616822,
          0.9228971962616822,
          0.9252336448598131,
          0.9252336448598131,
          0.927570093457944,
          0.927570093457944,
          0.9322429906542056,
          0.9322429906542056,
          0.9345794392523364,
          0.9345794392523364,
          0.9369158878504673,
          0.9369158878504673,
          0.9392523364485982,
          0.9392523364485982,
          0.9392523364485982,
          0.9392523364485982,
          0.9415887850467289,
          0.9415887850467289,
          0.9415887850467289,
          0.9415887850467289,
          0.9462616822429907,
          0.9462616822429907,
          0.9462616822429907,
          0.9485981308411215,
          0.9485981308411215,
          0.9509345794392523,
          0.9509345794392523,
          0.9532710280373832,
          0.9532710280373832,
          0.955607476635514,
          0.955607476635514,
          0.955607476635514,
          0.955607476635514,
          0.955607476635514,
          0.955607476635514,
          0.955607476635514,
          0.955607476635514,
          0.955607476635514,
          0.955607476635514,
          0.955607476635514,
          0.9579439252336449,
          0.9579439252336449,
          0.9602803738317757,
          0.9602803738317757,
          0.9626168224299065,
          0.9626168224299065,
          0.9649532710280374,
          0.9649532710280374,
          0.9672897196261683,
          0.9672897196261683,
          0.9672897196261683,
          0.9672897196261683,
          0.969626168224299,
          0.969626168224299,
          0.9719626168224299,
          0.9719626168224299,
          0.9719626168224299,
          0.9719626168224299,
          0.9742990654205608,
          0.9742990654205608,
          0.9742990654205608,
          0.9742990654205608,
          0.9742990654205608,
          0.9742990654205608,
          0.9766355140186916,
          0.9766355140186916,
          0.9789719626168224,
          0.9789719626168224,
          0.9813084112149533,
          0.9813084112149533,
          0.9813084112149533,
          0.9813084112149533,
          0.9813084112149533,
          0.9813084112149533,
          0.9813084112149533,
          0.9813084112149533,
          0.9836448598130841,
          0.9836448598130841,
          0.9836448598130841,
          0.9836448598130841,
          0.9836448598130841,
          0.9836448598130841,
          0.9836448598130841,
          0.985981308411215,
          0.985981308411215,
          0.9883177570093458,
          0.9883177570093458,
          0.9906542056074766,
          0.9906542056074766,
          0.9929906542056075,
          0.9929906542056075,
          0.9953271028037384,
          0.9953271028037384,
          0.9953271028037384,
          0.9953271028037384,
          0.9953271028037384,
          0.9953271028037384,
          0.9953271028037384,
          0.9953271028037384,
          0.9953271028037384,
          0.9953271028037384,
          0.9953271028037384,
          0.9953271028037384,
          0.9953271028037384,
          0.9953271028037384,
          0.9953271028037384,
          0.9953271028037384,
          0.9953271028037384,
          0.9953271028037384,
          0.9976635514018691,
          0.9976635514018691,
          1,
          1,
          1,
          1
         ],
         "yaxis": "y"
        }
       ],
       "layout": {
        "height": 500,
        "legend": {
         "title": {
          "text": "Rate"
         },
         "tracegroupgap": 0
        },
        "template": {
         "data": {
          "bar": [
           {
            "error_x": {
             "color": "#2a3f5f"
            },
            "error_y": {
             "color": "#2a3f5f"
            },
            "marker": {
             "line": {
              "color": "#E5ECF6",
              "width": 0.5
             }
            },
            "type": "bar"
           }
          ],
          "barpolar": [
           {
            "marker": {
             "line": {
              "color": "#E5ECF6",
              "width": 0.5
             }
            },
            "type": "barpolar"
           }
          ],
          "carpet": [
           {
            "aaxis": {
             "endlinecolor": "#2a3f5f",
             "gridcolor": "white",
             "linecolor": "white",
             "minorgridcolor": "white",
             "startlinecolor": "#2a3f5f"
            },
            "baxis": {
             "endlinecolor": "#2a3f5f",
             "gridcolor": "white",
             "linecolor": "white",
             "minorgridcolor": "white",
             "startlinecolor": "#2a3f5f"
            },
            "type": "carpet"
           }
          ],
          "choropleth": [
           {
            "colorbar": {
             "outlinewidth": 0,
             "ticks": ""
            },
            "type": "choropleth"
           }
          ],
          "contour": [
           {
            "colorbar": {
             "outlinewidth": 0,
             "ticks": ""
            },
            "colorscale": [
             [
              0,
              "#0d0887"
             ],
             [
              0.1111111111111111,
              "#46039f"
             ],
             [
              0.2222222222222222,
              "#7201a8"
             ],
             [
              0.3333333333333333,
              "#9c179e"
             ],
             [
              0.4444444444444444,
              "#bd3786"
             ],
             [
              0.5555555555555556,
              "#d8576b"
             ],
             [
              0.6666666666666666,
              "#ed7953"
             ],
             [
              0.7777777777777778,
              "#fb9f3a"
             ],
             [
              0.8888888888888888,
              "#fdca26"
             ],
             [
              1,
              "#f0f921"
             ]
            ],
            "type": "contour"
           }
          ],
          "contourcarpet": [
           {
            "colorbar": {
             "outlinewidth": 0,
             "ticks": ""
            },
            "type": "contourcarpet"
           }
          ],
          "heatmap": [
           {
            "colorbar": {
             "outlinewidth": 0,
             "ticks": ""
            },
            "colorscale": [
             [
              0,
              "#0d0887"
             ],
             [
              0.1111111111111111,
              "#46039f"
             ],
             [
              0.2222222222222222,
              "#7201a8"
             ],
             [
              0.3333333333333333,
              "#9c179e"
             ],
             [
              0.4444444444444444,
              "#bd3786"
             ],
             [
              0.5555555555555556,
              "#d8576b"
             ],
             [
              0.6666666666666666,
              "#ed7953"
             ],
             [
              0.7777777777777778,
              "#fb9f3a"
             ],
             [
              0.8888888888888888,
              "#fdca26"
             ],
             [
              1,
              "#f0f921"
             ]
            ],
            "type": "heatmap"
           }
          ],
          "heatmapgl": [
           {
            "colorbar": {
             "outlinewidth": 0,
             "ticks": ""
            },
            "colorscale": [
             [
              0,
              "#0d0887"
             ],
             [
              0.1111111111111111,
              "#46039f"
             ],
             [
              0.2222222222222222,
              "#7201a8"
             ],
             [
              0.3333333333333333,
              "#9c179e"
             ],
             [
              0.4444444444444444,
              "#bd3786"
             ],
             [
              0.5555555555555556,
              "#d8576b"
             ],
             [
              0.6666666666666666,
              "#ed7953"
             ],
             [
              0.7777777777777778,
              "#fb9f3a"
             ],
             [
              0.8888888888888888,
              "#fdca26"
             ],
             [
              1,
              "#f0f921"
             ]
            ],
            "type": "heatmapgl"
           }
          ],
          "histogram": [
           {
            "marker": {
             "colorbar": {
              "outlinewidth": 0,
              "ticks": ""
             }
            },
            "type": "histogram"
           }
          ],
          "histogram2d": [
           {
            "colorbar": {
             "outlinewidth": 0,
             "ticks": ""
            },
            "colorscale": [
             [
              0,
              "#0d0887"
             ],
             [
              0.1111111111111111,
              "#46039f"
             ],
             [
              0.2222222222222222,
              "#7201a8"
             ],
             [
              0.3333333333333333,
              "#9c179e"
             ],
             [
              0.4444444444444444,
              "#bd3786"
             ],
             [
              0.5555555555555556,
              "#d8576b"
             ],
             [
              0.6666666666666666,
              "#ed7953"
             ],
             [
              0.7777777777777778,
              "#fb9f3a"
             ],
             [
              0.8888888888888888,
              "#fdca26"
             ],
             [
              1,
              "#f0f921"
             ]
            ],
            "type": "histogram2d"
           }
          ],
          "histogram2dcontour": [
           {
            "colorbar": {
             "outlinewidth": 0,
             "ticks": ""
            },
            "colorscale": [
             [
              0,
              "#0d0887"
             ],
             [
              0.1111111111111111,
              "#46039f"
             ],
             [
              0.2222222222222222,
              "#7201a8"
             ],
             [
              0.3333333333333333,
              "#9c179e"
             ],
             [
              0.4444444444444444,
              "#bd3786"
             ],
             [
              0.5555555555555556,
              "#d8576b"
             ],
             [
              0.6666666666666666,
              "#ed7953"
             ],
             [
              0.7777777777777778,
              "#fb9f3a"
             ],
             [
              0.8888888888888888,
              "#fdca26"
             ],
             [
              1,
              "#f0f921"
             ]
            ],
            "type": "histogram2dcontour"
           }
          ],
          "mesh3d": [
           {
            "colorbar": {
             "outlinewidth": 0,
             "ticks": ""
            },
            "type": "mesh3d"
           }
          ],
          "parcoords": [
           {
            "line": {
             "colorbar": {
              "outlinewidth": 0,
              "ticks": ""
             }
            },
            "type": "parcoords"
           }
          ],
          "pie": [
           {
            "automargin": true,
            "type": "pie"
           }
          ],
          "scatter": [
           {
            "marker": {
             "colorbar": {
              "outlinewidth": 0,
              "ticks": ""
             }
            },
            "type": "scatter"
           }
          ],
          "scatter3d": [
           {
            "line": {
             "colorbar": {
              "outlinewidth": 0,
              "ticks": ""
             }
            },
            "marker": {
             "colorbar": {
              "outlinewidth": 0,
              "ticks": ""
             }
            },
            "type": "scatter3d"
           }
          ],
          "scattercarpet": [
           {
            "marker": {
             "colorbar": {
              "outlinewidth": 0,
              "ticks": ""
             }
            },
            "type": "scattercarpet"
           }
          ],
          "scattergeo": [
           {
            "marker": {
             "colorbar": {
              "outlinewidth": 0,
              "ticks": ""
             }
            },
            "type": "scattergeo"
           }
          ],
          "scattergl": [
           {
            "marker": {
             "colorbar": {
              "outlinewidth": 0,
              "ticks": ""
             }
            },
            "type": "scattergl"
           }
          ],
          "scattermapbox": [
           {
            "marker": {
             "colorbar": {
              "outlinewidth": 0,
              "ticks": ""
             }
            },
            "type": "scattermapbox"
           }
          ],
          "scatterpolar": [
           {
            "marker": {
             "colorbar": {
              "outlinewidth": 0,
              "ticks": ""
             }
            },
            "type": "scatterpolar"
           }
          ],
          "scatterpolargl": [
           {
            "marker": {
             "colorbar": {
              "outlinewidth": 0,
              "ticks": ""
             }
            },
            "type": "scatterpolargl"
           }
          ],
          "scatterternary": [
           {
            "marker": {
             "colorbar": {
              "outlinewidth": 0,
              "ticks": ""
             }
            },
            "type": "scatterternary"
           }
          ],
          "surface": [
           {
            "colorbar": {
             "outlinewidth": 0,
             "ticks": ""
            },
            "colorscale": [
             [
              0,
              "#0d0887"
             ],
             [
              0.1111111111111111,
              "#46039f"
             ],
             [
              0.2222222222222222,
              "#7201a8"
             ],
             [
              0.3333333333333333,
              "#9c179e"
             ],
             [
              0.4444444444444444,
              "#bd3786"
             ],
             [
              0.5555555555555556,
              "#d8576b"
             ],
             [
              0.6666666666666666,
              "#ed7953"
             ],
             [
              0.7777777777777778,
              "#fb9f3a"
             ],
             [
              0.8888888888888888,
              "#fdca26"
             ],
             [
              1,
              "#f0f921"
             ]
            ],
            "type": "surface"
           }
          ],
          "table": [
           {
            "cells": {
             "fill": {
              "color": "#EBF0F8"
             },
             "line": {
              "color": "white"
             }
            },
            "header": {
             "fill": {
              "color": "#C8D4E3"
             },
             "line": {
              "color": "white"
             }
            },
            "type": "table"
           }
          ]
         },
         "layout": {
          "annotationdefaults": {
           "arrowcolor": "#2a3f5f",
           "arrowhead": 0,
           "arrowwidth": 1
          },
          "coloraxis": {
           "colorbar": {
            "outlinewidth": 0,
            "ticks": ""
           }
          },
          "colorscale": {
           "diverging": [
            [
             0,
             "#8e0152"
            ],
            [
             0.1,
             "#c51b7d"
            ],
            [
             0.2,
             "#de77ae"
            ],
            [
             0.3,
             "#f1b6da"
            ],
            [
             0.4,
             "#fde0ef"
            ],
            [
             0.5,
             "#f7f7f7"
            ],
            [
             0.6,
             "#e6f5d0"
            ],
            [
             0.7,
             "#b8e186"
            ],
            [
             0.8,
             "#7fbc41"
            ],
            [
             0.9,
             "#4d9221"
            ],
            [
             1,
             "#276419"
            ]
           ],
           "sequential": [
            [
             0,
             "#0d0887"
            ],
            [
             0.1111111111111111,
             "#46039f"
            ],
            [
             0.2222222222222222,
             "#7201a8"
            ],
            [
             0.3333333333333333,
             "#9c179e"
            ],
            [
             0.4444444444444444,
             "#bd3786"
            ],
            [
             0.5555555555555556,
             "#d8576b"
            ],
            [
             0.6666666666666666,
             "#ed7953"
            ],
            [
             0.7777777777777778,
             "#fb9f3a"
            ],
            [
             0.8888888888888888,
             "#fdca26"
            ],
            [
             1,
             "#f0f921"
            ]
           ],
           "sequentialminus": [
            [
             0,
             "#0d0887"
            ],
            [
             0.1111111111111111,
             "#46039f"
            ],
            [
             0.2222222222222222,
             "#7201a8"
            ],
            [
             0.3333333333333333,
             "#9c179e"
            ],
            [
             0.4444444444444444,
             "#bd3786"
            ],
            [
             0.5555555555555556,
             "#d8576b"
            ],
            [
             0.6666666666666666,
             "#ed7953"
            ],
            [
             0.7777777777777778,
             "#fb9f3a"
            ],
            [
             0.8888888888888888,
             "#fdca26"
            ],
            [
             1,
             "#f0f921"
            ]
           ]
          },
          "colorway": [
           "#636efa",
           "#EF553B",
           "#00cc96",
           "#ab63fa",
           "#FFA15A",
           "#19d3f3",
           "#FF6692",
           "#B6E880",
           "#FF97FF",
           "#FECB52"
          ],
          "font": {
           "color": "#2a3f5f"
          },
          "geo": {
           "bgcolor": "white",
           "lakecolor": "white",
           "landcolor": "#E5ECF6",
           "showlakes": true,
           "showland": true,
           "subunitcolor": "white"
          },
          "hoverlabel": {
           "align": "left"
          },
          "hovermode": "closest",
          "mapbox": {
           "style": "light"
          },
          "paper_bgcolor": "white",
          "plot_bgcolor": "#E5ECF6",
          "polar": {
           "angularaxis": {
            "gridcolor": "white",
            "linecolor": "white",
            "ticks": ""
           },
           "bgcolor": "#E5ECF6",
           "radialaxis": {
            "gridcolor": "white",
            "linecolor": "white",
            "ticks": ""
           }
          },
          "scene": {
           "xaxis": {
            "backgroundcolor": "#E5ECF6",
            "gridcolor": "white",
            "gridwidth": 2,
            "linecolor": "white",
            "showbackground": true,
            "ticks": "",
            "zerolinecolor": "white"
           },
           "yaxis": {
            "backgroundcolor": "#E5ECF6",
            "gridcolor": "white",
            "gridwidth": 2,
            "linecolor": "white",
            "showbackground": true,
            "ticks": "",
            "zerolinecolor": "white"
           },
           "zaxis": {
            "backgroundcolor": "#E5ECF6",
            "gridcolor": "white",
            "gridwidth": 2,
            "linecolor": "white",
            "showbackground": true,
            "ticks": "",
            "zerolinecolor": "white"
           }
          },
          "shapedefaults": {
           "line": {
            "color": "#2a3f5f"
           }
          },
          "ternary": {
           "aaxis": {
            "gridcolor": "white",
            "linecolor": "white",
            "ticks": ""
           },
           "baxis": {
            "gridcolor": "white",
            "linecolor": "white",
            "ticks": ""
           },
           "bgcolor": "#E5ECF6",
           "caxis": {
            "gridcolor": "white",
            "linecolor": "white",
            "ticks": ""
           }
          },
          "title": {
           "x": 0.05
          },
          "xaxis": {
           "automargin": true,
           "gridcolor": "white",
           "linecolor": "white",
           "ticks": "",
           "title": {
            "standoff": 15
           },
           "zerolinecolor": "white",
           "zerolinewidth": 2
          },
          "yaxis": {
           "automargin": true,
           "gridcolor": "white",
           "linecolor": "white",
           "ticks": "",
           "title": {
            "standoff": 15
           },
           "zerolinecolor": "white",
           "zerolinewidth": 2
          }
         }
        },
        "title": {
         "text": "TPR and FPR at every threshold"
        },
        "width": 500,
        "xaxis": {
         "anchor": "y",
         "constrain": "domain",
         "domain": [
          0,
          1
         ],
         "range": [
          0,
          1
         ],
         "title": {
          "text": "Thresholds"
         }
        },
        "yaxis": {
         "anchor": "x",
         "domain": [
          0,
          1
         ],
         "scaleanchor": "x",
         "scaleratio": 1,
         "title": {
          "text": "value"
         }
        }
       }
      },
      "text/html": [
       "<div>\n",
       "        \n",
       "        \n",
       "            <div id=\"f233608a-ce78-4556-9e6d-f64c12ce30e3\" class=\"plotly-graph-div\" style=\"height:500px; width:500px;\"></div>\n",
       "            <script type=\"text/javascript\">\n",
       "                require([\"plotly\"], function(Plotly) {\n",
       "                    window.PLOTLYENV=window.PLOTLYENV || {};\n",
       "                    \n",
       "                if (document.getElementById(\"f233608a-ce78-4556-9e6d-f64c12ce30e3\")) {\n",
       "                    Plotly.newPlot(\n",
       "                        'f233608a-ce78-4556-9e6d-f64c12ce30e3',\n",
       "                        [{\"hovertemplate\": \"Rate=False Positive Rate<br>Thresholds=%{x}<br>value=%{y}<extra></extra>\", \"legendgroup\": \"False Positive Rate\", \"line\": {\"color\": \"#636efa\", \"dash\": \"solid\"}, \"mode\": \"lines\", \"name\": \"False Positive Rate\", \"orientation\": \"v\", \"showlegend\": true, \"type\": \"scatter\", \"x\": [1.9129169275411708, 0.9129169275411708, 0.9002786723074474, 0.8996248700851073, 0.8942089468580395, 0.8937192953233705, 0.8845359617820151, 0.8814925329793942, 0.8781748346453156, 0.8740096849947643, 0.8673582926289035, 0.8653004831391382, 0.8576144368030593, 0.8574534382783573, 0.8515689737925276, 0.85035179510848, 0.849535366668277, 0.8469635380573932, 0.8425563012467525, 0.8389433096020485, 0.8374551311876995, 0.8366494258019525, 0.8347217227487722, 0.8332062130610375, 0.8031189717560356, 0.7964461331007485, 0.7900546501936874, 0.7782053377596154, 0.775789516760784, 0.7695669239083985, 0.7471070093002197, 0.7444193011741222, 0.737072278601959, 0.7367644587775252, 0.7169248469595486, 0.7164208756878144, 0.71458677795196, 0.7103442035760631, 0.7085863366267384, 0.7084511430206424, 0.6883669639597025, 0.6873376322526762, 0.6814300879155376, 0.6803715168004415, 0.6768670780409795, 0.6765880613285306, 0.6735341620464133, 0.6726337925278643, 0.6719462583638868, 0.6603598634990525, 0.658171945890799, 0.6574845397176529, 0.6569436628901778, 0.6467143342227092, 0.6435971973650787, 0.6382216203366006, 0.6372383562061927, 0.6341883537139729, 0.6298638457412568, 0.6293488162695716, 0.6280485350267414, 0.6272315674840013, 0.6253685256027175, 0.6197716257541923, 0.6189818433873413, 0.6017077381798706, 0.6005915167894864, 0.5980747440765926, 0.5960106419779493, 0.5935243636956189, 0.5929546447747545, 0.5919161764248758, 0.5903079417810616, 0.5900048892531959, 0.589641509929332, 0.5794220128361856, 0.5777961122172333, 0.5766130311704208, 0.5729075742219507, 0.5721661578674043, 0.5655315326158422, 0.5652460973798, 0.5581545388953617, 0.5549543091887736, 0.5549073625124976, 0.5548830739814732, 0.5527945813847945, 0.5523186563369202, 0.5474707376396843, 0.5462939424811406, 0.545364744347522, 0.5382826526899552, 0.5378530064816698, 0.5356725423409628, 0.5318336225503053, 0.5301283434260821, 0.529531447067686, 0.5234872559472938, 0.5220854975538932, 0.5214677383730485, 0.5196574157521664, 0.5174296402313151, 0.5053134482695405, 0.5000669114933436, 0.4978870473285395, 0.49681183872336393, 0.49156622921728566, 0.4904351704163103, 0.48927548368263907, 0.487388730370599, 0.48460652231443585, 0.48326007141405647, 0.47741434212774214, 0.476856689288274, 0.4756117452952778, 0.47303644750282625, 0.4700618098548802, 0.46735605060995683, 0.46684560879974485, 0.4636738228451951, 0.46296358967588824, 0.46187030185038835, 0.46082982041598197, 0.46066857723299054, 0.455830528024475, 0.4544196465748158, 0.447331110152755, 0.4464831778243738, 0.44488866838825225, 0.44460050051975275, 0.4426621143043018, 0.43788468752101145, 0.4360645542424624, 0.4337934149376393, 0.4334581938822745, 0.4331369968080365, 0.4287284587968592, 0.42825882771990187, 0.4258339399435711, 0.424651377661919, 0.42437991408291986, 0.4231847295047286, 0.42034335435294307, 0.4178724630850115, 0.4177925946300197, 0.4174303299872087, 0.41701366338100676, 0.4164267117654808, 0.41469751565351576, 0.41283150187724965, 0.41233295719254565, 0.41037740676371176, 0.40545902989163113, 0.40509894952682285, 0.4050148694428711, 0.40360239712474955, 0.4034068204928255, 0.4015705809928844, 0.4004512185650226, 0.39877952764113456, 0.3987575075418053, 0.3978073655678952, 0.39754824922364096, 0.3945940393053042, 0.3928602932977726, 0.38687570321470377, 0.3826320945031679, 0.38218996722187065, 0.3801444887840367, 0.37981043849351215, 0.3782302754669255, 0.37715369758531336, 0.3771109832892613, 0.37668806419920553, 0.3764460271992375, 0.375354747832137, 0.36997733405580174, 0.36832288017061965, 0.3677022682132772, 0.36507261785787265, 0.3645653260071242, 0.3642479478789614, 0.363704754472184, 0.36356241005649853, 0.36350853342497236, 0.3632849821523357, 0.362529465801498, 0.3624229754960347, 0.36178930565058887, 0.35625214738850935, 0.3539492344342983, 0.3538293265127147, 0.3528693118566077, 0.34726564496943757, 0.3458010193187515, 0.34548564447577507, 0.3450683076875443, 0.3437231109767034, 0.3423408687599562, 0.34215369721877614, 0.3405544738691647, 0.340371868704224, 0.33950564473927675, 0.33512652884021116, 0.33495345285104544, 0.3347253710917304, 0.3345254891456706, 0.33318539242328193, 0.3317074563348617, 0.3289451033411403, 0.3289443007578164, 0.32835258868947265, 0.32827950181264487, 0.328144438441206, 0.3239704793799244, 0.3231176246782611, 0.3227141682864981, 0.3213453710127944, 0.3212312455586273, 0.31887603363602685, 0.318361425410766, 0.3164370836639493, 0.3142320185675976, 0.3139866844468464, 0.3124290617876158, 0.3112140704304791, 0.31084205871528964, 0.3097339688395251, 0.30829525761181903, 0.3041737926699024, 0.30204104551169436, 0.29957535167454935, 0.2991762581106903, 0.29903807801726695, 0.2987613979718787, 0.2979976269392775, 0.296620857685054, 0.2963984756104137, 0.2957800853654392, 0.2953309587454707, 0.29490302244194677, 0.29458932831926676, 0.29448767769982737, 0.29209716760722504, 0.2900048238715774, 0.2890840978748063, 0.2885870399872628, 0.2866499356103482, 0.28310592446598026, 0.2822509555048522, 0.2821446942707255, 0.27988260842630736, 0.2797692101067514, 0.27891527216213674, 0.2788796254670298, 0.2784719466957456, 0.2758367219256594, 0.27578966903965635, 0.27547230316854787, 0.27336245022500805, 0.27298791651220133, 0.2707376535003848, 0.2687374335538031, 0.26565377549436897, 0.2641955817510559, 0.2633998597124259, 0.26316557206152524, 0.260051368889296, 0.25948953378029266, 0.25876247948536024, 0.2586556163422019, 0.2574907327000266, 0.2567618184318459, 0.2554505630166594, 0.25459239737693623, 0.25392099274695895, 0.2536481405328158, 0.2534828324030007, 0.2517857161574971, 0.25110176193380845, 0.24994337876328723, 0.249217293658069, 0.24783224298748252, 0.2476193602023609, 0.24336582505998022, 0.24334598469440005, 0.24185503190909613, 0.24167403838975124, 0.23296159900804797, 0.23189651612894485, 0.2301490735263373, 0.2292236246157442, 0.22730405361410794, 0.2264974955650822, 0.2202019448128793, 0.2200240339307439, 0.2177808501758476, 0.21730224511639729, 0.21520976406889453, 0.2142644699014337, 0.21415616090996956, 0.21379481408653156, 0.21308221864707635, 0.21061759176026945, 0.2100982621680421, 0.20984367937031007, 0.2000142051084437, 0.19998808483836517, 0.19903282468773817, 0.19868174726087792, 0.19770997598094517, 0.19694868147292957, 0.19090867206763515, 0.1903000954383429, 0.18921110028286756, 0.1891156980486907, 0.18909341782676067, 0.1889648315929467, 0.1887636195490261, 0.18818004031808933, 0.18035272197270857, 0.1801812685651415, 0.1791335646780807, 0.1789726487959541, 0.17553843053597767, 0.17549067362007187, 0.17473938058142366, 0.17455012606280182, 0.17363324174286607, 0.17313160450666948, 0.16730807435553738, 0.16729337395763072, 0.1644588688769528, 0.16357653262674296, 0.16297985165995962, 0.16282406373308372, 0.16199225265981532, 0.16193759466565197, 0.16021642155955937, 0.15981088130402005, 0.15938822202546243, 0.15935181247174243, 0.159136542170946, 0.15907011131985505, 0.15854398936966801, 0.1576530529131773, 0.15432711667256802, 0.1541124050479732, 0.14714536008663262, 0.1469407226165135, 0.14577740314291543, 0.14564399193713362, 0.14310515714578112, 0.1430916357469399, 0.14217258032064137, 0.14150892633894957, 0.1393819510655264, 0.13926675778517003, 0.13892615211201445, 0.13649182317135075, 0.13626747285479748, 0.13579861157647496, 0.13531732643753086, 0.135185979312494, 0.13383091583948392, 0.13344413941403596, 0.13232223609690033, 0.13137810332092142, 0.13080445248289804, 0.13071831907135617, 0.13070632399860999, 0.130576395735378, 0.13041677147208391, 0.12969250287573403, 0.12815829183228744, 0.12809762428377108, 0.12666852562220518, 0.12645825771655067, 0.12589430189505535, 0.1253787758434647, 0.12407295998143208, 0.12371582396250234, 0.11917141722243652, 0.11821497869363115, 0.11539401130464529, 0.11497938514178156, 0.11254814404620198, 0.1123558552892672, 0.11226536642519254, 0.11063535400847722, 0.11048593847936711, 0.11006206992611858, 0.10991507509548026, 0.10959087453578992, 0.10940866736468788, 0.1031943077702575, 0.10305445282273898, 0.10299646257336781, 0.10250857078303152, 0.10245354840053733, 0.10241430550958756, 0.10209575132096295, 0.10193639730340445, 0.10144268929542785, 0.10069188753337066, 0.10068138347642196, 0.10017885079130419, 0.09998647583040168, 0.0959097034304246, 0.09582769492331586, 0.0938312891058373, 0.09378645145423659, 0.09291884206460818, 0.09271937786109107, 0.09144225274332295, 0.09138669051986976, 0.09058188238523979, 0.09050543990526619, 0.08566916779120796, 0.0852737160386416, 0.08225374050367906, 0.08224722312230291, 0.08191259615264485, 0.08123682564570013, 0.08078657037372228, 0.08070781592262916, 0.08037163400859126, 0.08020735616261998, 0.08006597658416409, 0.07996180182052287, 0.07927178111261453, 0.078117149757608, 0.07722205819464799, 0.0770873829680457, 0.0766802490151663, 0.07635530930250266, 0.07367665553908911, 0.07364382596574685, 0.07300777233202803, 0.07273074427766321, 0.07216207079899836, 0.07180064374056606, 0.07170075715971816, 0.07167946300506513, 0.0713638885312877, 0.0713524625688459, 0.07100375888481157, 0.07083510236264809, 0.07064938225909098, 0.07061885345387911, 0.07012093262817293, 0.0669192069951399, 0.06689940485886463, 0.06683699887425432, 0.06622245108588928, 0.06494784450933734, 0.06476976541762534, 0.06410415872143935, 0.06407529951073397, 0.06349510441167522, 0.063272751120285, 0.06293501676025968, 0.06226056962716184, 0.06222085377633952, 0.061974229179326205, 0.06111130069044774, 0.06100806367785747, 0.06064924398051859, 0.0606064291236502, 0.05801449017912026, 0.05787928337652232, 0.05612762503693122, 0.055770337438372584, 0.05278613523055019, 0.052700467736462836, 0.05138971478053083, 0.050247936385845626, 0.04920370199669793, 0.04909985767636612, 0.03901150623446682, 0.035350290255416535, 0.03148421400745692], \"xaxis\": \"x\", \"y\": [0.0, 0.0, 0.0, 0.0010090817356205853, 0.0010090817356205853, 0.0010090817356205853, 0.0010090817356205853, 0.0010090817356205853, 0.0010090817356205853, 0.0020181634712411706, 0.0020181634712411706, 0.0020181634712411706, 0.0020181634712411706, 0.0030272452068617556, 0.0030272452068617556, 0.0030272452068617556, 0.0030272452068617556, 0.004036326942482341, 0.004036326942482341, 0.005045408678102927, 0.005045408678102927, 0.005045408678102927, 0.005045408678102927, 0.005045408678102927, 0.005045408678102927, 0.005045408678102927, 0.006054490413723511, 0.006054490413723511, 0.006054490413723511, 0.007063572149344097, 0.007063572149344097, 0.009081735620585268, 0.009081735620585268, 0.010090817356205853, 0.010090817356205853, 0.011099899091826439, 0.011099899091826439, 0.012108980827447022, 0.012108980827447022, 0.013118062563067608, 0.013118062563067608, 0.014127144298688193, 0.014127144298688193, 0.015136226034308779, 0.015136226034308779, 0.016145307769929364, 0.016145307769929364, 0.017154389505549948, 0.017154389505549948, 0.017154389505549948, 0.018163471241170535, 0.018163471241170535, 0.01917255297679112, 0.01917255297679112, 0.022199798183652877, 0.022199798183652877, 0.02320887991927346, 0.02320887991927346, 0.026236125126135216, 0.026236125126135216, 0.028254288597376387, 0.028254288597376387, 0.030272452068617558, 0.030272452068617558, 0.03229061553985873, 0.03229061553985873, 0.034308779011099896, 0.034308779011099896, 0.035317860746720484, 0.035317860746720484, 0.035317860746720484, 0.035317860746720484, 0.03834510595358224, 0.03834510595358224, 0.039354187689202826, 0.039354187689202826, 0.04036326942482341, 0.04036326942482341, 0.04641775983854692, 0.04641775983854692, 0.04944500504540868, 0.04944500504540868, 0.05348133198789102, 0.05348133198789102, 0.054490413723511606, 0.054490413723511606, 0.056508577194752774, 0.056508577194752774, 0.05953582240161453, 0.05953582240161453, 0.060544904137235116, 0.060544904137235116, 0.0615539858728557, 0.0615539858728557, 0.06659939455095863, 0.06659939455095863, 0.06861755802219979, 0.06861755802219979, 0.06962663975782038, 0.06962663975782038, 0.07265388496468214, 0.07265388496468214, 0.08375378405650857, 0.08375378405650857, 0.08779011099899092, 0.08779011099899092, 0.09283551967709384, 0.09283551967709384, 0.09384460141271443, 0.09384460141271443, 0.09687184661957618, 0.09687184661957618, 0.09989909182643794, 0.09989909182643794, 0.10191725529767912, 0.10191725529767912, 0.10595358224016145, 0.10595358224016145, 0.10696266397578204, 0.10696266397578204, 0.10797174571140263, 0.10797174571140263, 0.1099899091826438, 0.1099899091826438, 0.11301715438950555, 0.11301715438950555, 0.11604439959636731, 0.11604439959636731, 0.1170534813319879, 0.1170534813319879, 0.11806256306760847, 0.11806256306760847, 0.11907164480322906, 0.11907164480322906, 0.12008072653884964, 0.12008072653884964, 0.12209889001009082, 0.12209889001009082, 0.12613521695257315, 0.12613521695257315, 0.12714429868819374, 0.12714429868819374, 0.1301715438950555, 0.1301715438950555, 0.1311806256306761, 0.1311806256306761, 0.13218970736629668, 0.13218970736629668, 0.13420787083753785, 0.13420787083753785, 0.136226034308779, 0.136226034308779, 0.14127144298688193, 0.14127144298688193, 0.1432896064581231, 0.1432896064581231, 0.1432896064581231, 0.14631685166498487, 0.14631685166498487, 0.15136226034308778, 0.15136226034308778, 0.15338042381432895, 0.15338042381432895, 0.15640766902119072, 0.15640766902119072, 0.16145307769929365, 0.16145307769929365, 0.16246215943491424, 0.16246215943491424, 0.16347124117053483, 0.16347124117053483, 0.16448032290615539, 0.16448032290615539, 0.16649848637739656, 0.16649848637739656, 0.16750756811301715, 0.16750756811301715, 0.1715438950554995, 0.1715438950554995, 0.17658930373360243, 0.17658930373360243, 0.17759838546922302, 0.17759838546922302, 0.17860746720484358, 0.17860746720484358, 0.18062563067608475, 0.18062563067608475, 0.18163471241170534, 0.18163471241170534, 0.18970736629667004, 0.18970736629667004, 0.19071644803229063, 0.19071644803229063, 0.1977800201816347, 0.1977800201816347, 0.1987891019172553, 0.1987891019172553, 0.20181634712411706, 0.20181634712411706, 0.20282542885973764, 0.20282542885973764, 0.20484359233097882, 0.20484359233097882, 0.2119071644803229, 0.2119071644803229, 0.2129162462159435, 0.2129162462159435, 0.21392532795156408, 0.21392532795156408, 0.2199798183652876, 0.2199798183652876, 0.2209889001009082, 0.2209889001009082, 0.22199798183652875, 0.22199798183652875, 0.2250252270433905, 0.2250252270433905, 0.22805247225025227, 0.22805247225025227, 0.2330978809283552, 0.2330978809283552, 0.23814328960645811, 0.23814328960645811, 0.2391523713420787, 0.2391523713420787, 0.24419778002018164, 0.24419778002018164, 0.24520686175580222, 0.24520686175580222, 0.2522704339051463, 0.2522704339051463, 0.25529767911200807, 0.25529767911200807, 0.25630676084762866, 0.25630676084762866, 0.2593340060544904, 0.2593340060544904, 0.260343087790111, 0.260343087790111, 0.2623612512613522, 0.2623612512613522, 0.26337033299697277, 0.26337033299697277, 0.2684157416750757, 0.2684157416750757, 0.2714429868819374, 0.2714429868819374, 0.2734611503531786, 0.2734611503531786, 0.27547931382441976, 0.27547931382441976, 0.2795156407669021, 0.2795156407669021, 0.2815338042381433, 0.2815338042381433, 0.28254288597376387, 0.28254288597376387, 0.28355196770938446, 0.28355196770938446, 0.28557013118062563, 0.28557013118062563, 0.289606458123108, 0.289606458123108, 0.29364278506559033, 0.29364278506559033, 0.2946518668012109, 0.2946518668012109, 0.29969727547931385, 0.29969727547931385, 0.30171543895055497, 0.30171543895055497, 0.30272452068617556, 0.30272452068617556, 0.30373360242179614, 0.30373360242179614, 0.30474268415741673, 0.30474268415741673, 0.30474268415741673, 0.3087790110998991, 0.3087790110998991, 0.31180625630676084, 0.31180625630676084, 0.3148335015136226, 0.3148335015136226, 0.31886982845610495, 0.31886982845610495, 0.3229061553985873, 0.3229061553985873, 0.3410696266397578, 0.3410696266397578, 0.34611503531786075, 0.34611503531786075, 0.3521695257315843, 0.35418768920282545, 0.3612512613521695, 0.3612512613521695, 0.36629667003027244, 0.36629667003027244, 0.37336024217961655, 0.37336024217961655, 0.37436932391523714, 0.37436932391523714, 0.3763874873864783, 0.3763874873864783, 0.3773965691220989, 0.3773965691220989, 0.3975782038345106, 0.3975782038345106, 0.3985872855701312, 0.3985872855701312, 0.4026236125126135, 0.4026236125126135, 0.4147325933400605, 0.4147325933400605, 0.41977800201816345, 0.41977800201816345, 0.42078708375378404, 0.42078708375378404, 0.4228052472250252, 0.4228052472250252, 0.44601412714429867, 0.44601412714429867, 0.44904137235116043, 0.44904137235116043, 0.4591321897073663, 0.4591321897073663, 0.46215943491422806, 0.46215943491422806, 0.46417759838546924, 0.46417759838546924, 0.4803229061553986, 0.4803229061553986, 0.4853683148335015, 0.4853683148335015, 0.4873864783047427, 0.4873864783047427, 0.4883955600403633, 0.4883955600403633, 0.49848637739656915, 0.49848637739656915, 0.5005045408678103, 0.5005045408678103, 0.5035317860746721, 0.5055499495459133, 0.5065590312815338, 0.5065590312815338, 0.5146316851664985, 0.5146316851664985, 0.5368314833501514, 0.5368314833501514, 0.5408678102926338, 0.5408678102926338, 0.5489404641775983, 0.5489404641775983, 0.5529767911200807, 0.5529767911200807, 0.5600403632694249, 0.562058526740666, 0.562058526740666, 0.5711402623612513, 0.5711402623612513, 0.5721493440968718, 0.5731584258324924, 0.5731584258324924, 0.5761856710393541, 0.5761856710393541, 0.5842583249243188, 0.5842583249243188, 0.5872855701311807, 0.5872855701311807, 0.5882946518668012, 0.5882946518668012, 0.5893037336024218, 0.5893037336024218, 0.5933400605449042, 0.5933400605449042, 0.5993945509586277, 0.5993945509586277, 0.6024217961654894, 0.6024217961654894, 0.6064581231079718, 0.6084762865792129, 0.6226034308779012, 0.6226034308779012, 0.6347124117053481, 0.6367305751765893, 0.6427850655903128, 0.6427850655903128, 0.644803229061554, 0.6538849646821393, 0.6538849646821393, 0.6559031281533805, 0.6559031281533805, 0.6579212916246215, 0.6579212916246215, 0.6801210898082745, 0.6811301715438951, 0.6831483350151363, 0.686175580221998, 0.6881937436932392, 0.6892028254288597, 0.6912209889001009, 0.6922300706357215, 0.6942482341069627, 0.7023208879919274, 0.7043390514631686, 0.7093844601412714, 0.7093844601412714, 0.7336024217961655, 0.7336024217961655, 0.7426841574167508, 0.7426841574167508, 0.7457114026236125, 0.7457114026236125, 0.751765893037336, 0.7527749747729566, 0.756811301715439, 0.7598385469223007, 0.7790110998990918, 0.7790110998990918, 0.7901109989909183, 0.7911200807265388, 0.7921291624621595, 0.7941473259334006, 0.8002018163471241, 0.8002018163471241, 0.8032290615539859, 0.805247225025227, 0.8062563067608476, 0.8082744702320888, 0.8113017154389506, 0.8113017154389506, 0.8163471241170535, 0.8163471241170535, 0.8213925327951564, 0.822401614530777, 0.8335015136226034, 0.8355196770938446, 0.8415741675075681, 0.8435923309788093, 0.8456104944500504, 0.8476286579212916, 0.8496468213925328, 0.8496468213925328, 0.8526740665993946, 0.8546922300706358, 0.8577194752774975, 0.8607467204843592, 0.8627648839556004, 0.8647830474268415, 0.8657921291624622, 0.8819374369323916, 0.8819374369323916, 0.8829465186680121, 0.8829465186680121, 0.8859737638748738, 0.8910191725529768, 0.8950554994954592, 0.8950554994954592, 0.900100908173562, 0.9021190716448032, 0.9061553985872856, 0.9101917255297679, 0.9112008072653885, 0.9132189707366297, 0.9202825428859738, 0.922300706357215, 0.9233097880928355, 0.9263370332996973, 0.9354187689202825, 0.9394550958627649, 0.9505549949545913, 0.9525731584258325, 0.958627648839556, 0.9606458123107972, 0.9667003027245207, 0.9788092835519677, 0.9808274470232089, 0.9808274470232089, 0.992936427850656, 0.9989909182643795, 1.0], \"yaxis\": \"y\"}, {\"hovertemplate\": \"Rate=True Positive Rate<br>Thresholds=%{x}<br>value=%{y}<extra></extra>\", \"legendgroup\": \"True Positive Rate\", \"line\": {\"color\": \"#EF553B\", \"dash\": \"solid\"}, \"mode\": \"lines\", \"name\": \"True Positive Rate\", \"orientation\": \"v\", \"showlegend\": true, \"type\": \"scatter\", \"x\": [1.9129169275411708, 0.9129169275411708, 0.9002786723074474, 0.8996248700851073, 0.8942089468580395, 0.8937192953233705, 0.8845359617820151, 0.8814925329793942, 0.8781748346453156, 0.8740096849947643, 0.8673582926289035, 0.8653004831391382, 0.8576144368030593, 0.8574534382783573, 0.8515689737925276, 0.85035179510848, 0.849535366668277, 0.8469635380573932, 0.8425563012467525, 0.8389433096020485, 0.8374551311876995, 0.8366494258019525, 0.8347217227487722, 0.8332062130610375, 0.8031189717560356, 0.7964461331007485, 0.7900546501936874, 0.7782053377596154, 0.775789516760784, 0.7695669239083985, 0.7471070093002197, 0.7444193011741222, 0.737072278601959, 0.7367644587775252, 0.7169248469595486, 0.7164208756878144, 0.71458677795196, 0.7103442035760631, 0.7085863366267384, 0.7084511430206424, 0.6883669639597025, 0.6873376322526762, 0.6814300879155376, 0.6803715168004415, 0.6768670780409795, 0.6765880613285306, 0.6735341620464133, 0.6726337925278643, 0.6719462583638868, 0.6603598634990525, 0.658171945890799, 0.6574845397176529, 0.6569436628901778, 0.6467143342227092, 0.6435971973650787, 0.6382216203366006, 0.6372383562061927, 0.6341883537139729, 0.6298638457412568, 0.6293488162695716, 0.6280485350267414, 0.6272315674840013, 0.6253685256027175, 0.6197716257541923, 0.6189818433873413, 0.6017077381798706, 0.6005915167894864, 0.5980747440765926, 0.5960106419779493, 0.5935243636956189, 0.5929546447747545, 0.5919161764248758, 0.5903079417810616, 0.5900048892531959, 0.589641509929332, 0.5794220128361856, 0.5777961122172333, 0.5766130311704208, 0.5729075742219507, 0.5721661578674043, 0.5655315326158422, 0.5652460973798, 0.5581545388953617, 0.5549543091887736, 0.5549073625124976, 0.5548830739814732, 0.5527945813847945, 0.5523186563369202, 0.5474707376396843, 0.5462939424811406, 0.545364744347522, 0.5382826526899552, 0.5378530064816698, 0.5356725423409628, 0.5318336225503053, 0.5301283434260821, 0.529531447067686, 0.5234872559472938, 0.5220854975538932, 0.5214677383730485, 0.5196574157521664, 0.5174296402313151, 0.5053134482695405, 0.5000669114933436, 0.4978870473285395, 0.49681183872336393, 0.49156622921728566, 0.4904351704163103, 0.48927548368263907, 0.487388730370599, 0.48460652231443585, 0.48326007141405647, 0.47741434212774214, 0.476856689288274, 0.4756117452952778, 0.47303644750282625, 0.4700618098548802, 0.46735605060995683, 0.46684560879974485, 0.4636738228451951, 0.46296358967588824, 0.46187030185038835, 0.46082982041598197, 0.46066857723299054, 0.455830528024475, 0.4544196465748158, 0.447331110152755, 0.4464831778243738, 0.44488866838825225, 0.44460050051975275, 0.4426621143043018, 0.43788468752101145, 0.4360645542424624, 0.4337934149376393, 0.4334581938822745, 0.4331369968080365, 0.4287284587968592, 0.42825882771990187, 0.4258339399435711, 0.424651377661919, 0.42437991408291986, 0.4231847295047286, 0.42034335435294307, 0.4178724630850115, 0.4177925946300197, 0.4174303299872087, 0.41701366338100676, 0.4164267117654808, 0.41469751565351576, 0.41283150187724965, 0.41233295719254565, 0.41037740676371176, 0.40545902989163113, 0.40509894952682285, 0.4050148694428711, 0.40360239712474955, 0.4034068204928255, 0.4015705809928844, 0.4004512185650226, 0.39877952764113456, 0.3987575075418053, 0.3978073655678952, 0.39754824922364096, 0.3945940393053042, 0.3928602932977726, 0.38687570321470377, 0.3826320945031679, 0.38218996722187065, 0.3801444887840367, 0.37981043849351215, 0.3782302754669255, 0.37715369758531336, 0.3771109832892613, 0.37668806419920553, 0.3764460271992375, 0.375354747832137, 0.36997733405580174, 0.36832288017061965, 0.3677022682132772, 0.36507261785787265, 0.3645653260071242, 0.3642479478789614, 0.363704754472184, 0.36356241005649853, 0.36350853342497236, 0.3632849821523357, 0.362529465801498, 0.3624229754960347, 0.36178930565058887, 0.35625214738850935, 0.3539492344342983, 0.3538293265127147, 0.3528693118566077, 0.34726564496943757, 0.3458010193187515, 0.34548564447577507, 0.3450683076875443, 0.3437231109767034, 0.3423408687599562, 0.34215369721877614, 0.3405544738691647, 0.340371868704224, 0.33950564473927675, 0.33512652884021116, 0.33495345285104544, 0.3347253710917304, 0.3345254891456706, 0.33318539242328193, 0.3317074563348617, 0.3289451033411403, 0.3289443007578164, 0.32835258868947265, 0.32827950181264487, 0.328144438441206, 0.3239704793799244, 0.3231176246782611, 0.3227141682864981, 0.3213453710127944, 0.3212312455586273, 0.31887603363602685, 0.318361425410766, 0.3164370836639493, 0.3142320185675976, 0.3139866844468464, 0.3124290617876158, 0.3112140704304791, 0.31084205871528964, 0.3097339688395251, 0.30829525761181903, 0.3041737926699024, 0.30204104551169436, 0.29957535167454935, 0.2991762581106903, 0.29903807801726695, 0.2987613979718787, 0.2979976269392775, 0.296620857685054, 0.2963984756104137, 0.2957800853654392, 0.2953309587454707, 0.29490302244194677, 0.29458932831926676, 0.29448767769982737, 0.29209716760722504, 0.2900048238715774, 0.2890840978748063, 0.2885870399872628, 0.2866499356103482, 0.28310592446598026, 0.2822509555048522, 0.2821446942707255, 0.27988260842630736, 0.2797692101067514, 0.27891527216213674, 0.2788796254670298, 0.2784719466957456, 0.2758367219256594, 0.27578966903965635, 0.27547230316854787, 0.27336245022500805, 0.27298791651220133, 0.2707376535003848, 0.2687374335538031, 0.26565377549436897, 0.2641955817510559, 0.2633998597124259, 0.26316557206152524, 0.260051368889296, 0.25948953378029266, 0.25876247948536024, 0.2586556163422019, 0.2574907327000266, 0.2567618184318459, 0.2554505630166594, 0.25459239737693623, 0.25392099274695895, 0.2536481405328158, 0.2534828324030007, 0.2517857161574971, 0.25110176193380845, 0.24994337876328723, 0.249217293658069, 0.24783224298748252, 0.2476193602023609, 0.24336582505998022, 0.24334598469440005, 0.24185503190909613, 0.24167403838975124, 0.23296159900804797, 0.23189651612894485, 0.2301490735263373, 0.2292236246157442, 0.22730405361410794, 0.2264974955650822, 0.2202019448128793, 0.2200240339307439, 0.2177808501758476, 0.21730224511639729, 0.21520976406889453, 0.2142644699014337, 0.21415616090996956, 0.21379481408653156, 0.21308221864707635, 0.21061759176026945, 0.2100982621680421, 0.20984367937031007, 0.2000142051084437, 0.19998808483836517, 0.19903282468773817, 0.19868174726087792, 0.19770997598094517, 0.19694868147292957, 0.19090867206763515, 0.1903000954383429, 0.18921110028286756, 0.1891156980486907, 0.18909341782676067, 0.1889648315929467, 0.1887636195490261, 0.18818004031808933, 0.18035272197270857, 0.1801812685651415, 0.1791335646780807, 0.1789726487959541, 0.17553843053597767, 0.17549067362007187, 0.17473938058142366, 0.17455012606280182, 0.17363324174286607, 0.17313160450666948, 0.16730807435553738, 0.16729337395763072, 0.1644588688769528, 0.16357653262674296, 0.16297985165995962, 0.16282406373308372, 0.16199225265981532, 0.16193759466565197, 0.16021642155955937, 0.15981088130402005, 0.15938822202546243, 0.15935181247174243, 0.159136542170946, 0.15907011131985505, 0.15854398936966801, 0.1576530529131773, 0.15432711667256802, 0.1541124050479732, 0.14714536008663262, 0.1469407226165135, 0.14577740314291543, 0.14564399193713362, 0.14310515714578112, 0.1430916357469399, 0.14217258032064137, 0.14150892633894957, 0.1393819510655264, 0.13926675778517003, 0.13892615211201445, 0.13649182317135075, 0.13626747285479748, 0.13579861157647496, 0.13531732643753086, 0.135185979312494, 0.13383091583948392, 0.13344413941403596, 0.13232223609690033, 0.13137810332092142, 0.13080445248289804, 0.13071831907135617, 0.13070632399860999, 0.130576395735378, 0.13041677147208391, 0.12969250287573403, 0.12815829183228744, 0.12809762428377108, 0.12666852562220518, 0.12645825771655067, 0.12589430189505535, 0.1253787758434647, 0.12407295998143208, 0.12371582396250234, 0.11917141722243652, 0.11821497869363115, 0.11539401130464529, 0.11497938514178156, 0.11254814404620198, 0.1123558552892672, 0.11226536642519254, 0.11063535400847722, 0.11048593847936711, 0.11006206992611858, 0.10991507509548026, 0.10959087453578992, 0.10940866736468788, 0.1031943077702575, 0.10305445282273898, 0.10299646257336781, 0.10250857078303152, 0.10245354840053733, 0.10241430550958756, 0.10209575132096295, 0.10193639730340445, 0.10144268929542785, 0.10069188753337066, 0.10068138347642196, 0.10017885079130419, 0.09998647583040168, 0.0959097034304246, 0.09582769492331586, 0.0938312891058373, 0.09378645145423659, 0.09291884206460818, 0.09271937786109107, 0.09144225274332295, 0.09138669051986976, 0.09058188238523979, 0.09050543990526619, 0.08566916779120796, 0.0852737160386416, 0.08225374050367906, 0.08224722312230291, 0.08191259615264485, 0.08123682564570013, 0.08078657037372228, 0.08070781592262916, 0.08037163400859126, 0.08020735616261998, 0.08006597658416409, 0.07996180182052287, 0.07927178111261453, 0.078117149757608, 0.07722205819464799, 0.0770873829680457, 0.0766802490151663, 0.07635530930250266, 0.07367665553908911, 0.07364382596574685, 0.07300777233202803, 0.07273074427766321, 0.07216207079899836, 0.07180064374056606, 0.07170075715971816, 0.07167946300506513, 0.0713638885312877, 0.0713524625688459, 0.07100375888481157, 0.07083510236264809, 0.07064938225909098, 0.07061885345387911, 0.07012093262817293, 0.0669192069951399, 0.06689940485886463, 0.06683699887425432, 0.06622245108588928, 0.06494784450933734, 0.06476976541762534, 0.06410415872143935, 0.06407529951073397, 0.06349510441167522, 0.063272751120285, 0.06293501676025968, 0.06226056962716184, 0.06222085377633952, 0.061974229179326205, 0.06111130069044774, 0.06100806367785747, 0.06064924398051859, 0.0606064291236502, 0.05801449017912026, 0.05787928337652232, 0.05612762503693122, 0.055770337438372584, 0.05278613523055019, 0.052700467736462836, 0.05138971478053083, 0.050247936385845626, 0.04920370199669793, 0.04909985767636612, 0.03901150623446682, 0.035350290255416535, 0.03148421400745692], \"xaxis\": \"x\", \"y\": [0.0, 0.002336448598130841, 0.007009345794392523, 0.007009345794392523, 0.009345794392523364, 0.014018691588785047, 0.016355140186915886, 0.02336448598130841, 0.02570093457943925, 0.02570093457943925, 0.030373831775700934, 0.0397196261682243, 0.04205607476635514, 0.04205607476635514, 0.04906542056074766, 0.05841121495327103, 0.0630841121495327, 0.06542056074766354, 0.06775700934579439, 0.06775700934579439, 0.07242990654205607, 0.07710280373831775, 0.08411214953271028, 0.08878504672897196, 0.10981308411214953, 0.11682242990654206, 0.11682242990654206, 0.1308411214953271, 0.13551401869158877, 0.13551401869158877, 0.15186915887850466, 0.15186915887850466, 0.15654205607476634, 0.15654205607476634, 0.17990654205607476, 0.17990654205607476, 0.18691588785046728, 0.18691588785046728, 0.18925233644859812, 0.18925233644859812, 0.2102803738317757, 0.2102803738317757, 0.21495327102803738, 0.21495327102803738, 0.2219626168224299, 0.2219626168224299, 0.22429906542056074, 0.22429906542056074, 0.22897196261682243, 0.25, 0.25, 0.2523364485981308, 0.2523364485981308, 0.26401869158878505, 0.26401869158878505, 0.2733644859813084, 0.2733644859813084, 0.2780373831775701, 0.2780373831775701, 0.2803738317757009, 0.2803738317757009, 0.2827102803738318, 0.2827102803738318, 0.2897196261682243, 0.2897196261682243, 0.3177570093457944, 0.3177570093457944, 0.32009345794392524, 0.32009345794392524, 0.32710280373831774, 0.3317757009345794, 0.3341121495327103, 0.3341121495327103, 0.3364485981308411, 0.3364485981308411, 0.35514018691588783, 0.35514018691588783, 0.3621495327102804, 0.3621495327102804, 0.36682242990654207, 0.36682242990654207, 0.3691588785046729, 0.3691588785046729, 0.37383177570093457, 0.37383177570093457, 0.37616822429906543, 0.37616822429906543, 0.37850467289719625, 0.37850467289719625, 0.38317757009345793, 0.38317757009345793, 0.39485981308411217, 0.39485981308411217, 0.39953271028037385, 0.39953271028037385, 0.4088785046728972, 0.4088785046728972, 0.4182242990654206, 0.4182242990654206, 0.4205607476635514, 0.4205607476635514, 0.42289719626168226, 0.42289719626168226, 0.43457943925233644, 0.43457943925233644, 0.4392523364485981, 0.4392523364485981, 0.4439252336448598, 0.4439252336448598, 0.45093457943925236, 0.45093457943925236, 0.45560747663551404, 0.45560747663551404, 0.45794392523364486, 0.45794392523364486, 0.46261682242990654, 0.46261682242990654, 0.4649532710280374, 0.4649532710280374, 0.4696261682242991, 0.4696261682242991, 0.4742990654205608, 0.4742990654205608, 0.4766355140186916, 0.4766355140186916, 0.48130841121495327, 0.48130841121495327, 0.48364485981308414, 0.48364485981308414, 0.48598130841121495, 0.48598130841121495, 0.4929906542056075, 0.4929906542056075, 0.5, 0.5, 0.5023364485981309, 0.5023364485981309, 0.5046728971962616, 0.5046728971962616, 0.5070093457943925, 0.5070093457943925, 0.5116822429906542, 0.5116822429906542, 0.5210280373831776, 0.5210280373831776, 0.5233644859813084, 0.5233644859813084, 0.5257009345794392, 0.5257009345794392, 0.5280373831775701, 0.5280373831775701, 0.5350467289719626, 0.5350467289719626, 0.5373831775700935, 0.5373831775700935, 0.544392523364486, 0.5490654205607477, 0.5490654205607477, 0.5560747663551402, 0.5560747663551402, 0.5584112149532711, 0.5584112149532711, 0.5607476635514018, 0.5607476635514018, 0.5630841121495327, 0.5630841121495327, 0.5747663551401869, 0.5747663551401869, 0.5817757009345794, 0.5817757009345794, 0.5841121495327103, 0.5841121495327103, 0.5864485981308412, 0.5864485981308412, 0.5887850467289719, 0.5887850467289719, 0.6004672897196262, 0.6004672897196262, 0.602803738317757, 0.602803738317757, 0.6051401869158879, 0.6051401869158879, 0.6074766355140186, 0.6074766355140186, 0.6098130841121495, 0.6098130841121495, 0.6144859813084113, 0.6144859813084113, 0.616822429906542, 0.616822429906542, 0.6261682242990654, 0.6261682242990654, 0.6285046728971962, 0.6285046728971962, 0.633177570093458, 0.633177570093458, 0.6355140186915887, 0.6355140186915887, 0.6425233644859814, 0.6425233644859814, 0.6495327102803738, 0.6495327102803738, 0.6542056074766355, 0.6542056074766355, 0.6565420560747663, 0.6565420560747663, 0.6635514018691588, 0.6635514018691588, 0.6705607476635514, 0.6705607476635514, 0.6728971962616822, 0.6728971962616822, 0.6752336448598131, 0.6752336448598131, 0.6845794392523364, 0.6845794392523364, 0.6869158878504673, 0.6869158878504673, 0.6892523364485982, 0.6892523364485982, 0.6915887850467289, 0.6915887850467289, 0.6962616822429907, 0.6962616822429907, 0.7009345794392523, 0.7009345794392523, 0.7032710280373832, 0.7032710280373832, 0.7102803738317757, 0.7102803738317757, 0.7149532710280374, 0.7149532710280374, 0.7172897196261683, 0.7172897196261683, 0.719626168224299, 0.719626168224299, 0.7266355140186916, 0.7266355140186916, 0.7289719626168224, 0.7289719626168224, 0.7313084112149533, 0.7313084112149533, 0.7336448598130841, 0.7336448598130841, 0.7406542056074766, 0.7406542056074766, 0.7429906542056075, 0.7429906542056075, 0.7476635514018691, 0.7476635514018691, 0.75, 0.75, 0.7523364485981309, 0.7523364485981309, 0.7546728971962616, 0.7546728971962616, 0.7570093457943925, 0.7570093457943925, 0.7593457943925234, 0.7593457943925234, 0.764018691588785, 0.764018691588785, 0.7710280373831776, 0.7710280373831776, 0.7733644859813084, 0.7733644859813084, 0.7757009345794392, 0.7757009345794392, 0.780373831775701, 0.780373831775701, 0.7827102803738317, 0.7827102803738317, 0.7850467289719626, 0.7850467289719626, 0.7897196261682243, 0.7897196261682243, 0.794392523364486, 0.7967289719626168, 0.7967289719626168, 0.8014018691588785, 0.8014018691588785, 0.8060747663551402, 0.8060747663551402, 0.8084112149532711, 0.8084112149532711, 0.8107476635514018, 0.8107476635514018, 0.8130841121495327, 0.8130841121495327, 0.8154205607476636, 0.8154205607476636, 0.8200934579439252, 0.8200934579439252, 0.8200934579439252, 0.8200934579439252, 0.822429906542056, 0.822429906542056, 0.8247663551401869, 0.8247663551401869, 0.8271028037383178, 0.8271028037383178, 0.8294392523364486, 0.8294392523364486, 0.8341121495327103, 0.8341121495327103, 0.8364485981308412, 0.8364485981308412, 0.8387850467289719, 0.8387850467289719, 0.8411214953271028, 0.8411214953271028, 0.8481308411214953, 0.8481308411214953, 0.8504672897196262, 0.8504672897196262, 0.852803738317757, 0.852803738317757, 0.8551401869158879, 0.8551401869158879, 0.8598130841121495, 0.8598130841121495, 0.8621495327102804, 0.8621495327102804, 0.8644859813084113, 0.8644859813084113, 0.866822429906542, 0.866822429906542, 0.8691588785046729, 0.8691588785046729, 0.8714953271028038, 0.8714953271028038, 0.8738317757009346, 0.8738317757009346, 0.8761682242990654, 0.8761682242990654, 0.8785046728971962, 0.8785046728971962, 0.8808411214953271, 0.8808411214953271, 0.8878504672897196, 0.8878504672897196, 0.8901869158878505, 0.8901869158878505, 0.8901869158878505, 0.8901869158878505, 0.8925233644859814, 0.8925233644859814, 0.8948598130841121, 0.8948598130841121, 0.897196261682243, 0.897196261682243, 0.8995327102803738, 0.8995327102803738, 0.9018691588785047, 0.9018691588785047, 0.9088785046728972, 0.9088785046728972, 0.9088785046728972, 0.9112149532710281, 0.9112149532710281, 0.9135514018691588, 0.9158878504672897, 0.9158878504672897, 0.9182242990654206, 0.9182242990654206, 0.9205607476635514, 0.9205607476635514, 0.9228971962616822, 0.9228971962616822, 0.9252336448598131, 0.9252336448598131, 0.927570093457944, 0.927570093457944, 0.9322429906542056, 0.9322429906542056, 0.9345794392523364, 0.9345794392523364, 0.9369158878504673, 0.9369158878504673, 0.9392523364485982, 0.9392523364485982, 0.9392523364485982, 0.9392523364485982, 0.9415887850467289, 0.9415887850467289, 0.9415887850467289, 0.9415887850467289, 0.9462616822429907, 0.9462616822429907, 0.9462616822429907, 0.9485981308411215, 0.9485981308411215, 0.9509345794392523, 0.9509345794392523, 0.9532710280373832, 0.9532710280373832, 0.955607476635514, 0.955607476635514, 0.955607476635514, 0.955607476635514, 0.955607476635514, 0.955607476635514, 0.955607476635514, 0.955607476635514, 0.955607476635514, 0.955607476635514, 0.955607476635514, 0.9579439252336449, 0.9579439252336449, 0.9602803738317757, 0.9602803738317757, 0.9626168224299065, 0.9626168224299065, 0.9649532710280374, 0.9649532710280374, 0.9672897196261683, 0.9672897196261683, 0.9672897196261683, 0.9672897196261683, 0.969626168224299, 0.969626168224299, 0.9719626168224299, 0.9719626168224299, 0.9719626168224299, 0.9719626168224299, 0.9742990654205608, 0.9742990654205608, 0.9742990654205608, 0.9742990654205608, 0.9742990654205608, 0.9742990654205608, 0.9766355140186916, 0.9766355140186916, 0.9789719626168224, 0.9789719626168224, 0.9813084112149533, 0.9813084112149533, 0.9813084112149533, 0.9813084112149533, 0.9813084112149533, 0.9813084112149533, 0.9813084112149533, 0.9813084112149533, 0.9836448598130841, 0.9836448598130841, 0.9836448598130841, 0.9836448598130841, 0.9836448598130841, 0.9836448598130841, 0.9836448598130841, 0.985981308411215, 0.985981308411215, 0.9883177570093458, 0.9883177570093458, 0.9906542056074766, 0.9906542056074766, 0.9929906542056075, 0.9929906542056075, 0.9953271028037384, 0.9953271028037384, 0.9953271028037384, 0.9953271028037384, 0.9953271028037384, 0.9953271028037384, 0.9953271028037384, 0.9953271028037384, 0.9953271028037384, 0.9953271028037384, 0.9953271028037384, 0.9953271028037384, 0.9953271028037384, 0.9953271028037384, 0.9953271028037384, 0.9953271028037384, 0.9953271028037384, 0.9953271028037384, 0.9976635514018691, 0.9976635514018691, 1.0, 1.0, 1.0, 1.0], \"yaxis\": \"y\"}],\n",
       "                        {\"height\": 500, \"legend\": {\"title\": {\"text\": \"Rate\"}, \"tracegroupgap\": 0}, \"template\": {\"data\": {\"bar\": [{\"error_x\": {\"color\": \"#2a3f5f\"}, \"error_y\": {\"color\": \"#2a3f5f\"}, \"marker\": {\"line\": {\"color\": \"#E5ECF6\", \"width\": 0.5}}, \"type\": \"bar\"}], \"barpolar\": [{\"marker\": {\"line\": {\"color\": \"#E5ECF6\", \"width\": 0.5}}, \"type\": \"barpolar\"}], \"carpet\": [{\"aaxis\": {\"endlinecolor\": \"#2a3f5f\", \"gridcolor\": \"white\", \"linecolor\": \"white\", \"minorgridcolor\": \"white\", \"startlinecolor\": \"#2a3f5f\"}, \"baxis\": {\"endlinecolor\": \"#2a3f5f\", \"gridcolor\": \"white\", \"linecolor\": \"white\", \"minorgridcolor\": \"white\", \"startlinecolor\": \"#2a3f5f\"}, \"type\": \"carpet\"}], \"choropleth\": [{\"colorbar\": {\"outlinewidth\": 0, \"ticks\": \"\"}, \"type\": \"choropleth\"}], \"contour\": [{\"colorbar\": {\"outlinewidth\": 0, \"ticks\": \"\"}, \"colorscale\": [[0.0, \"#0d0887\"], [0.1111111111111111, \"#46039f\"], [0.2222222222222222, \"#7201a8\"], [0.3333333333333333, \"#9c179e\"], [0.4444444444444444, \"#bd3786\"], [0.5555555555555556, \"#d8576b\"], [0.6666666666666666, \"#ed7953\"], [0.7777777777777778, \"#fb9f3a\"], [0.8888888888888888, \"#fdca26\"], [1.0, \"#f0f921\"]], \"type\": \"contour\"}], \"contourcarpet\": [{\"colorbar\": {\"outlinewidth\": 0, \"ticks\": \"\"}, \"type\": \"contourcarpet\"}], \"heatmap\": [{\"colorbar\": {\"outlinewidth\": 0, \"ticks\": \"\"}, \"colorscale\": [[0.0, \"#0d0887\"], [0.1111111111111111, \"#46039f\"], [0.2222222222222222, \"#7201a8\"], [0.3333333333333333, \"#9c179e\"], [0.4444444444444444, \"#bd3786\"], [0.5555555555555556, \"#d8576b\"], [0.6666666666666666, \"#ed7953\"], [0.7777777777777778, \"#fb9f3a\"], [0.8888888888888888, \"#fdca26\"], [1.0, \"#f0f921\"]], \"type\": \"heatmap\"}], \"heatmapgl\": [{\"colorbar\": {\"outlinewidth\": 0, \"ticks\": \"\"}, \"colorscale\": [[0.0, \"#0d0887\"], [0.1111111111111111, \"#46039f\"], [0.2222222222222222, \"#7201a8\"], [0.3333333333333333, \"#9c179e\"], [0.4444444444444444, \"#bd3786\"], [0.5555555555555556, \"#d8576b\"], [0.6666666666666666, \"#ed7953\"], [0.7777777777777778, \"#fb9f3a\"], [0.8888888888888888, \"#fdca26\"], [1.0, \"#f0f921\"]], \"type\": \"heatmapgl\"}], \"histogram\": [{\"marker\": {\"colorbar\": {\"outlinewidth\": 0, \"ticks\": \"\"}}, \"type\": \"histogram\"}], \"histogram2d\": [{\"colorbar\": {\"outlinewidth\": 0, \"ticks\": \"\"}, \"colorscale\": [[0.0, \"#0d0887\"], [0.1111111111111111, \"#46039f\"], [0.2222222222222222, \"#7201a8\"], [0.3333333333333333, \"#9c179e\"], [0.4444444444444444, \"#bd3786\"], [0.5555555555555556, \"#d8576b\"], [0.6666666666666666, \"#ed7953\"], [0.7777777777777778, \"#fb9f3a\"], [0.8888888888888888, \"#fdca26\"], [1.0, \"#f0f921\"]], \"type\": \"histogram2d\"}], \"histogram2dcontour\": [{\"colorbar\": {\"outlinewidth\": 0, \"ticks\": \"\"}, \"colorscale\": [[0.0, \"#0d0887\"], [0.1111111111111111, \"#46039f\"], [0.2222222222222222, \"#7201a8\"], [0.3333333333333333, \"#9c179e\"], [0.4444444444444444, \"#bd3786\"], [0.5555555555555556, \"#d8576b\"], [0.6666666666666666, \"#ed7953\"], [0.7777777777777778, \"#fb9f3a\"], [0.8888888888888888, \"#fdca26\"], [1.0, \"#f0f921\"]], \"type\": \"histogram2dcontour\"}], \"mesh3d\": [{\"colorbar\": {\"outlinewidth\": 0, \"ticks\": \"\"}, \"type\": \"mesh3d\"}], \"parcoords\": [{\"line\": {\"colorbar\": {\"outlinewidth\": 0, \"ticks\": \"\"}}, \"type\": \"parcoords\"}], \"pie\": [{\"automargin\": true, \"type\": \"pie\"}], \"scatter\": [{\"marker\": {\"colorbar\": {\"outlinewidth\": 0, \"ticks\": \"\"}}, \"type\": \"scatter\"}], \"scatter3d\": [{\"line\": {\"colorbar\": {\"outlinewidth\": 0, \"ticks\": \"\"}}, \"marker\": {\"colorbar\": {\"outlinewidth\": 0, \"ticks\": \"\"}}, \"type\": \"scatter3d\"}], \"scattercarpet\": [{\"marker\": {\"colorbar\": {\"outlinewidth\": 0, \"ticks\": \"\"}}, \"type\": \"scattercarpet\"}], \"scattergeo\": [{\"marker\": {\"colorbar\": {\"outlinewidth\": 0, \"ticks\": \"\"}}, \"type\": \"scattergeo\"}], \"scattergl\": [{\"marker\": {\"colorbar\": {\"outlinewidth\": 0, \"ticks\": \"\"}}, \"type\": \"scattergl\"}], \"scattermapbox\": [{\"marker\": {\"colorbar\": {\"outlinewidth\": 0, \"ticks\": \"\"}}, \"type\": \"scattermapbox\"}], \"scatterpolar\": [{\"marker\": {\"colorbar\": {\"outlinewidth\": 0, \"ticks\": \"\"}}, \"type\": \"scatterpolar\"}], \"scatterpolargl\": [{\"marker\": {\"colorbar\": {\"outlinewidth\": 0, \"ticks\": \"\"}}, \"type\": \"scatterpolargl\"}], \"scatterternary\": [{\"marker\": {\"colorbar\": {\"outlinewidth\": 0, \"ticks\": \"\"}}, \"type\": \"scatterternary\"}], \"surface\": [{\"colorbar\": {\"outlinewidth\": 0, \"ticks\": \"\"}, \"colorscale\": [[0.0, \"#0d0887\"], [0.1111111111111111, \"#46039f\"], [0.2222222222222222, \"#7201a8\"], [0.3333333333333333, \"#9c179e\"], [0.4444444444444444, \"#bd3786\"], [0.5555555555555556, \"#d8576b\"], [0.6666666666666666, \"#ed7953\"], [0.7777777777777778, \"#fb9f3a\"], [0.8888888888888888, \"#fdca26\"], [1.0, \"#f0f921\"]], \"type\": \"surface\"}], \"table\": [{\"cells\": {\"fill\": {\"color\": \"#EBF0F8\"}, \"line\": {\"color\": \"white\"}}, \"header\": {\"fill\": {\"color\": \"#C8D4E3\"}, \"line\": {\"color\": \"white\"}}, \"type\": \"table\"}]}, \"layout\": {\"annotationdefaults\": {\"arrowcolor\": \"#2a3f5f\", \"arrowhead\": 0, \"arrowwidth\": 1}, \"coloraxis\": {\"colorbar\": {\"outlinewidth\": 0, \"ticks\": \"\"}}, \"colorscale\": {\"diverging\": [[0, \"#8e0152\"], [0.1, \"#c51b7d\"], [0.2, \"#de77ae\"], [0.3, \"#f1b6da\"], [0.4, \"#fde0ef\"], [0.5, \"#f7f7f7\"], [0.6, \"#e6f5d0\"], [0.7, \"#b8e186\"], [0.8, \"#7fbc41\"], [0.9, \"#4d9221\"], [1, \"#276419\"]], \"sequential\": [[0.0, \"#0d0887\"], [0.1111111111111111, \"#46039f\"], [0.2222222222222222, \"#7201a8\"], [0.3333333333333333, \"#9c179e\"], [0.4444444444444444, \"#bd3786\"], [0.5555555555555556, \"#d8576b\"], [0.6666666666666666, \"#ed7953\"], [0.7777777777777778, \"#fb9f3a\"], [0.8888888888888888, \"#fdca26\"], [1.0, \"#f0f921\"]], \"sequentialminus\": [[0.0, \"#0d0887\"], [0.1111111111111111, \"#46039f\"], [0.2222222222222222, \"#7201a8\"], [0.3333333333333333, \"#9c179e\"], [0.4444444444444444, \"#bd3786\"], [0.5555555555555556, \"#d8576b\"], [0.6666666666666666, \"#ed7953\"], [0.7777777777777778, \"#fb9f3a\"], [0.8888888888888888, \"#fdca26\"], [1.0, \"#f0f921\"]]}, \"colorway\": [\"#636efa\", \"#EF553B\", \"#00cc96\", \"#ab63fa\", \"#FFA15A\", \"#19d3f3\", \"#FF6692\", \"#B6E880\", \"#FF97FF\", \"#FECB52\"], \"font\": {\"color\": \"#2a3f5f\"}, \"geo\": {\"bgcolor\": \"white\", \"lakecolor\": \"white\", \"landcolor\": \"#E5ECF6\", \"showlakes\": true, \"showland\": true, \"subunitcolor\": \"white\"}, \"hoverlabel\": {\"align\": \"left\"}, \"hovermode\": \"closest\", \"mapbox\": {\"style\": \"light\"}, \"paper_bgcolor\": \"white\", \"plot_bgcolor\": \"#E5ECF6\", \"polar\": {\"angularaxis\": {\"gridcolor\": \"white\", \"linecolor\": \"white\", \"ticks\": \"\"}, \"bgcolor\": \"#E5ECF6\", \"radialaxis\": {\"gridcolor\": \"white\", \"linecolor\": \"white\", \"ticks\": \"\"}}, \"scene\": {\"xaxis\": {\"backgroundcolor\": \"#E5ECF6\", \"gridcolor\": \"white\", \"gridwidth\": 2, \"linecolor\": \"white\", \"showbackground\": true, \"ticks\": \"\", \"zerolinecolor\": \"white\"}, \"yaxis\": {\"backgroundcolor\": \"#E5ECF6\", \"gridcolor\": \"white\", \"gridwidth\": 2, \"linecolor\": \"white\", \"showbackground\": true, \"ticks\": \"\", \"zerolinecolor\": \"white\"}, \"zaxis\": {\"backgroundcolor\": \"#E5ECF6\", \"gridcolor\": \"white\", \"gridwidth\": 2, \"linecolor\": \"white\", \"showbackground\": true, \"ticks\": \"\", \"zerolinecolor\": \"white\"}}, \"shapedefaults\": {\"line\": {\"color\": \"#2a3f5f\"}}, \"ternary\": {\"aaxis\": {\"gridcolor\": \"white\", \"linecolor\": \"white\", \"ticks\": \"\"}, \"baxis\": {\"gridcolor\": \"white\", \"linecolor\": \"white\", \"ticks\": \"\"}, \"bgcolor\": \"#E5ECF6\", \"caxis\": {\"gridcolor\": \"white\", \"linecolor\": \"white\", \"ticks\": \"\"}}, \"title\": {\"x\": 0.05}, \"xaxis\": {\"automargin\": true, \"gridcolor\": \"white\", \"linecolor\": \"white\", \"ticks\": \"\", \"title\": {\"standoff\": 15}, \"zerolinecolor\": \"white\", \"zerolinewidth\": 2}, \"yaxis\": {\"automargin\": true, \"gridcolor\": \"white\", \"linecolor\": \"white\", \"ticks\": \"\", \"title\": {\"standoff\": 15}, \"zerolinecolor\": \"white\", \"zerolinewidth\": 2}}}, \"title\": {\"text\": \"TPR and FPR at every threshold\"}, \"width\": 500, \"xaxis\": {\"anchor\": \"y\", \"constrain\": \"domain\", \"domain\": [0.0, 1.0], \"range\": [0, 1], \"title\": {\"text\": \"Thresholds\"}}, \"yaxis\": {\"anchor\": \"x\", \"domain\": [0.0, 1.0], \"scaleanchor\": \"x\", \"scaleratio\": 1, \"title\": {\"text\": \"value\"}}},\n",
       "                        {\"responsive\": true}\n",
       "                    ).then(function(){\n",
       "                            \n",
       "var gd = document.getElementById('f233608a-ce78-4556-9e6d-f64c12ce30e3');\n",
       "var x = new MutationObserver(function (mutations, observer) {{\n",
       "        var display = window.getComputedStyle(gd).display;\n",
       "        if (!display || display === 'none') {{\n",
       "            console.log([gd, 'removed!']);\n",
       "            Plotly.purge(gd);\n",
       "            observer.disconnect();\n",
       "        }}\n",
       "}});\n",
       "\n",
       "// Listen for the removal of the full notebook cells\n",
       "var notebookContainer = gd.closest('#notebook-container');\n",
       "if (notebookContainer) {{\n",
       "    x.observe(notebookContainer, {childList: true});\n",
       "}}\n",
       "\n",
       "// Listen for the clearing of the current output cell\n",
       "var outputEl = gd.closest('.output');\n",
       "if (outputEl) {{\n",
       "    x.observe(outputEl, {childList: true});\n",
       "}}\n",
       "\n",
       "                        })\n",
       "                };\n",
       "                });\n",
       "            </script>\n",
       "        </div>"
      ]
     },
     "metadata": {},
     "output_type": "display_data"
    }
   ],
   "source": [
    "import plotly.express as px\n",
    "df = pd.DataFrame({\n",
    "    'False Positive Rate': fpr,\n",
    "    'True Positive Rate': tpr\n",
    "}, index=thresholds)\n",
    "df.index.name = \"Thresholds\"\n",
    "df.columns.name = \"Rate\"\n",
    "\n",
    "fig = px.line(\n",
    "    df,\n",
    "    title='TPR and FPR at every threshold',\n",
    "    width=500,\n",
    "    height=500,\n",
    ")\n",
    "fig.update_yaxes(scaleanchor=\"x\", scaleratio=1)\n",
    "fig.update_xaxes(range=[0, 1], constrain='domain')\n",
    "\n",
    "fig.show()\n",
    "\n",
    "fig.write_image(\"tpr-vs-fpr.png\")"
   ]
  },
  {
   "cell_type": "code",
   "execution_count": 122,
   "metadata": {},
   "outputs": [
    {
     "data": {
      "text/plain": [
       "array([[0.63988724, 0.0584919 ],\n",
       "       [0.17054264, 0.13107822]])"
      ]
     },
     "execution_count": 122,
     "metadata": {},
     "output_type": "execute_result"
    }
   ],
   "source": [
    "confusion_matrix(y_test, y_pred, normalize = 'all')"
   ]
  },
  {
   "cell_type": "code",
   "execution_count": 125,
   "metadata": {},
   "outputs": [
    {
     "data": {
      "text/plain": [
       "0.30162085976039466"
      ]
     },
     "execution_count": 125,
     "metadata": {},
     "output_type": "execute_result"
    }
   ],
   "source": [
    "y_test.sum() / y_test.shape[0]"
   ]
  },
  {
   "cell_type": "code",
   "execution_count": 102,
   "metadata": {
    "scrolled": true
   },
   "outputs": [
    {
     "data": {
      "text/plain": [
       "<matplotlib.axes._subplots.AxesSubplot at 0x1e53c786648>"
      ]
     },
     "execution_count": 102,
     "metadata": {},
     "output_type": "execute_result"
    },
    {
     "data": {
      "image/png": "[encoded data removed]",
      "text/plain": [
       "<Figure size 432x288 with 2 Axes>"
      ]
     },
     "metadata": {
      "needs_background": "light"
     },
     "output_type": "display_data"
    }
   ],
   "source": [
    "sns.heatmap(confusion_matrix(y_test, y_pred, normalize = 'all'), annot = True, cmap=\"Blues\")"
   ]
  },
  {
   "cell_type": "code",
   "execution_count": 170,
   "metadata": {},
   "outputs": [
    {
     "data": {
      "text/plain": [
       "<matplotlib.axes._subplots.AxesSubplot at 0x1e500049848>"
      ]
     },
     "execution_count": 170,
     "metadata": {},
     "output_type": "execute_result"
    },
    {
     "data": {
      "image/png": "[encoded data removed]",
      "text/plain": [
       "<Figure size 432x288 with 2 Axes>"
      ]
     },
     "metadata": {
      "needs_background": "light"
     },
     "output_type": "display_data"
    }
   ],
   "source": [
    "from sklearn.metrics import classification_report\n",
    "clf_report  = classification_report(y_pred, y_test, output_dict=True)\n",
    "sns.heatmap(pd.DataFrame(clf_report).iloc[:-1, :].T, annot=True)"
   ]
  },
  {
   "cell_type": "code",
   "execution_count": 104,
   "metadata": {},
   "outputs": [
    {
     "data": {
      "text/plain": [
       "0.47503936720816287"
      ]
     },
     "execution_count": 104,
     "metadata": {},
     "output_type": "execute_result"
    }
   ],
   "source": [
    "log_loss(y_test, y_pred_proba)"
   ]
  },
  {
   "cell_type": "code",
   "execution_count": 105,
   "metadata": {},
   "outputs": [
    {
     "data": {
      "text/plain": [
       "0.4831879939382996"
      ]
     },
     "execution_count": 105,
     "metadata": {},
     "output_type": "execute_result"
    }
   ],
   "source": [
    "log_loss(y_train, model.predict_proba(X_train))"
   ]
  },
  {
   "cell_type": "code",
   "execution_count": null,
   "metadata": {},
   "outputs": [],
   "source": []
  }
 ],
 "metadata": {
  "kernelspec": {
   "display_name": "Python 3",
   "language": "python",
   "name": "python3"
  },
  "language_info": {
   "codemirror_mode": {
    "name": "ipython",
    "version": 3
   },
   "file_extension": ".py",
   "mimetype": "text/x-python",
   "name": "python",
   "nbconvert_exporter": "python",
   "pygments_lexer": "ipython3",
   "version": "3.7.7"
  }
 },
 "nbformat": 4,
 "nbformat_minor": 4
}
