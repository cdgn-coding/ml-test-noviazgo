{
 "cells": [
  {
   "cell_type": "code",
   "execution_count": 104,
   "metadata": {},
   "outputs": [],
   "source": [
    "import pandas as pd\n",
    "import datetime\n",
    "import random\n",
    "import matplotlib.pyplot as plt\n",
    "import plotly.express as px\n",
    "import seaborn as sns\n",
    "import numpy as np\n",
    "import plotly.graph_objects as go"
   ]
  },
  {
   "cell_type": "code",
   "execution_count": 105,
   "metadata": {},
   "outputs": [],
   "source": [
    "aa = pd.read_csv(\"dataset_joined.csv\").drop(columns=['Unnamed: 0', 'pregunta_1',\n",
    "       'pregunta_2', 'pregunta_3', 'pregunta_4', 'pregunta_5', 'pregunta_6',\n",
    "       'pregunta_7', 'pregunta_8', 'pregunta_9', 'pregunta_10', 'pregunta_11',\n",
    "       'pregunta_12', 'pregunta_13', \"barrio\",\n",
    "       'poblacion_por_barrio'])"
   ]
  },
  {
   "cell_type": "code",
   "execution_count": 106,
   "metadata": {},
   "outputs": [],
   "source": [
    "aa[\"fecha\"]  = pd.to_datetime(aa['fecha'], format='%Y-%m-%d')\n",
    "#aa[\"hora\"] = pd.to_datetime(aa['hora'], format='%Y-%m-%d')\n",
    "#date_dt2 = datetime.strptime(date_str2, '%y/%m/%d')"
   ]
  },
  {
   "cell_type": "code",
   "execution_count": 107,
   "metadata": {},
   "outputs": [
    {
     "data": {
      "image/png": "[encoded data removed]",
      "text/plain": [
       "<Figure size 432x288 with 1 Axes>"
      ]
     },
     "metadata": {
      "needs_background": "light"
     },
     "output_type": "display_data"
    }
   ],
   "source": [
    "# plot\n",
    "plt.scatter(aa[\"fecha\"],aa[\"edad\"])\n",
    "# beautify the x-labels\n",
    "plt.gcf().autofmt_xdate()\n",
    "plt.show()"
   ]
  },
  {
   "cell_type": "code",
   "execution_count": null,
   "metadata": {},
   "outputs": [],
   "source": [
    "# Create figure and plot space\n",
    "fig, ax = plt.subplots(figsize=(10, 10))\n",
    "\n",
    "# Add x-axis and y-axis\n",
    "ax.bar(aa[\"fecha\"],\n",
    "        aa[\"edad\"],\n",
    "        color='purple')\n",
    "\n",
    "# Set title and labels for axes\n",
    "ax.set(xlabel=\"Fecha\",\n",
    "       ylabel=\"Edad\",\n",
    "       title=\"Encuestas completadas por fecha\")\n",
    "\n",
    "# Rotate tick marks on x-axis\n",
    "plt.setp(ax.get_xticklabels(), rotation=45)\n",
    "\n",
    "plt.show()\n",
    "plt.savefig('encuestascompletadasporfecha.png')"
   ]
  },
  {
   "cell_type": "code",
   "execution_count": null,
   "metadata": {},
   "outputs": [],
   "source": [
    "aa_mujer_mask = aa.genero == \"Mujer\"\n",
    "aa_mujer = aa[aa_mujer_mask]\n",
    "aa_mujer= aa_mujer.apply(lambda x: x.astype(str).str.upper())\n",
    "aa_mujer.rename(columns = {'barrio_completo':'BARRIO'}, inplace = True) \n",
    "aa_varon_mask = aa.genero == \"Hombre\"\n",
    "aa_varon = aa[aa_varon_mask]\n",
    "aa_varon= aa_varon.apply(lambda x: x.astype(str).str.upper())\n",
    "aa_varon.rename(columns = {'barrio_completo':'BARRIO'}, inplace = True) "
   ]
  },
  {
   "cell_type": "code",
   "execution_count": null,
   "metadata": {},
   "outputs": [],
   "source": [
    "aa_mujer2 = aa_mujer[[\"genero\",\"fecha\"]]\n",
    "aa_varon2 =  aa_varon[[\"genero\",\"fecha\"]]\n",
    "otro_mask = aa.genero == \"Otro\"\n",
    "aa_otro = aa[otro_mask]"
   ]
  },
  {
   "cell_type": "code",
   "execution_count": null,
   "metadata": {},
   "outputs": [],
   "source": [
    "import datetime\n",
    "import random\n",
    "import matplotlib.pyplot as plt\n",
    "\n",
    "# plot\n",
    "plt.scatter(aa[\"hora\"],aa[\"edad\"])\n",
    "# beautify the x-labels\n",
    "plt.gcf().autofmt_xdate()\n",
    "plt.figure(figsize=(4000,4000))\n",
    "plt.show()"
   ]
  },
  {
   "cell_type": "markdown",
   "metadata": {},
   "source": [
    "### Probamos otra cosa con fechas"
   ]
  },
  {
   "cell_type": "code",
   "execution_count": null,
   "metadata": {},
   "outputs": [],
   "source": [
    "aver = aa[[\"fecha\",\"hora\",\"genero\"]]\n",
    "aver['poraño'] = aver['fecha'].map(lambda x: x.strftime('%Y'))\n",
    "grouped_df = aver.groupby('fecha').size()\n"
   ]
  },
  {
   "cell_type": "code",
   "execution_count": null,
   "metadata": {},
   "outputs": [],
   "source": [
    "grafico_fecha = pd.DataFrame(grouped_df.reset_index(name = \"Group_Count\"))\n",
    "grafico_fecha.head(4)"
   ]
  },
  {
   "cell_type": "code",
   "execution_count": null,
   "metadata": {},
   "outputs": [],
   "source": [
    "fig = px.bar(grafico_fecha, x=\"fecha\", y=\"Group_Count\")\n",
    "fig.show()"
   ]
  },
  {
   "cell_type": "code",
   "execution_count": null,
   "metadata": {},
   "outputs": [],
   "source": [
    "fig = go.Figure([go.Scatter(x=grafico_fecha['fecha'], y=grafico_fecha[\"Group_Count\"])])\n",
    "fig.show()"
   ]
  },
  {
   "cell_type": "code",
   "execution_count": null,
   "metadata": {},
   "outputs": [],
   "source": [
    "grouped_hora = aver.groupby('hora').size()\n",
    "grafico_hora = pd.DataFrame(grouped_hora.reset_index(name = \"Group_Count\"))\n",
    "fig = px.bar(grafico_hora, x=\"hora\", y=\"Group_Count\")\n",
    "fig.show()"
   ]
  },
  {
   "cell_type": "markdown",
   "metadata": {},
   "source": [
    "### Probamos otra cosa con horarios"
   ]
  },
  {
   "cell_type": "code",
   "execution_count": null,
   "metadata": {},
   "outputs": [],
   "source": [
    "aver[\"hora\"] = pd.to_datetime(aver['hora'], format='%H:%M:%S')\n",
    "aver['hora'] = aver['hora'].map(lambda x: x.strftime('%T'))\n",
    "\n",
    "grouped_hora = aver.groupby('hora').size()\n",
    "grafico_hora = pd.DataFrame(grouped_hora.reset_index(name = \"Group_Count\"))\n",
    "\n",
    "\n",
    "fig = px.bar(grafico_hora, x=\"hora\", y=\"Group_Count\")\n",
    "fig.show()"
   ]
  },
  {
   "cell_type": "markdown",
   "metadata": {},
   "source": [
    "### Vemos de hacer por género"
   ]
  },
  {
   "cell_type": "code",
   "execution_count": null,
   "metadata": {},
   "outputs": [],
   "source": [
    "aver[\"hora\"] = pd.to_datetime(aver['hora'], format='%H:%M:%S')\n",
    "aver['hora'] = aver['hora'].map(lambda x: x.strftime('%T'))\n",
    "aver.dtypes"
   ]
  },
  {
   "cell_type": "code",
   "execution_count": null,
   "metadata": {},
   "outputs": [],
   "source": [
    "aver_hombre_m = aver.genero == \"Hombre\"\n",
    "aver_hombre = aver[aver_hombre_m]\n",
    "\n",
    "aver_mujer_m= aver.genero == \"Mujer\"\n",
    "aver_mujer = aver[aver_mujer_m]\n",
    "\n",
    "aver_otro_m= aver.genero == \"Otro\"\n",
    "aver_otro = aver[aver_otro_m]"
   ]
  },
  {
   "cell_type": "code",
   "execution_count": null,
   "metadata": {},
   "outputs": [],
   "source": [
    "hombre_fecha = aver_hombre.groupby('fecha').size()\n",
    "hombre_fecha = pd.DataFrame(hombre_fecha.reset_index(name = \"Group_Count\"))\n",
    "\n",
    "\n",
    "mujer_fecha = aver_mujer.groupby('fecha').size()\n",
    "mujer_fecha = pd.DataFrame(mujer_fecha.reset_index(name = \"Group_Count\"))\n",
    "\n",
    "\n",
    "otro_fecha = aver_otro.groupby('fecha').size()\n",
    "otro_fecha = pd.DataFrame(otro_fecha.reset_index(name = \"Group_Count\"))"
   ]
  },
  {
   "cell_type": "code",
   "execution_count": null,
   "metadata": {},
   "outputs": [],
   "source": [
    "plt.figure(figsize=(10, 5))\n",
    "plt.plot(hombre_fecha['fecha'], hombre_fecha['Group_Count'], 'b-', label = 'Hombre')\n",
    "plt.plot(mujer_fecha['fecha'], mujer_fecha['Group_Count'], 'r-',color=\"red\", label = 'Mujer')\n",
    "plt.plot(otro_fecha['fecha'], otro_fecha['Group_Count'], 'r-',color=\"green\", label = 'Otro')\n",
    "plt.xlabel('fecha'); plt.ylabel('genero'); plt.title('Encuestas completadas por género y fecha')\n",
    "plt.legend();"
   ]
  },
  {
   "cell_type": "markdown",
   "metadata": {},
   "source": [
    "### Intentamos agrupar por hora"
   ]
  },
  {
   "cell_type": "code",
   "execution_count": null,
   "metadata": {},
   "outputs": [],
   "source": [
    "aver.groupby(aver.Grouper(key=\"hora\", freq=\"8H\"))"
   ]
  },
  {
   "cell_type": "code",
   "execution_count": null,
   "metadata": {},
   "outputs": [],
   "source": []
  },
  {
   "cell_type": "code",
   "execution_count": null,
   "metadata": {},
   "outputs": [],
   "source": []
  },
  {
   "cell_type": "code",
   "execution_count": null,
   "metadata": {},
   "outputs": [],
   "source": []
  },
  {
   "cell_type": "code",
   "execution_count": null,
   "metadata": {},
   "outputs": [],
   "source": []
  },
  {
   "cell_type": "code",
   "execution_count": null,
   "metadata": {},
   "outputs": [],
   "source": []
  },
  {
   "cell_type": "code",
   "execution_count": null,
   "metadata": {},
   "outputs": [],
   "source": []
  },
  {
   "cell_type": "code",
   "execution_count": null,
   "metadata": {},
   "outputs": [],
   "source": []
  }
 ],
 "metadata": {
  "kernelspec": {
   "display_name": "Python 3",
   "language": "python",
   "name": "python3"
  },
  "language_info": {
   "codemirror_mode": {
    "name": "ipython",
    "version": 3
   },
   "file_extension": ".py",
   "mimetype": "text/x-python",
   "name": "python",
   "nbconvert_exporter": "python",
   "pygments_lexer": "ipython3",
   "version": "3.7.7"
  }
 },
 "nbformat": 4,
 "nbformat_minor": 4
}
